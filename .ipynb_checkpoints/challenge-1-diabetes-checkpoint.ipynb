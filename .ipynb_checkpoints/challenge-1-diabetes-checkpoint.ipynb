{
 "cells": [
  {
   "cell_type": "markdown",
   "metadata": {},
   "source": [
    "# Estudo do Instituto Nacional de Diabetes e Doencas Digestivas e Renais"
   ]
  },
  {
   "cell_type": "markdown",
   "metadata": {},
   "source": [
    "Abaixo você encontra os detalhes do dataset a ser usado nesta competição.\n",
    "\n",
    "O conjunto de dados é do Instituto Nacional de Diabetes e Doenças Digestivas e Renais (National Institute of Diabetes and Digestive and Kidney Diseases). O objetivo é prever com base em medidas de diagnóstico, se um paciente tem diabetes. Várias restrições foram colocadas na seleção dessas instâncias de um banco de dados maior. Em particular, todos os pacientes aqui são do sexo feminino com pelo menos 21 anos de idade.\n",
    "\n",
    "Descrição dos Arquivos\n",
    "<br />\n",
    "dataset_treino.csv - contém o conjunto de dados de treinamento\n",
    "<br />dataset_teste.csv - contém o conjunto de dados de teste\n",
    "<br />sampleSubmission.csv - contém o template para você enviar a sua solução\n",
    "<br />\n",
    "<br />Descrição dos Campos\n",
    "<br />num_gestacoes - Número de vezes grávida\n",
    "<br />glicose - Concentração plasmática de glicose em teste oral de tolerância à glicose\n",
    "<br />pressao_sanguinea - Pressão arterial diastólica em mm Hg\n",
    "<br />grossura_pele - Espessura da dobra da pele do tríceps em mm\n",
    "<br />insulina - Insulina em mu U / ml\n",
    "<br />bmi - Índice de massa corporal medido em peso em kg / (altura em m) ^ 2\n",
    "<br />indice_historico - Índice de histórico de diabetes (Pedigree Function)\n",
    "<br />idade - Idade em anos\n",
    "<br />classe - Classe (0 - não desenvolveu a doença / 1 - desenvolveu a doença)\n",
    "\n",
    "<br />\n",
    "Objetivo:\n",
    "<br/>Nesta competição seu trabalho será criar um modelo de Machine Learning para prever a ocorrência de doenças."
   ]
  },
  {
   "cell_type": "code",
   "execution_count": 59,
   "metadata": {
    "ExecuteTime": {
     "end_time": "2020-07-15T16:35:20.992482Z",
     "start_time": "2020-07-15T16:35:20.982663Z"
    }
   },
   "outputs": [],
   "source": [
    "# Importando os pacotes\n",
    "import pandas as pd \n",
    "import numpy as np\n",
    "from scipy import stats as sts\n",
    "from sklearn import preprocessing\n",
    "from sklearn import linear_model\n",
    "from sklearn import model_selection\n",
    "from sklearn import metrics\n",
    "from matplotlib import pyplot as plt\n",
    "%matplotlib inline"
   ]
  },
  {
   "cell_type": "code",
   "execution_count": 2,
   "metadata": {
    "ExecuteTime": {
     "end_time": "2020-07-15T16:20:44.910121Z",
     "start_time": "2020-07-15T16:20:44.897512Z"
    }
   },
   "outputs": [
    {
     "data": {
      "text/html": [
       "<div>\n",
       "<style scoped>\n",
       "    .dataframe tbody tr th:only-of-type {\n",
       "        vertical-align: middle;\n",
       "    }\n",
       "\n",
       "    .dataframe tbody tr th {\n",
       "        vertical-align: top;\n",
       "    }\n",
       "\n",
       "    .dataframe thead th {\n",
       "        text-align: right;\n",
       "    }\n",
       "</style>\n",
       "<table border=\"1\" class=\"dataframe\">\n",
       "  <thead>\n",
       "    <tr style=\"text-align: right;\">\n",
       "      <th></th>\n",
       "      <th>id</th>\n",
       "      <th>num_gestacoes</th>\n",
       "      <th>glicose</th>\n",
       "      <th>pressao_sanguinea</th>\n",
       "      <th>grossura_pele</th>\n",
       "      <th>insulina</th>\n",
       "      <th>bmi</th>\n",
       "      <th>indice_historico</th>\n",
       "      <th>idade</th>\n",
       "      <th>classe</th>\n",
       "    </tr>\n",
       "  </thead>\n",
       "  <tbody>\n",
       "    <tr>\n",
       "      <th>0</th>\n",
       "      <td>1</td>\n",
       "      <td>6</td>\n",
       "      <td>148</td>\n",
       "      <td>72</td>\n",
       "      <td>35</td>\n",
       "      <td>0</td>\n",
       "      <td>33.6</td>\n",
       "      <td>0.627</td>\n",
       "      <td>50</td>\n",
       "      <td>1</td>\n",
       "    </tr>\n",
       "    <tr>\n",
       "      <th>1</th>\n",
       "      <td>2</td>\n",
       "      <td>1</td>\n",
       "      <td>85</td>\n",
       "      <td>66</td>\n",
       "      <td>29</td>\n",
       "      <td>0</td>\n",
       "      <td>26.6</td>\n",
       "      <td>0.351</td>\n",
       "      <td>31</td>\n",
       "      <td>0</td>\n",
       "    </tr>\n",
       "    <tr>\n",
       "      <th>2</th>\n",
       "      <td>3</td>\n",
       "      <td>8</td>\n",
       "      <td>183</td>\n",
       "      <td>64</td>\n",
       "      <td>0</td>\n",
       "      <td>0</td>\n",
       "      <td>23.3</td>\n",
       "      <td>0.672</td>\n",
       "      <td>32</td>\n",
       "      <td>1</td>\n",
       "    </tr>\n",
       "    <tr>\n",
       "      <th>3</th>\n",
       "      <td>4</td>\n",
       "      <td>1</td>\n",
       "      <td>89</td>\n",
       "      <td>66</td>\n",
       "      <td>23</td>\n",
       "      <td>94</td>\n",
       "      <td>28.1</td>\n",
       "      <td>0.167</td>\n",
       "      <td>21</td>\n",
       "      <td>0</td>\n",
       "    </tr>\n",
       "    <tr>\n",
       "      <th>4</th>\n",
       "      <td>5</td>\n",
       "      <td>0</td>\n",
       "      <td>137</td>\n",
       "      <td>40</td>\n",
       "      <td>35</td>\n",
       "      <td>168</td>\n",
       "      <td>43.1</td>\n",
       "      <td>2.288</td>\n",
       "      <td>33</td>\n",
       "      <td>1</td>\n",
       "    </tr>\n",
       "  </tbody>\n",
       "</table>\n",
       "</div>"
      ],
      "text/plain": [
       "   id  num_gestacoes  glicose  pressao_sanguinea  grossura_pele  insulina  \\\n",
       "0   1              6      148                 72             35         0   \n",
       "1   2              1       85                 66             29         0   \n",
       "2   3              8      183                 64              0         0   \n",
       "3   4              1       89                 66             23        94   \n",
       "4   5              0      137                 40             35       168   \n",
       "\n",
       "    bmi  indice_historico  idade  classe  \n",
       "0  33.6             0.627     50       1  \n",
       "1  26.6             0.351     31       0  \n",
       "2  23.3             0.672     32       1  \n",
       "3  28.1             0.167     21       0  \n",
       "4  43.1             2.288     33       1  "
      ]
     },
     "execution_count": 2,
     "metadata": {},
     "output_type": "execute_result"
    }
   ],
   "source": [
    "# Carregando os dados\n",
    "df_treino = pd.read_csv(\"../../dados/challenge_1/dados/dataset_treino.csv\")\n",
    "df_treino.head()"
   ]
  },
  {
   "cell_type": "markdown",
   "metadata": {
    "heading_collapsed": true
   },
   "source": [
    "## Analise Exploratoria dos dados"
   ]
  },
  {
   "cell_type": "code",
   "execution_count": 3,
   "metadata": {
    "ExecuteTime": {
     "end_time": "2020-07-15T16:20:44.915086Z",
     "start_time": "2020-07-15T16:20:44.911939Z"
    },
    "hidden": true
   },
   "outputs": [
    {
     "data": {
      "text/plain": [
       "(600, 10)"
      ]
     },
     "execution_count": 3,
     "metadata": {},
     "output_type": "execute_result"
    }
   ],
   "source": [
    "df_treino.shape"
   ]
  },
  {
   "cell_type": "code",
   "execution_count": 4,
   "metadata": {
    "ExecuteTime": {
     "end_time": "2020-07-15T16:20:44.918877Z",
     "start_time": "2020-07-15T16:20:44.916236Z"
    },
    "hidden": true
   },
   "outputs": [],
   "source": [
    "# Retirando a coluna id\n",
    "df_treino = df_treino.drop(['id'], axis=1)"
   ]
  },
  {
   "cell_type": "code",
   "execution_count": 5,
   "metadata": {
    "ExecuteTime": {
     "end_time": "2020-07-15T16:20:44.926936Z",
     "start_time": "2020-07-15T16:20:44.919967Z"
    },
    "hidden": true
   },
   "outputs": [
    {
     "data": {
      "text/html": [
       "<div>\n",
       "<style scoped>\n",
       "    .dataframe tbody tr th:only-of-type {\n",
       "        vertical-align: middle;\n",
       "    }\n",
       "\n",
       "    .dataframe tbody tr th {\n",
       "        vertical-align: top;\n",
       "    }\n",
       "\n",
       "    .dataframe thead th {\n",
       "        text-align: right;\n",
       "    }\n",
       "</style>\n",
       "<table border=\"1\" class=\"dataframe\">\n",
       "  <thead>\n",
       "    <tr style=\"text-align: right;\">\n",
       "      <th></th>\n",
       "      <th>num_gestacoes</th>\n",
       "      <th>glicose</th>\n",
       "      <th>pressao_sanguinea</th>\n",
       "      <th>grossura_pele</th>\n",
       "      <th>insulina</th>\n",
       "      <th>bmi</th>\n",
       "      <th>indice_historico</th>\n",
       "      <th>idade</th>\n",
       "      <th>classe</th>\n",
       "    </tr>\n",
       "  </thead>\n",
       "  <tbody>\n",
       "    <tr>\n",
       "      <th>0</th>\n",
       "      <td>6</td>\n",
       "      <td>148</td>\n",
       "      <td>72</td>\n",
       "      <td>35</td>\n",
       "      <td>0</td>\n",
       "      <td>33.6</td>\n",
       "      <td>0.627</td>\n",
       "      <td>50</td>\n",
       "      <td>1</td>\n",
       "    </tr>\n",
       "    <tr>\n",
       "      <th>1</th>\n",
       "      <td>1</td>\n",
       "      <td>85</td>\n",
       "      <td>66</td>\n",
       "      <td>29</td>\n",
       "      <td>0</td>\n",
       "      <td>26.6</td>\n",
       "      <td>0.351</td>\n",
       "      <td>31</td>\n",
       "      <td>0</td>\n",
       "    </tr>\n",
       "    <tr>\n",
       "      <th>2</th>\n",
       "      <td>8</td>\n",
       "      <td>183</td>\n",
       "      <td>64</td>\n",
       "      <td>0</td>\n",
       "      <td>0</td>\n",
       "      <td>23.3</td>\n",
       "      <td>0.672</td>\n",
       "      <td>32</td>\n",
       "      <td>1</td>\n",
       "    </tr>\n",
       "    <tr>\n",
       "      <th>3</th>\n",
       "      <td>1</td>\n",
       "      <td>89</td>\n",
       "      <td>66</td>\n",
       "      <td>23</td>\n",
       "      <td>94</td>\n",
       "      <td>28.1</td>\n",
       "      <td>0.167</td>\n",
       "      <td>21</td>\n",
       "      <td>0</td>\n",
       "    </tr>\n",
       "    <tr>\n",
       "      <th>4</th>\n",
       "      <td>0</td>\n",
       "      <td>137</td>\n",
       "      <td>40</td>\n",
       "      <td>35</td>\n",
       "      <td>168</td>\n",
       "      <td>43.1</td>\n",
       "      <td>2.288</td>\n",
       "      <td>33</td>\n",
       "      <td>1</td>\n",
       "    </tr>\n",
       "  </tbody>\n",
       "</table>\n",
       "</div>"
      ],
      "text/plain": [
       "   num_gestacoes  glicose  pressao_sanguinea  grossura_pele  insulina   bmi  \\\n",
       "0              6      148                 72             35         0  33.6   \n",
       "1              1       85                 66             29         0  26.6   \n",
       "2              8      183                 64              0         0  23.3   \n",
       "3              1       89                 66             23        94  28.1   \n",
       "4              0      137                 40             35       168  43.1   \n",
       "\n",
       "   indice_historico  idade  classe  \n",
       "0             0.627     50       1  \n",
       "1             0.351     31       0  \n",
       "2             0.672     32       1  \n",
       "3             0.167     21       0  \n",
       "4             2.288     33       1  "
      ]
     },
     "execution_count": 5,
     "metadata": {},
     "output_type": "execute_result"
    }
   ],
   "source": [
    "df_treino.head()"
   ]
  },
  {
   "cell_type": "code",
   "execution_count": 6,
   "metadata": {
    "ExecuteTime": {
     "end_time": "2020-07-15T16:20:44.930504Z",
     "start_time": "2020-07-15T16:20:44.927941Z"
    },
    "hidden": true
   },
   "outputs": [
    {
     "data": {
      "text/plain": [
       "RangeIndex(start=0, stop=600, step=1)"
      ]
     },
     "execution_count": 6,
     "metadata": {},
     "output_type": "execute_result"
    }
   ],
   "source": [
    "df_treino.index"
   ]
  },
  {
   "cell_type": "code",
   "execution_count": 7,
   "metadata": {
    "ExecuteTime": {
     "end_time": "2020-07-15T16:20:44.934748Z",
     "start_time": "2020-07-15T16:20:44.931793Z"
    },
    "hidden": true
   },
   "outputs": [
    {
     "data": {
      "text/plain": [
       "Index(['num_gestacoes', 'glicose', 'pressao_sanguinea', 'grossura_pele',\n",
       "       'insulina', 'bmi', 'indice_historico', 'idade', 'classe'],\n",
       "      dtype='object')"
      ]
     },
     "execution_count": 7,
     "metadata": {},
     "output_type": "execute_result"
    }
   ],
   "source": [
    "df_treino.columns"
   ]
  },
  {
   "cell_type": "code",
   "execution_count": 8,
   "metadata": {
    "ExecuteTime": {
     "end_time": "2020-07-15T16:20:44.939433Z",
     "start_time": "2020-07-15T16:20:44.935764Z"
    },
    "hidden": true
   },
   "outputs": [
    {
     "data": {
      "text/plain": [
       "num_gestacoes        600\n",
       "glicose              600\n",
       "pressao_sanguinea    600\n",
       "grossura_pele        600\n",
       "insulina             600\n",
       "bmi                  600\n",
       "indice_historico     600\n",
       "idade                600\n",
       "classe               600\n",
       "dtype: int64"
      ]
     },
     "execution_count": 8,
     "metadata": {},
     "output_type": "execute_result"
    }
   ],
   "source": [
    "df_treino.count()"
   ]
  },
  {
   "cell_type": "code",
   "execution_count": 9,
   "metadata": {
    "ExecuteTime": {
     "end_time": "2020-07-15T16:20:44.974329Z",
     "start_time": "2020-07-15T16:20:44.940756Z"
    },
    "hidden": true
   },
   "outputs": [
    {
     "data": {
      "text/html": [
       "<div>\n",
       "<style scoped>\n",
       "    .dataframe tbody tr th:only-of-type {\n",
       "        vertical-align: middle;\n",
       "    }\n",
       "\n",
       "    .dataframe tbody tr th {\n",
       "        vertical-align: top;\n",
       "    }\n",
       "\n",
       "    .dataframe thead th {\n",
       "        text-align: right;\n",
       "    }\n",
       "</style>\n",
       "<table border=\"1\" class=\"dataframe\">\n",
       "  <thead>\n",
       "    <tr style=\"text-align: right;\">\n",
       "      <th></th>\n",
       "      <th>num_gestacoes</th>\n",
       "      <th>glicose</th>\n",
       "      <th>pressao_sanguinea</th>\n",
       "      <th>grossura_pele</th>\n",
       "      <th>insulina</th>\n",
       "      <th>bmi</th>\n",
       "      <th>indice_historico</th>\n",
       "      <th>idade</th>\n",
       "      <th>classe</th>\n",
       "    </tr>\n",
       "  </thead>\n",
       "  <tbody>\n",
       "    <tr>\n",
       "      <th>count</th>\n",
       "      <td>600.000000</td>\n",
       "      <td>600.000000</td>\n",
       "      <td>600.000000</td>\n",
       "      <td>600.000000</td>\n",
       "      <td>600.000000</td>\n",
       "      <td>600.000000</td>\n",
       "      <td>600.000000</td>\n",
       "      <td>600.000000</td>\n",
       "      <td>600.000000</td>\n",
       "    </tr>\n",
       "    <tr>\n",
       "      <th>mean</th>\n",
       "      <td>3.820000</td>\n",
       "      <td>120.135000</td>\n",
       "      <td>68.681667</td>\n",
       "      <td>20.558333</td>\n",
       "      <td>79.528333</td>\n",
       "      <td>31.905333</td>\n",
       "      <td>0.481063</td>\n",
       "      <td>33.278333</td>\n",
       "      <td>0.346667</td>\n",
       "    </tr>\n",
       "    <tr>\n",
       "      <th>std</th>\n",
       "      <td>3.362009</td>\n",
       "      <td>32.658246</td>\n",
       "      <td>19.360226</td>\n",
       "      <td>16.004588</td>\n",
       "      <td>116.490583</td>\n",
       "      <td>8.009638</td>\n",
       "      <td>0.337284</td>\n",
       "      <td>11.822315</td>\n",
       "      <td>0.476306</td>\n",
       "    </tr>\n",
       "    <tr>\n",
       "      <th>min</th>\n",
       "      <td>0.000000</td>\n",
       "      <td>0.000000</td>\n",
       "      <td>0.000000</td>\n",
       "      <td>0.000000</td>\n",
       "      <td>0.000000</td>\n",
       "      <td>0.000000</td>\n",
       "      <td>0.078000</td>\n",
       "      <td>21.000000</td>\n",
       "      <td>0.000000</td>\n",
       "    </tr>\n",
       "    <tr>\n",
       "      <th>25%</th>\n",
       "      <td>1.000000</td>\n",
       "      <td>99.000000</td>\n",
       "      <td>64.000000</td>\n",
       "      <td>0.000000</td>\n",
       "      <td>0.000000</td>\n",
       "      <td>27.075000</td>\n",
       "      <td>0.248000</td>\n",
       "      <td>24.000000</td>\n",
       "      <td>0.000000</td>\n",
       "    </tr>\n",
       "    <tr>\n",
       "      <th>50%</th>\n",
       "      <td>3.000000</td>\n",
       "      <td>116.000000</td>\n",
       "      <td>70.000000</td>\n",
       "      <td>23.000000</td>\n",
       "      <td>36.500000</td>\n",
       "      <td>32.000000</td>\n",
       "      <td>0.384000</td>\n",
       "      <td>29.000000</td>\n",
       "      <td>0.000000</td>\n",
       "    </tr>\n",
       "    <tr>\n",
       "      <th>75%</th>\n",
       "      <td>6.000000</td>\n",
       "      <td>140.000000</td>\n",
       "      <td>80.000000</td>\n",
       "      <td>32.000000</td>\n",
       "      <td>122.750000</td>\n",
       "      <td>36.525000</td>\n",
       "      <td>0.647000</td>\n",
       "      <td>40.000000</td>\n",
       "      <td>1.000000</td>\n",
       "    </tr>\n",
       "    <tr>\n",
       "      <th>max</th>\n",
       "      <td>17.000000</td>\n",
       "      <td>198.000000</td>\n",
       "      <td>122.000000</td>\n",
       "      <td>99.000000</td>\n",
       "      <td>846.000000</td>\n",
       "      <td>67.100000</td>\n",
       "      <td>2.420000</td>\n",
       "      <td>81.000000</td>\n",
       "      <td>1.000000</td>\n",
       "    </tr>\n",
       "  </tbody>\n",
       "</table>\n",
       "</div>"
      ],
      "text/plain": [
       "       num_gestacoes     glicose  pressao_sanguinea  grossura_pele  \\\n",
       "count     600.000000  600.000000         600.000000     600.000000   \n",
       "mean        3.820000  120.135000          68.681667      20.558333   \n",
       "std         3.362009   32.658246          19.360226      16.004588   \n",
       "min         0.000000    0.000000           0.000000       0.000000   \n",
       "25%         1.000000   99.000000          64.000000       0.000000   \n",
       "50%         3.000000  116.000000          70.000000      23.000000   \n",
       "75%         6.000000  140.000000          80.000000      32.000000   \n",
       "max        17.000000  198.000000         122.000000      99.000000   \n",
       "\n",
       "         insulina         bmi  indice_historico       idade      classe  \n",
       "count  600.000000  600.000000        600.000000  600.000000  600.000000  \n",
       "mean    79.528333   31.905333          0.481063   33.278333    0.346667  \n",
       "std    116.490583    8.009638          0.337284   11.822315    0.476306  \n",
       "min      0.000000    0.000000          0.078000   21.000000    0.000000  \n",
       "25%      0.000000   27.075000          0.248000   24.000000    0.000000  \n",
       "50%     36.500000   32.000000          0.384000   29.000000    0.000000  \n",
       "75%    122.750000   36.525000          0.647000   40.000000    1.000000  \n",
       "max    846.000000   67.100000          2.420000   81.000000    1.000000  "
      ]
     },
     "execution_count": 9,
     "metadata": {},
     "output_type": "execute_result"
    }
   ],
   "source": [
    "# Resumo Estatistico do dataframe\n",
    "df_treino.describe()"
   ]
  },
  {
   "cell_type": "code",
   "execution_count": 10,
   "metadata": {
    "ExecuteTime": {
     "end_time": "2020-07-15T16:20:44.979497Z",
     "start_time": "2020-07-15T16:20:44.975535Z"
    },
    "hidden": true
   },
   "outputs": [
    {
     "data": {
      "text/plain": [
       "num_gestacoes          int64\n",
       "glicose                int64\n",
       "pressao_sanguinea      int64\n",
       "grossura_pele          int64\n",
       "insulina               int64\n",
       "bmi                  float64\n",
       "indice_historico     float64\n",
       "idade                  int64\n",
       "classe                 int64\n",
       "dtype: object"
      ]
     },
     "execution_count": 10,
     "metadata": {},
     "output_type": "execute_result"
    }
   ],
   "source": [
    "df_treino.dtypes"
   ]
  },
  {
   "cell_type": "code",
   "execution_count": 11,
   "metadata": {
    "ExecuteTime": {
     "end_time": "2020-07-15T16:20:44.985904Z",
     "start_time": "2020-07-15T16:20:44.981056Z"
    },
    "hidden": true
   },
   "outputs": [
    {
     "data": {
      "text/plain": [
       "num_gestacoes        0\n",
       "glicose              0\n",
       "pressao_sanguinea    0\n",
       "grossura_pele        0\n",
       "insulina             0\n",
       "bmi                  0\n",
       "indice_historico     0\n",
       "idade                0\n",
       "classe               0\n",
       "dtype: int64"
      ]
     },
     "execution_count": 11,
     "metadata": {},
     "output_type": "execute_result"
    }
   ],
   "source": [
    "# Quantidade de valores nulo por coluna\n",
    "df_treino.isna().sum()"
   ]
  },
  {
   "cell_type": "code",
   "execution_count": 12,
   "metadata": {
    "ExecuteTime": {
     "end_time": "2020-07-15T16:20:45.052925Z",
     "start_time": "2020-07-15T16:20:44.986932Z"
    },
    "hidden": true
   },
   "outputs": [
    {
     "data": {
      "text/html": [
       "<style  type=\"text/css\" >\n",
       "    #T_22a02db4_c6b7_11ea_8f24_ad15534626bbrow0_col0 {\n",
       "            background-color:  #b40426;\n",
       "            color:  #f1f1f1;\n",
       "        }    #T_22a02db4_c6b7_11ea_8f24_ad15534626bbrow0_col1 {\n",
       "            background-color:  #5673e0;\n",
       "            color:  #000000;\n",
       "        }    #T_22a02db4_c6b7_11ea_8f24_ad15534626bbrow0_col2 {\n",
       "            background-color:  #5d7ce6;\n",
       "            color:  #000000;\n",
       "        }    #T_22a02db4_c6b7_11ea_8f24_ad15534626bbrow0_col3 {\n",
       "            background-color:  #455cce;\n",
       "            color:  #f1f1f1;\n",
       "        }    #T_22a02db4_c6b7_11ea_8f24_ad15534626bbrow0_col4 {\n",
       "            background-color:  #3b4cc0;\n",
       "            color:  #f1f1f1;\n",
       "        }    #T_22a02db4_c6b7_11ea_8f24_ad15534626bbrow0_col5 {\n",
       "            background-color:  #3b4cc0;\n",
       "            color:  #f1f1f1;\n",
       "        }    #T_22a02db4_c6b7_11ea_8f24_ad15534626bbrow0_col6 {\n",
       "            background-color:  #3b4cc0;\n",
       "            color:  #f1f1f1;\n",
       "        }    #T_22a02db4_c6b7_11ea_8f24_ad15534626bbrow0_col7 {\n",
       "            background-color:  #efcebd;\n",
       "            color:  #000000;\n",
       "        }    #T_22a02db4_c6b7_11ea_8f24_ad15534626bbrow0_col8 {\n",
       "            background-color:  #6b8df0;\n",
       "            color:  #000000;\n",
       "        }    #T_22a02db4_c6b7_11ea_8f24_ad15534626bbrow1_col0 {\n",
       "            background-color:  #7da0f9;\n",
       "            color:  #000000;\n",
       "        }    #T_22a02db4_c6b7_11ea_8f24_ad15534626bbrow1_col1 {\n",
       "            background-color:  #b40426;\n",
       "            color:  #f1f1f1;\n",
       "        }    #T_22a02db4_c6b7_11ea_8f24_ad15534626bbrow1_col2 {\n",
       "            background-color:  #6485ec;\n",
       "            color:  #000000;\n",
       "        }    #T_22a02db4_c6b7_11ea_8f24_ad15534626bbrow1_col3 {\n",
       "            background-color:  #6c8ff1;\n",
       "            color:  #000000;\n",
       "        }    #T_22a02db4_c6b7_11ea_8f24_ad15534626bbrow1_col4 {\n",
       "            background-color:  #b7cff9;\n",
       "            color:  #000000;\n",
       "        }    #T_22a02db4_c6b7_11ea_8f24_ad15534626bbrow1_col5 {\n",
       "            background-color:  #779af7;\n",
       "            color:  #000000;\n",
       "        }    #T_22a02db4_c6b7_11ea_8f24_ad15534626bbrow1_col6 {\n",
       "            background-color:  #7699f6;\n",
       "            color:  #000000;\n",
       "        }    #T_22a02db4_c6b7_11ea_8f24_ad15534626bbrow1_col7 {\n",
       "            background-color:  #b1cbfc;\n",
       "            color:  #000000;\n",
       "        }    #T_22a02db4_c6b7_11ea_8f24_ad15534626bbrow1_col8 {\n",
       "            background-color:  #c4d5f3;\n",
       "            color:  #000000;\n",
       "        }    #T_22a02db4_c6b7_11ea_8f24_ad15534626bbrow2_col0 {\n",
       "            background-color:  #7699f6;\n",
       "            color:  #000000;\n",
       "        }    #T_22a02db4_c6b7_11ea_8f24_ad15534626bbrow2_col1 {\n",
       "            background-color:  #5875e1;\n",
       "            color:  #000000;\n",
       "        }    #T_22a02db4_c6b7_11ea_8f24_ad15534626bbrow2_col2 {\n",
       "            background-color:  #b40426;\n",
       "            color:  #f1f1f1;\n",
       "        }    #T_22a02db4_c6b7_11ea_8f24_ad15534626bbrow2_col3 {\n",
       "            background-color:  #98b9ff;\n",
       "            color:  #000000;\n",
       "        }    #T_22a02db4_c6b7_11ea_8f24_ad15534626bbrow2_col4 {\n",
       "            background-color:  #6788ee;\n",
       "            color:  #000000;\n",
       "        }    #T_22a02db4_c6b7_11ea_8f24_ad15534626bbrow2_col5 {\n",
       "            background-color:  #8badfd;\n",
       "            color:  #000000;\n",
       "        }    #T_22a02db4_c6b7_11ea_8f24_ad15534626bbrow2_col6 {\n",
       "            background-color:  #4b64d5;\n",
       "            color:  #f1f1f1;\n",
       "        }    #T_22a02db4_c6b7_11ea_8f24_ad15534626bbrow2_col7 {\n",
       "            background-color:  #a2c1ff;\n",
       "            color:  #000000;\n",
       "        }    #T_22a02db4_c6b7_11ea_8f24_ad15534626bbrow2_col8 {\n",
       "            background-color:  #3b4cc0;\n",
       "            color:  #f1f1f1;\n",
       "        }    #T_22a02db4_c6b7_11ea_8f24_ad15534626bbrow3_col0 {\n",
       "            background-color:  #3b4cc0;\n",
       "            color:  #f1f1f1;\n",
       "        }    #T_22a02db4_c6b7_11ea_8f24_ad15534626bbrow3_col1 {\n",
       "            background-color:  #3b4cc0;\n",
       "            color:  #f1f1f1;\n",
       "        }    #T_22a02db4_c6b7_11ea_8f24_ad15534626bbrow3_col2 {\n",
       "            background-color:  #779af7;\n",
       "            color:  #000000;\n",
       "        }    #T_22a02db4_c6b7_11ea_8f24_ad15534626bbrow3_col3 {\n",
       "            background-color:  #b40426;\n",
       "            color:  #f1f1f1;\n",
       "        }    #T_22a02db4_c6b7_11ea_8f24_ad15534626bbrow3_col4 {\n",
       "            background-color:  #d2dbe8;\n",
       "            color:  #000000;\n",
       "        }    #T_22a02db4_c6b7_11ea_8f24_ad15534626bbrow3_col5 {\n",
       "            background-color:  #b1cbfc;\n",
       "            color:  #000000;\n",
       "        }    #T_22a02db4_c6b7_11ea_8f24_ad15534626bbrow3_col6 {\n",
       "            background-color:  #81a4fb;\n",
       "            color:  #000000;\n",
       "        }    #T_22a02db4_c6b7_11ea_8f24_ad15534626bbrow3_col7 {\n",
       "            background-color:  #3b4cc0;\n",
       "            color:  #f1f1f1;\n",
       "        }    #T_22a02db4_c6b7_11ea_8f24_ad15534626bbrow3_col8 {\n",
       "            background-color:  #3e51c5;\n",
       "            color:  #f1f1f1;\n",
       "        }    #T_22a02db4_c6b7_11ea_8f24_ad15534626bbrow4_col0 {\n",
       "            background-color:  #4257c9;\n",
       "            color:  #f1f1f1;\n",
       "        }    #T_22a02db4_c6b7_11ea_8f24_ad15534626bbrow4_col1 {\n",
       "            background-color:  #9fbfff;\n",
       "            color:  #000000;\n",
       "        }    #T_22a02db4_c6b7_11ea_8f24_ad15534626bbrow4_col2 {\n",
       "            background-color:  #5572df;\n",
       "            color:  #000000;\n",
       "        }    #T_22a02db4_c6b7_11ea_8f24_ad15534626bbrow4_col3 {\n",
       "            background-color:  #dadce0;\n",
       "            color:  #000000;\n",
       "        }    #T_22a02db4_c6b7_11ea_8f24_ad15534626bbrow4_col4 {\n",
       "            background-color:  #b40426;\n",
       "            color:  #f1f1f1;\n",
       "        }    #T_22a02db4_c6b7_11ea_8f24_ad15534626bbrow4_col5 {\n",
       "            background-color:  #6b8df0;\n",
       "            color:  #000000;\n",
       "        }    #T_22a02db4_c6b7_11ea_8f24_ad15534626bbrow4_col6 {\n",
       "            background-color:  #8fb1fe;\n",
       "            color:  #000000;\n",
       "        }    #T_22a02db4_c6b7_11ea_8f24_ad15534626bbrow4_col7 {\n",
       "            background-color:  #5875e1;\n",
       "            color:  #000000;\n",
       "        }    #T_22a02db4_c6b7_11ea_8f24_ad15534626bbrow4_col8 {\n",
       "            background-color:  #5572df;\n",
       "            color:  #000000;\n",
       "        }    #T_22a02db4_c6b7_11ea_8f24_ad15534626bbrow5_col0 {\n",
       "            background-color:  #5b7ae5;\n",
       "            color:  #000000;\n",
       "        }    #T_22a02db4_c6b7_11ea_8f24_ad15534626bbrow5_col1 {\n",
       "            background-color:  #7093f3;\n",
       "            color:  #000000;\n",
       "        }    #T_22a02db4_c6b7_11ea_8f24_ad15534626bbrow5_col2 {\n",
       "            background-color:  #92b4fe;\n",
       "            color:  #000000;\n",
       "        }    #T_22a02db4_c6b7_11ea_8f24_ad15534626bbrow5_col3 {\n",
       "            background-color:  #cdd9ec;\n",
       "            color:  #000000;\n",
       "        }    #T_22a02db4_c6b7_11ea_8f24_ad15534626bbrow5_col4 {\n",
       "            background-color:  #85a8fc;\n",
       "            color:  #000000;\n",
       "        }    #T_22a02db4_c6b7_11ea_8f24_ad15534626bbrow5_col5 {\n",
       "            background-color:  #b40426;\n",
       "            color:  #f1f1f1;\n",
       "        }    #T_22a02db4_c6b7_11ea_8f24_ad15534626bbrow5_col6 {\n",
       "            background-color:  #7093f3;\n",
       "            color:  #000000;\n",
       "        }    #T_22a02db4_c6b7_11ea_8f24_ad15534626bbrow5_col7 {\n",
       "            background-color:  #6a8bef;\n",
       "            color:  #000000;\n",
       "        }    #T_22a02db4_c6b7_11ea_8f24_ad15534626bbrow5_col8 {\n",
       "            background-color:  #94b6ff;\n",
       "            color:  #000000;\n",
       "        }    #T_22a02db4_c6b7_11ea_8f24_ad15534626bbrow6_col0 {\n",
       "            background-color:  #4257c9;\n",
       "            color:  #f1f1f1;\n",
       "        }    #T_22a02db4_c6b7_11ea_8f24_ad15534626bbrow6_col1 {\n",
       "            background-color:  #5875e1;\n",
       "            color:  #000000;\n",
       "        }    #T_22a02db4_c6b7_11ea_8f24_ad15534626bbrow6_col2 {\n",
       "            background-color:  #3b4cc0;\n",
       "            color:  #f1f1f1;\n",
       "        }    #T_22a02db4_c6b7_11ea_8f24_ad15534626bbrow6_col3 {\n",
       "            background-color:  #93b5fe;\n",
       "            color:  #000000;\n",
       "        }    #T_22a02db4_c6b7_11ea_8f24_ad15534626bbrow6_col4 {\n",
       "            background-color:  #90b2fe;\n",
       "            color:  #000000;\n",
       "        }    #T_22a02db4_c6b7_11ea_8f24_ad15534626bbrow6_col5 {\n",
       "            background-color:  #5875e1;\n",
       "            color:  #000000;\n",
       "        }    #T_22a02db4_c6b7_11ea_8f24_ad15534626bbrow6_col6 {\n",
       "            background-color:  #b40426;\n",
       "            color:  #f1f1f1;\n",
       "        }    #T_22a02db4_c6b7_11ea_8f24_ad15534626bbrow6_col7 {\n",
       "            background-color:  #6687ed;\n",
       "            color:  #000000;\n",
       "        }    #T_22a02db4_c6b7_11ea_8f24_ad15534626bbrow6_col8 {\n",
       "            background-color:  #6282ea;\n",
       "            color:  #000000;\n",
       "        }    #T_22a02db4_c6b7_11ea_8f24_ad15534626bbrow7_col0 {\n",
       "            background-color:  #edd2c3;\n",
       "            color:  #000000;\n",
       "        }    #T_22a02db4_c6b7_11ea_8f24_ad15534626bbrow7_col1 {\n",
       "            background-color:  #86a9fc;\n",
       "            color:  #000000;\n",
       "        }    #T_22a02db4_c6b7_11ea_8f24_ad15534626bbrow7_col2 {\n",
       "            background-color:  #82a6fb;\n",
       "            color:  #000000;\n",
       "        }    #T_22a02db4_c6b7_11ea_8f24_ad15534626bbrow7_col3 {\n",
       "            background-color:  #3b4cc0;\n",
       "            color:  #f1f1f1;\n",
       "        }    #T_22a02db4_c6b7_11ea_8f24_ad15534626bbrow7_col4 {\n",
       "            background-color:  #465ecf;\n",
       "            color:  #f1f1f1;\n",
       "        }    #T_22a02db4_c6b7_11ea_8f24_ad15534626bbrow7_col5 {\n",
       "            background-color:  #3e51c5;\n",
       "            color:  #f1f1f1;\n",
       "        }    #T_22a02db4_c6b7_11ea_8f24_ad15534626bbrow7_col6 {\n",
       "            background-color:  #536edd;\n",
       "            color:  #000000;\n",
       "        }    #T_22a02db4_c6b7_11ea_8f24_ad15534626bbrow7_col7 {\n",
       "            background-color:  #b40426;\n",
       "            color:  #f1f1f1;\n",
       "        }    #T_22a02db4_c6b7_11ea_8f24_ad15534626bbrow7_col8 {\n",
       "            background-color:  #6c8ff1;\n",
       "            color:  #000000;\n",
       "        }    #T_22a02db4_c6b7_11ea_8f24_ad15534626bbrow8_col0 {\n",
       "            background-color:  #93b5fe;\n",
       "            color:  #000000;\n",
       "        }    #T_22a02db4_c6b7_11ea_8f24_ad15534626bbrow8_col1 {\n",
       "            background-color:  #c6d6f1;\n",
       "            color:  #000000;\n",
       "        }    #T_22a02db4_c6b7_11ea_8f24_ad15534626bbrow8_col2 {\n",
       "            background-color:  #4a63d3;\n",
       "            color:  #f1f1f1;\n",
       "        }    #T_22a02db4_c6b7_11ea_8f24_ad15534626bbrow8_col3 {\n",
       "            background-color:  #7295f4;\n",
       "            color:  #000000;\n",
       "        }    #T_22a02db4_c6b7_11ea_8f24_ad15534626bbrow8_col4 {\n",
       "            background-color:  #779af7;\n",
       "            color:  #000000;\n",
       "        }    #T_22a02db4_c6b7_11ea_8f24_ad15534626bbrow8_col5 {\n",
       "            background-color:  #9bbcff;\n",
       "            color:  #000000;\n",
       "        }    #T_22a02db4_c6b7_11ea_8f24_ad15534626bbrow8_col6 {\n",
       "            background-color:  #82a6fb;\n",
       "            color:  #000000;\n",
       "        }    #T_22a02db4_c6b7_11ea_8f24_ad15534626bbrow8_col7 {\n",
       "            background-color:  #9dbdff;\n",
       "            color:  #000000;\n",
       "        }    #T_22a02db4_c6b7_11ea_8f24_ad15534626bbrow8_col8 {\n",
       "            background-color:  #b40426;\n",
       "            color:  #f1f1f1;\n",
       "        }</style><table id=\"T_22a02db4_c6b7_11ea_8f24_ad15534626bb\" ><thead>    <tr>        <th class=\"blank level0\" ></th>        <th class=\"col_heading level0 col0\" >num_gestacoes</th>        <th class=\"col_heading level0 col1\" >glicose</th>        <th class=\"col_heading level0 col2\" >pressao_sanguinea</th>        <th class=\"col_heading level0 col3\" >grossura_pele</th>        <th class=\"col_heading level0 col4\" >insulina</th>        <th class=\"col_heading level0 col5\" >bmi</th>        <th class=\"col_heading level0 col6\" >indice_historico</th>        <th class=\"col_heading level0 col7\" >idade</th>        <th class=\"col_heading level0 col8\" >classe</th>    </tr></thead><tbody>\n",
       "                <tr>\n",
       "                        <th id=\"T_22a02db4_c6b7_11ea_8f24_ad15534626bblevel0_row0\" class=\"row_heading level0 row0\" >num_gestacoes</th>\n",
       "                        <td id=\"T_22a02db4_c6b7_11ea_8f24_ad15534626bbrow0_col0\" class=\"data row0 col0\" >1.000000</td>\n",
       "                        <td id=\"T_22a02db4_c6b7_11ea_8f24_ad15534626bbrow0_col1\" class=\"data row0 col1\" >0.139924</td>\n",
       "                        <td id=\"T_22a02db4_c6b7_11ea_8f24_ad15534626bbrow0_col2\" class=\"data row0 col2\" >0.118589</td>\n",
       "                        <td id=\"T_22a02db4_c6b7_11ea_8f24_ad15534626bbrow0_col3\" class=\"data row0 col3\" >-0.080628</td>\n",
       "                        <td id=\"T_22a02db4_c6b7_11ea_8f24_ad15534626bbrow0_col4\" class=\"data row0 col4\" >-0.055261</td>\n",
       "                        <td id=\"T_22a02db4_c6b7_11ea_8f24_ad15534626bbrow0_col5\" class=\"data row0 col5\" >0.034970</td>\n",
       "                        <td id=\"T_22a02db4_c6b7_11ea_8f24_ad15534626bbrow0_col6\" class=\"data row0 col6\" >-0.051889</td>\n",
       "                        <td id=\"T_22a02db4_c6b7_11ea_8f24_ad15534626bbrow0_col7\" class=\"data row0 col7\" >0.532926</td>\n",
       "                        <td id=\"T_22a02db4_c6b7_11ea_8f24_ad15534626bbrow0_col8\" class=\"data row0 col8\" >0.207922</td>\n",
       "            </tr>\n",
       "            <tr>\n",
       "                        <th id=\"T_22a02db4_c6b7_11ea_8f24_ad15534626bblevel0_row1\" class=\"row_heading level0 row1\" >glicose</th>\n",
       "                        <td id=\"T_22a02db4_c6b7_11ea_8f24_ad15534626bbrow1_col0\" class=\"data row1 col0\" >0.139924</td>\n",
       "                        <td id=\"T_22a02db4_c6b7_11ea_8f24_ad15534626bbrow1_col1\" class=\"data row1 col1\" >1.000000</td>\n",
       "                        <td id=\"T_22a02db4_c6b7_11ea_8f24_ad15534626bbrow1_col2\" class=\"data row1 col2\" >0.143653</td>\n",
       "                        <td id=\"T_22a02db4_c6b7_11ea_8f24_ad15534626bbrow1_col3\" class=\"data row1 col3\" >0.054515</td>\n",
       "                        <td id=\"T_22a02db4_c6b7_11ea_8f24_ad15534626bbrow1_col4\" class=\"data row1 col4\" >0.339553</td>\n",
       "                        <td id=\"T_22a02db4_c6b7_11ea_8f24_ad15534626bbrow1_col5\" class=\"data row1 col5\" >0.216336</td>\n",
       "                        <td id=\"T_22a02db4_c6b7_11ea_8f24_ad15534626bbrow1_col6\" class=\"data row1 col6\" >0.144771</td>\n",
       "                        <td id=\"T_22a02db4_c6b7_11ea_8f24_ad15534626bbrow1_col7\" class=\"data row1 col7\" >0.274294</td>\n",
       "                        <td id=\"T_22a02db4_c6b7_11ea_8f24_ad15534626bbrow1_col8\" class=\"data row1 col8\" >0.449891</td>\n",
       "            </tr>\n",
       "            <tr>\n",
       "                        <th id=\"T_22a02db4_c6b7_11ea_8f24_ad15534626bblevel0_row2\" class=\"row_heading level0 row2\" >pressao_sanguinea</th>\n",
       "                        <td id=\"T_22a02db4_c6b7_11ea_8f24_ad15534626bbrow2_col0\" class=\"data row2 col0\" >0.118589</td>\n",
       "                        <td id=\"T_22a02db4_c6b7_11ea_8f24_ad15534626bbrow2_col1\" class=\"data row2 col1\" >0.143653</td>\n",
       "                        <td id=\"T_22a02db4_c6b7_11ea_8f24_ad15534626bbrow2_col2\" class=\"data row2 col2\" >1.000000</td>\n",
       "                        <td id=\"T_22a02db4_c6b7_11ea_8f24_ad15534626bbrow2_col3\" class=\"data row2 col3\" >0.197539</td>\n",
       "                        <td id=\"T_22a02db4_c6b7_11ea_8f24_ad15534626bbrow2_col4\" class=\"data row2 col4\" >0.094150</td>\n",
       "                        <td id=\"T_22a02db4_c6b7_11ea_8f24_ad15534626bbrow2_col5\" class=\"data row2 col5\" >0.271557</td>\n",
       "                        <td id=\"T_22a02db4_c6b7_11ea_8f24_ad15534626bbrow2_col6\" class=\"data row2 col6\" >0.008882</td>\n",
       "                        <td id=\"T_22a02db4_c6b7_11ea_8f24_ad15534626bbrow2_col7\" class=\"data row2 col7\" >0.226710</td>\n",
       "                        <td id=\"T_22a02db4_c6b7_11ea_8f24_ad15534626bbrow2_col8\" class=\"data row2 col8\" >0.062860</td>\n",
       "            </tr>\n",
       "            <tr>\n",
       "                        <th id=\"T_22a02db4_c6b7_11ea_8f24_ad15534626bblevel0_row3\" class=\"row_heading level0 row3\" >grossura_pele</th>\n",
       "                        <td id=\"T_22a02db4_c6b7_11ea_8f24_ad15534626bbrow3_col0\" class=\"data row3 col0\" >-0.080628</td>\n",
       "                        <td id=\"T_22a02db4_c6b7_11ea_8f24_ad15534626bbrow3_col1\" class=\"data row3 col1\" >0.054515</td>\n",
       "                        <td id=\"T_22a02db4_c6b7_11ea_8f24_ad15534626bbrow3_col2\" class=\"data row3 col2\" >0.197539</td>\n",
       "                        <td id=\"T_22a02db4_c6b7_11ea_8f24_ad15534626bbrow3_col3\" class=\"data row3 col3\" >1.000000</td>\n",
       "                        <td id=\"T_22a02db4_c6b7_11ea_8f24_ad15534626bbrow3_col4\" class=\"data row3 col4\" >0.428922</td>\n",
       "                        <td id=\"T_22a02db4_c6b7_11ea_8f24_ad15534626bbrow3_col5\" class=\"data row3 col5\" >0.377854</td>\n",
       "                        <td id=\"T_22a02db4_c6b7_11ea_8f24_ad15534626bbrow3_col6\" class=\"data row3 col6\" >0.176640</td>\n",
       "                        <td id=\"T_22a02db4_c6b7_11ea_8f24_ad15534626bbrow3_col7\" class=\"data row3 col7\" >-0.121348</td>\n",
       "                        <td id=\"T_22a02db4_c6b7_11ea_8f24_ad15534626bbrow3_col8\" class=\"data row3 col8\" >0.075745</td>\n",
       "            </tr>\n",
       "            <tr>\n",
       "                        <th id=\"T_22a02db4_c6b7_11ea_8f24_ad15534626bblevel0_row4\" class=\"row_heading level0 row4\" >insulina</th>\n",
       "                        <td id=\"T_22a02db4_c6b7_11ea_8f24_ad15534626bbrow4_col0\" class=\"data row4 col0\" >-0.055261</td>\n",
       "                        <td id=\"T_22a02db4_c6b7_11ea_8f24_ad15534626bbrow4_col1\" class=\"data row4 col1\" >0.339553</td>\n",
       "                        <td id=\"T_22a02db4_c6b7_11ea_8f24_ad15534626bbrow4_col2\" class=\"data row4 col2\" >0.094150</td>\n",
       "                        <td id=\"T_22a02db4_c6b7_11ea_8f24_ad15534626bbrow4_col3\" class=\"data row4 col3\" >0.428922</td>\n",
       "                        <td id=\"T_22a02db4_c6b7_11ea_8f24_ad15534626bbrow4_col4\" class=\"data row4 col4\" >1.000000</td>\n",
       "                        <td id=\"T_22a02db4_c6b7_11ea_8f24_ad15534626bbrow4_col5\" class=\"data row4 col5\" >0.183903</td>\n",
       "                        <td id=\"T_22a02db4_c6b7_11ea_8f24_ad15534626bbrow4_col6\" class=\"data row4 col6\" >0.218154</td>\n",
       "                        <td id=\"T_22a02db4_c6b7_11ea_8f24_ad15534626bbrow4_col7\" class=\"data row4 col7\" >-0.011876</td>\n",
       "                        <td id=\"T_22a02db4_c6b7_11ea_8f24_ad15534626bbrow4_col8\" class=\"data row4 col8\" >0.145390</td>\n",
       "            </tr>\n",
       "            <tr>\n",
       "                        <th id=\"T_22a02db4_c6b7_11ea_8f24_ad15534626bblevel0_row5\" class=\"row_heading level0 row5\" >bmi</th>\n",
       "                        <td id=\"T_22a02db4_c6b7_11ea_8f24_ad15534626bbrow5_col0\" class=\"data row5 col0\" >0.034970</td>\n",
       "                        <td id=\"T_22a02db4_c6b7_11ea_8f24_ad15534626bbrow5_col1\" class=\"data row5 col1\" >0.216336</td>\n",
       "                        <td id=\"T_22a02db4_c6b7_11ea_8f24_ad15534626bbrow5_col2\" class=\"data row5 col2\" >0.271557</td>\n",
       "                        <td id=\"T_22a02db4_c6b7_11ea_8f24_ad15534626bbrow5_col3\" class=\"data row5 col3\" >0.377854</td>\n",
       "                        <td id=\"T_22a02db4_c6b7_11ea_8f24_ad15534626bbrow5_col4\" class=\"data row5 col4\" >0.183903</td>\n",
       "                        <td id=\"T_22a02db4_c6b7_11ea_8f24_ad15534626bbrow5_col5\" class=\"data row5 col5\" >1.000000</td>\n",
       "                        <td id=\"T_22a02db4_c6b7_11ea_8f24_ad15534626bbrow5_col6\" class=\"data row5 col6\" >0.127945</td>\n",
       "                        <td id=\"T_22a02db4_c6b7_11ea_8f24_ad15534626bbrow5_col7\" class=\"data row5 col7\" >0.047187</td>\n",
       "                        <td id=\"T_22a02db4_c6b7_11ea_8f24_ad15534626bbrow5_col8\" class=\"data row5 col8\" >0.316773</td>\n",
       "            </tr>\n",
       "            <tr>\n",
       "                        <th id=\"T_22a02db4_c6b7_11ea_8f24_ad15534626bblevel0_row6\" class=\"row_heading level0 row6\" >indice_historico</th>\n",
       "                        <td id=\"T_22a02db4_c6b7_11ea_8f24_ad15534626bbrow6_col0\" class=\"data row6 col0\" >-0.051889</td>\n",
       "                        <td id=\"T_22a02db4_c6b7_11ea_8f24_ad15534626bbrow6_col1\" class=\"data row6 col1\" >0.144771</td>\n",
       "                        <td id=\"T_22a02db4_c6b7_11ea_8f24_ad15534626bbrow6_col2\" class=\"data row6 col2\" >0.008882</td>\n",
       "                        <td id=\"T_22a02db4_c6b7_11ea_8f24_ad15534626bbrow6_col3\" class=\"data row6 col3\" >0.176640</td>\n",
       "                        <td id=\"T_22a02db4_c6b7_11ea_8f24_ad15534626bbrow6_col4\" class=\"data row6 col4\" >0.218154</td>\n",
       "                        <td id=\"T_22a02db4_c6b7_11ea_8f24_ad15534626bbrow6_col5\" class=\"data row6 col5\" >0.127945</td>\n",
       "                        <td id=\"T_22a02db4_c6b7_11ea_8f24_ad15534626bbrow6_col6\" class=\"data row6 col6\" >1.000000</td>\n",
       "                        <td id=\"T_22a02db4_c6b7_11ea_8f24_ad15534626bbrow6_col7\" class=\"data row6 col7\" >0.033781</td>\n",
       "                        <td id=\"T_22a02db4_c6b7_11ea_8f24_ad15534626bbrow6_col8\" class=\"data row6 col8\" >0.181741</td>\n",
       "            </tr>\n",
       "            <tr>\n",
       "                        <th id=\"T_22a02db4_c6b7_11ea_8f24_ad15534626bblevel0_row7\" class=\"row_heading level0 row7\" >idade</th>\n",
       "                        <td id=\"T_22a02db4_c6b7_11ea_8f24_ad15534626bbrow7_col0\" class=\"data row7 col0\" >0.532926</td>\n",
       "                        <td id=\"T_22a02db4_c6b7_11ea_8f24_ad15534626bbrow7_col1\" class=\"data row7 col1\" >0.274294</td>\n",
       "                        <td id=\"T_22a02db4_c6b7_11ea_8f24_ad15534626bbrow7_col2\" class=\"data row7 col2\" >0.226710</td>\n",
       "                        <td id=\"T_22a02db4_c6b7_11ea_8f24_ad15534626bbrow7_col3\" class=\"data row7 col3\" >-0.121348</td>\n",
       "                        <td id=\"T_22a02db4_c6b7_11ea_8f24_ad15534626bbrow7_col4\" class=\"data row7 col4\" >-0.011876</td>\n",
       "                        <td id=\"T_22a02db4_c6b7_11ea_8f24_ad15534626bbrow7_col5\" class=\"data row7 col5\" >0.047187</td>\n",
       "                        <td id=\"T_22a02db4_c6b7_11ea_8f24_ad15534626bbrow7_col6\" class=\"data row7 col6\" >0.033781</td>\n",
       "                        <td id=\"T_22a02db4_c6b7_11ea_8f24_ad15534626bbrow7_col7\" class=\"data row7 col7\" >1.000000</td>\n",
       "                        <td id=\"T_22a02db4_c6b7_11ea_8f24_ad15534626bbrow7_col8\" class=\"data row7 col8\" >0.210824</td>\n",
       "            </tr>\n",
       "            <tr>\n",
       "                        <th id=\"T_22a02db4_c6b7_11ea_8f24_ad15534626bblevel0_row8\" class=\"row_heading level0 row8\" >classe</th>\n",
       "                        <td id=\"T_22a02db4_c6b7_11ea_8f24_ad15534626bbrow8_col0\" class=\"data row8 col0\" >0.207922</td>\n",
       "                        <td id=\"T_22a02db4_c6b7_11ea_8f24_ad15534626bbrow8_col1\" class=\"data row8 col1\" >0.449891</td>\n",
       "                        <td id=\"T_22a02db4_c6b7_11ea_8f24_ad15534626bbrow8_col2\" class=\"data row8 col2\" >0.062860</td>\n",
       "                        <td id=\"T_22a02db4_c6b7_11ea_8f24_ad15534626bbrow8_col3\" class=\"data row8 col3\" >0.075745</td>\n",
       "                        <td id=\"T_22a02db4_c6b7_11ea_8f24_ad15534626bbrow8_col4\" class=\"data row8 col4\" >0.145390</td>\n",
       "                        <td id=\"T_22a02db4_c6b7_11ea_8f24_ad15534626bbrow8_col5\" class=\"data row8 col5\" >0.316773</td>\n",
       "                        <td id=\"T_22a02db4_c6b7_11ea_8f24_ad15534626bbrow8_col6\" class=\"data row8 col6\" >0.181741</td>\n",
       "                        <td id=\"T_22a02db4_c6b7_11ea_8f24_ad15534626bbrow8_col7\" class=\"data row8 col7\" >0.210824</td>\n",
       "                        <td id=\"T_22a02db4_c6b7_11ea_8f24_ad15534626bbrow8_col8\" class=\"data row8 col8\" >1.000000</td>\n",
       "            </tr>\n",
       "    </tbody></table>"
      ],
      "text/plain": [
       "<pandas.io.formats.style.Styler at 0x7f2c23cb1790>"
      ]
     },
     "execution_count": 12,
     "metadata": {},
     "output_type": "execute_result"
    }
   ],
   "source": [
    "# Analisando a correlacao dos dados\n",
    "corr = df_treino.corr()\n",
    "corr.style.background_gradient(cmap='coolwarm')"
   ]
  },
  {
   "cell_type": "markdown",
   "metadata": {
    "hidden": true
   },
   "source": [
    "As variaveis que possuem maior correlacao com a variavel target sao: glicose, bmi, num_gestacoes, indice historio, insulina e idade."
   ]
  },
  {
   "cell_type": "code",
   "execution_count": 13,
   "metadata": {
    "ExecuteTime": {
     "end_time": "2020-07-15T16:20:45.059394Z",
     "start_time": "2020-07-15T16:20:45.054330Z"
    },
    "hidden": true
   },
   "outputs": [
    {
     "data": {
      "text/plain": [
       "classe               1.000000\n",
       "glicose              0.449891\n",
       "bmi                  0.316773\n",
       "idade                0.210824\n",
       "num_gestacoes        0.207922\n",
       "indice_historico     0.181741\n",
       "insulina             0.145390\n",
       "grossura_pele        0.075745\n",
       "pressao_sanguinea    0.062860\n",
       "Name: classe, dtype: float64"
      ]
     },
     "execution_count": 13,
     "metadata": {},
     "output_type": "execute_result"
    }
   ],
   "source": [
    "corr['classe'].sort_values(ascending = False)"
   ]
  },
  {
   "cell_type": "code",
   "execution_count": 14,
   "metadata": {
    "ExecuteTime": {
     "end_time": "2020-07-15T16:20:45.283072Z",
     "start_time": "2020-07-15T16:20:45.060419Z"
    },
    "hidden": true
   },
   "outputs": [
    {
     "data": {
      "image/png": "[encoded data removed]",
      "text/plain": [
       "<Figure size 432x288 with 2 Axes>"
      ]
     },
     "metadata": {
      "needs_background": "light"
     },
     "output_type": "display_data"
    }
   ],
   "source": [
    "# Glicose\n",
    "\n",
    "# Criando a figura\n",
    "fig = plt.figure(figsize=(6,4))\n",
    "bpAx = fig.add_axes([0.2, 0.7, 0.7, 0.5])   # left, bottom, width, height:\n",
    "histAx = fig.add_axes([0.2, 0.2, 0.7, 0.6])\n",
    "\n",
    "# Imputando os dados\n",
    "bp = bpAx.boxplot(df_treino.glicose, vert=False)\n",
    "h = histAx.hist(df_treino.glicose)\n",
    "\n",
    "# Escala, e labels do grafico\n",
    "xlims = np.array([bpAx.get_xlim(), histAx.get_xlim()])\n",
    "for ax in [bpAx, histAx]:\n",
    "    ax.set_xlim([xlims.min(), xlims.max()])\n",
    "    \n",
    "plt.title('Glicose')\n",
    "plt.ylabel('Frequencia')\n",
    "plt.xlabel('Concentração plasmática de glicose em teste oral de tolerância à glicose')\n",
    "plt.show()"
   ]
  },
  {
   "cell_type": "code",
   "execution_count": 15,
   "metadata": {
    "ExecuteTime": {
     "end_time": "2020-07-15T16:20:45.443405Z",
     "start_time": "2020-07-15T16:20:45.284082Z"
    },
    "hidden": true
   },
   "outputs": [
    {
     "data": {
      "image/png": "[encoded data removed]",
      "text/plain": [
       "<Figure size 432x288 with 2 Axes>"
      ]
     },
     "metadata": {
      "needs_background": "light"
     },
     "output_type": "display_data"
    }
   ],
   "source": [
    "# BMI\n",
    "\n",
    "# Criando a figura\n",
    "fig = plt.figure(figsize=(6,4))\n",
    "bpAx = fig.add_axes([0.2, 0.7, 0.7, 0.5])   # left, bottom, width, height:\n",
    "histAx = fig.add_axes([0.2, 0.2, 0.7, 0.6])\n",
    "\n",
    "# Imputando os dados\n",
    "bp = bpAx.boxplot(df_treino.bmi, vert=False)\n",
    "h = histAx.hist(df_treino.bmi)\n",
    "\n",
    "# Escala, e labels do grafico\n",
    "xlims = np.array([bpAx.get_xlim(), histAx.get_xlim()])\n",
    "for ax in [bpAx, histAx]:\n",
    "    ax.set_xlim([xlims.min(), xlims.max()])\n",
    "    \n",
    "plt.title('BMI')\n",
    "plt.ylabel('Frequencia')\n",
    "plt.xlabel('Índice de massa corporal medido em peso em kg')\n",
    "plt.show()"
   ]
  },
  {
   "cell_type": "code",
   "execution_count": 16,
   "metadata": {
    "ExecuteTime": {
     "end_time": "2020-07-15T16:20:45.598311Z",
     "start_time": "2020-07-15T16:20:45.444423Z"
    },
    "hidden": true
   },
   "outputs": [
    {
     "data": {
      "image/png": "[encoded data removed]",
      "text/plain": [
       "<Figure size 432x288 with 2 Axes>"
      ]
     },
     "metadata": {
      "needs_background": "light"
     },
     "output_type": "display_data"
    }
   ],
   "source": [
    "# Idade\n",
    "\n",
    "# Criando a figura\n",
    "fig = plt.figure(figsize=(6,4))\n",
    "bpAx = fig.add_axes([0.2, 0.7, 0.7, 0.5])   # left, bottom, width, height:\n",
    "histAx = fig.add_axes([0.2, 0.2, 0.7, 0.6])\n",
    "\n",
    "# Imputando os dados\n",
    "bp = bpAx.boxplot(df_treino.idade, vert=False)\n",
    "h = histAx.hist(df_treino.idade)\n",
    "\n",
    "# Escala, e labels do grafico\n",
    "xlims = np.array([bpAx.get_xlim(), histAx.get_xlim()])\n",
    "for ax in [bpAx, histAx]:\n",
    "    ax.set_xlim([xlims.min(), xlims.max()])\n",
    "    \n",
    "plt.title('Idade')\n",
    "plt.ylabel('Frequencia')\n",
    "plt.xlabel('Idade em anos')\n",
    "plt.show()"
   ]
  },
  {
   "cell_type": "code",
   "execution_count": 17,
   "metadata": {
    "ExecuteTime": {
     "end_time": "2020-07-15T16:20:45.755210Z",
     "start_time": "2020-07-15T16:20:45.599210Z"
    },
    "hidden": true,
    "scrolled": true
   },
   "outputs": [
    {
     "data": {
      "image/png": "[encoded data removed]",
      "text/plain": [
       "<Figure size 432x288 with 2 Axes>"
      ]
     },
     "metadata": {
      "needs_background": "light"
     },
     "output_type": "display_data"
    }
   ],
   "source": [
    "# Numero de Gestacoes\n",
    "\n",
    "# Criando a figura\n",
    "fig = plt.figure(figsize=(6,4))\n",
    "bpAx = fig.add_axes([0.2, 0.7, 0.7, 0.5])   # left, bottom, width, height:\n",
    "histAx = fig.add_axes([0.2, 0.2, 0.7, 0.6])\n",
    "\n",
    "# Imputando os dados\n",
    "bp = bpAx.boxplot(df_treino.num_gestacoes, vert=False)\n",
    "h = histAx.hist(df_treino.num_gestacoes)\n",
    "\n",
    "# Escala, e labels do grafico\n",
    "xlims = np.array([bpAx.get_xlim(), histAx.get_xlim()])\n",
    "for ax in [bpAx, histAx]:\n",
    "    ax.set_xlim([xlims.min(), xlims.max()])\n",
    "    \n",
    "plt.title('Numero de Gestacoes')\n",
    "plt.ylabel('Frequencia')\n",
    "plt.xlabel('Numero de vezes gravida')\n",
    "plt.show()"
   ]
  },
  {
   "cell_type": "code",
   "execution_count": 18,
   "metadata": {
    "ExecuteTime": {
     "end_time": "2020-07-15T16:20:45.857407Z",
     "start_time": "2020-07-15T16:20:45.756326Z"
    },
    "hidden": true,
    "scrolled": true
   },
   "outputs": [
    {
     "data": {
      "text/plain": [
       "Text(0, 0.5, 'insulina')"
      ]
     },
     "execution_count": 18,
     "metadata": {},
     "output_type": "execute_result"
    },
    {
     "data": {
      "image/png": "[encoded data removed]",
      "text/plain": [
       "<Figure size 432x288 with 1 Axes>"
      ]
     },
     "metadata": {
      "needs_background": "light"
     },
     "output_type": "display_data"
    }
   ],
   "source": [
    "plt.scatter(df_treino.glicose, df_treino.insulina)\n",
    "plt.xlabel('glicose')\n",
    "plt.ylabel('insulina')"
   ]
  },
  {
   "cell_type": "code",
   "execution_count": 19,
   "metadata": {
    "ExecuteTime": {
     "end_time": "2020-07-15T16:20:45.992355Z",
     "start_time": "2020-07-15T16:20:45.858513Z"
    },
    "hidden": true
   },
   "outputs": [
    {
     "data": {
      "text/plain": [
       "Text(0, 0.5, 'insulina')"
      ]
     },
     "execution_count": 19,
     "metadata": {},
     "output_type": "execute_result"
    },
    {
     "data": {
      "image/png": "[encoded data removed]",
      "text/plain": [
       "<Figure size 432x288 with 1 Axes>"
      ]
     },
     "metadata": {
      "needs_background": "light"
     },
     "output_type": "display_data"
    }
   ],
   "source": [
    "plt.scatter(df_treino.grossura_pele, df_treino.insulina)\n",
    "plt.xlabel('grossura da pele')\n",
    "plt.ylabel('insulina')"
   ]
  },
  {
   "cell_type": "markdown",
   "metadata": {},
   "source": [
    "## Pre processamento de dados"
   ]
  },
  {
   "cell_type": "code",
   "execution_count": 20,
   "metadata": {
    "ExecuteTime": {
     "end_time": "2020-07-15T16:20:45.996816Z",
     "start_time": "2020-07-15T16:20:45.993325Z"
    }
   },
   "outputs": [],
   "source": [
    "# Tratando os outliers\n",
    "z_scores = sts.zscore(df_treino)\n",
    "\n",
    "abs_z_scores = np.abs(z_scores)\n",
    "filtered_entries = (abs_z_scores < 3).all(axis=1)\n",
    "new_df_treino = df_treino[filtered_entries]"
   ]
  },
  {
   "cell_type": "code",
   "execution_count": 21,
   "metadata": {
    "ExecuteTime": {
     "end_time": "2020-07-15T16:20:46.007725Z",
     "start_time": "2020-07-15T16:20:45.997718Z"
    }
   },
   "outputs": [
    {
     "data": {
      "text/html": [
       "<div>\n",
       "<style scoped>\n",
       "    .dataframe tbody tr th:only-of-type {\n",
       "        vertical-align: middle;\n",
       "    }\n",
       "\n",
       "    .dataframe tbody tr th {\n",
       "        vertical-align: top;\n",
       "    }\n",
       "\n",
       "    .dataframe thead th {\n",
       "        text-align: right;\n",
       "    }\n",
       "</style>\n",
       "<table border=\"1\" class=\"dataframe\">\n",
       "  <thead>\n",
       "    <tr style=\"text-align: right;\">\n",
       "      <th></th>\n",
       "      <th>num_gestacoes</th>\n",
       "      <th>glicose</th>\n",
       "      <th>pressao_sanguinea</th>\n",
       "      <th>grossura_pele</th>\n",
       "      <th>insulina</th>\n",
       "      <th>bmi</th>\n",
       "      <th>indice_historico</th>\n",
       "      <th>idade</th>\n",
       "      <th>classe</th>\n",
       "    </tr>\n",
       "  </thead>\n",
       "  <tbody>\n",
       "    <tr>\n",
       "      <th>0</th>\n",
       "      <td>6</td>\n",
       "      <td>148</td>\n",
       "      <td>72</td>\n",
       "      <td>35</td>\n",
       "      <td>0</td>\n",
       "      <td>33.6</td>\n",
       "      <td>0.627</td>\n",
       "      <td>50</td>\n",
       "      <td>1</td>\n",
       "    </tr>\n",
       "    <tr>\n",
       "      <th>1</th>\n",
       "      <td>1</td>\n",
       "      <td>85</td>\n",
       "      <td>66</td>\n",
       "      <td>29</td>\n",
       "      <td>0</td>\n",
       "      <td>26.6</td>\n",
       "      <td>0.351</td>\n",
       "      <td>31</td>\n",
       "      <td>0</td>\n",
       "    </tr>\n",
       "    <tr>\n",
       "      <th>2</th>\n",
       "      <td>8</td>\n",
       "      <td>183</td>\n",
       "      <td>64</td>\n",
       "      <td>0</td>\n",
       "      <td>0</td>\n",
       "      <td>23.3</td>\n",
       "      <td>0.672</td>\n",
       "      <td>32</td>\n",
       "      <td>1</td>\n",
       "    </tr>\n",
       "    <tr>\n",
       "      <th>3</th>\n",
       "      <td>1</td>\n",
       "      <td>89</td>\n",
       "      <td>66</td>\n",
       "      <td>23</td>\n",
       "      <td>94</td>\n",
       "      <td>28.1</td>\n",
       "      <td>0.167</td>\n",
       "      <td>21</td>\n",
       "      <td>0</td>\n",
       "    </tr>\n",
       "    <tr>\n",
       "      <th>5</th>\n",
       "      <td>5</td>\n",
       "      <td>116</td>\n",
       "      <td>74</td>\n",
       "      <td>0</td>\n",
       "      <td>0</td>\n",
       "      <td>25.6</td>\n",
       "      <td>0.201</td>\n",
       "      <td>30</td>\n",
       "      <td>0</td>\n",
       "    </tr>\n",
       "    <tr>\n",
       "      <th>...</th>\n",
       "      <td>...</td>\n",
       "      <td>...</td>\n",
       "      <td>...</td>\n",
       "      <td>...</td>\n",
       "      <td>...</td>\n",
       "      <td>...</td>\n",
       "      <td>...</td>\n",
       "      <td>...</td>\n",
       "      <td>...</td>\n",
       "    </tr>\n",
       "    <tr>\n",
       "      <th>595</th>\n",
       "      <td>0</td>\n",
       "      <td>188</td>\n",
       "      <td>82</td>\n",
       "      <td>14</td>\n",
       "      <td>185</td>\n",
       "      <td>32.0</td>\n",
       "      <td>0.682</td>\n",
       "      <td>22</td>\n",
       "      <td>1</td>\n",
       "    </tr>\n",
       "    <tr>\n",
       "      <th>596</th>\n",
       "      <td>0</td>\n",
       "      <td>67</td>\n",
       "      <td>76</td>\n",
       "      <td>0</td>\n",
       "      <td>0</td>\n",
       "      <td>45.3</td>\n",
       "      <td>0.194</td>\n",
       "      <td>46</td>\n",
       "      <td>0</td>\n",
       "    </tr>\n",
       "    <tr>\n",
       "      <th>597</th>\n",
       "      <td>1</td>\n",
       "      <td>89</td>\n",
       "      <td>24</td>\n",
       "      <td>19</td>\n",
       "      <td>25</td>\n",
       "      <td>27.8</td>\n",
       "      <td>0.559</td>\n",
       "      <td>21</td>\n",
       "      <td>0</td>\n",
       "    </tr>\n",
       "    <tr>\n",
       "      <th>598</th>\n",
       "      <td>1</td>\n",
       "      <td>173</td>\n",
       "      <td>74</td>\n",
       "      <td>0</td>\n",
       "      <td>0</td>\n",
       "      <td>36.8</td>\n",
       "      <td>0.088</td>\n",
       "      <td>38</td>\n",
       "      <td>1</td>\n",
       "    </tr>\n",
       "    <tr>\n",
       "      <th>599</th>\n",
       "      <td>1</td>\n",
       "      <td>109</td>\n",
       "      <td>38</td>\n",
       "      <td>18</td>\n",
       "      <td>120</td>\n",
       "      <td>23.1</td>\n",
       "      <td>0.407</td>\n",
       "      <td>26</td>\n",
       "      <td>0</td>\n",
       "    </tr>\n",
       "  </tbody>\n",
       "</table>\n",
       "<p>536 rows × 9 columns</p>\n",
       "</div>"
      ],
      "text/plain": [
       "     num_gestacoes  glicose  pressao_sanguinea  grossura_pele  insulina   bmi  \\\n",
       "0                6      148                 72             35         0  33.6   \n",
       "1                1       85                 66             29         0  26.6   \n",
       "2                8      183                 64              0         0  23.3   \n",
       "3                1       89                 66             23        94  28.1   \n",
       "5                5      116                 74              0         0  25.6   \n",
       "..             ...      ...                ...            ...       ...   ...   \n",
       "595              0      188                 82             14       185  32.0   \n",
       "596              0       67                 76              0         0  45.3   \n",
       "597              1       89                 24             19        25  27.8   \n",
       "598              1      173                 74              0         0  36.8   \n",
       "599              1      109                 38             18       120  23.1   \n",
       "\n",
       "     indice_historico  idade  classe  \n",
       "0               0.627     50       1  \n",
       "1               0.351     31       0  \n",
       "2               0.672     32       1  \n",
       "3               0.167     21       0  \n",
       "5               0.201     30       0  \n",
       "..                ...    ...     ...  \n",
       "595             0.682     22       1  \n",
       "596             0.194     46       0  \n",
       "597             0.559     21       0  \n",
       "598             0.088     38       1  \n",
       "599             0.407     26       0  \n",
       "\n",
       "[536 rows x 9 columns]"
      ]
     },
     "execution_count": 21,
     "metadata": {},
     "output_type": "execute_result"
    }
   ],
   "source": [
    "new_df_treino"
   ]
  },
  {
   "cell_type": "code",
   "execution_count": 22,
   "metadata": {
    "ExecuteTime": {
     "end_time": "2020-07-15T16:20:46.035732Z",
     "start_time": "2020-07-15T16:20:46.010625Z"
    }
   },
   "outputs": [
    {
     "data": {
      "text/html": [
       "<div>\n",
       "<style scoped>\n",
       "    .dataframe tbody tr th:only-of-type {\n",
       "        vertical-align: middle;\n",
       "    }\n",
       "\n",
       "    .dataframe tbody tr th {\n",
       "        vertical-align: top;\n",
       "    }\n",
       "\n",
       "    .dataframe thead th {\n",
       "        text-align: right;\n",
       "    }\n",
       "</style>\n",
       "<table border=\"1\" class=\"dataframe\">\n",
       "  <thead>\n",
       "    <tr style=\"text-align: right;\">\n",
       "      <th></th>\n",
       "      <th>num_gestacoes</th>\n",
       "      <th>glicose</th>\n",
       "      <th>pressao_sanguinea</th>\n",
       "      <th>grossura_pele</th>\n",
       "      <th>insulina</th>\n",
       "      <th>bmi</th>\n",
       "      <th>indice_historico</th>\n",
       "      <th>idade</th>\n",
       "      <th>classe</th>\n",
       "    </tr>\n",
       "  </thead>\n",
       "  <tbody>\n",
       "    <tr>\n",
       "      <th>count</th>\n",
       "      <td>536.000000</td>\n",
       "      <td>536.000000</td>\n",
       "      <td>536.000000</td>\n",
       "      <td>536.000000</td>\n",
       "      <td>536.000000</td>\n",
       "      <td>536.000000</td>\n",
       "      <td>536.000000</td>\n",
       "      <td>536.00000</td>\n",
       "      <td>536.000000</td>\n",
       "    </tr>\n",
       "    <tr>\n",
       "      <th>mean</th>\n",
       "      <td>3.813433</td>\n",
       "      <td>119.544776</td>\n",
       "      <td>72.063433</td>\n",
       "      <td>20.684701</td>\n",
       "      <td>71.876866</td>\n",
       "      <td>32.085261</td>\n",
       "      <td>0.460065</td>\n",
       "      <td>33.16791</td>\n",
       "      <td>0.324627</td>\n",
       "    </tr>\n",
       "    <tr>\n",
       "      <th>std</th>\n",
       "      <td>3.229347</td>\n",
       "      <td>30.175776</td>\n",
       "      <td>12.216110</td>\n",
       "      <td>15.330119</td>\n",
       "      <td>89.705540</td>\n",
       "      <td>6.715594</td>\n",
       "      <td>0.284321</td>\n",
       "      <td>11.52104</td>\n",
       "      <td>0.468673</td>\n",
       "    </tr>\n",
       "    <tr>\n",
       "      <th>min</th>\n",
       "      <td>0.000000</td>\n",
       "      <td>44.000000</td>\n",
       "      <td>24.000000</td>\n",
       "      <td>0.000000</td>\n",
       "      <td>0.000000</td>\n",
       "      <td>18.200000</td>\n",
       "      <td>0.078000</td>\n",
       "      <td>21.00000</td>\n",
       "      <td>0.000000</td>\n",
       "    </tr>\n",
       "    <tr>\n",
       "      <th>25%</th>\n",
       "      <td>1.000000</td>\n",
       "      <td>98.000000</td>\n",
       "      <td>64.000000</td>\n",
       "      <td>0.000000</td>\n",
       "      <td>0.000000</td>\n",
       "      <td>27.100000</td>\n",
       "      <td>0.248000</td>\n",
       "      <td>24.00000</td>\n",
       "      <td>0.000000</td>\n",
       "    </tr>\n",
       "    <tr>\n",
       "      <th>50%</th>\n",
       "      <td>3.000000</td>\n",
       "      <td>114.000000</td>\n",
       "      <td>72.000000</td>\n",
       "      <td>23.000000</td>\n",
       "      <td>44.000000</td>\n",
       "      <td>32.000000</td>\n",
       "      <td>0.379000</td>\n",
       "      <td>29.00000</td>\n",
       "      <td>0.000000</td>\n",
       "    </tr>\n",
       "    <tr>\n",
       "      <th>75%</th>\n",
       "      <td>6.000000</td>\n",
       "      <td>139.000000</td>\n",
       "      <td>80.000000</td>\n",
       "      <td>32.000000</td>\n",
       "      <td>120.500000</td>\n",
       "      <td>36.025000</td>\n",
       "      <td>0.627500</td>\n",
       "      <td>40.00000</td>\n",
       "      <td>1.000000</td>\n",
       "    </tr>\n",
       "    <tr>\n",
       "      <th>max</th>\n",
       "      <td>13.000000</td>\n",
       "      <td>198.000000</td>\n",
       "      <td>122.000000</td>\n",
       "      <td>60.000000</td>\n",
       "      <td>415.000000</td>\n",
       "      <td>55.000000</td>\n",
       "      <td>1.476000</td>\n",
       "      <td>67.00000</td>\n",
       "      <td>1.000000</td>\n",
       "    </tr>\n",
       "  </tbody>\n",
       "</table>\n",
       "</div>"
      ],
      "text/plain": [
       "       num_gestacoes     glicose  pressao_sanguinea  grossura_pele  \\\n",
       "count     536.000000  536.000000         536.000000     536.000000   \n",
       "mean        3.813433  119.544776          72.063433      20.684701   \n",
       "std         3.229347   30.175776          12.216110      15.330119   \n",
       "min         0.000000   44.000000          24.000000       0.000000   \n",
       "25%         1.000000   98.000000          64.000000       0.000000   \n",
       "50%         3.000000  114.000000          72.000000      23.000000   \n",
       "75%         6.000000  139.000000          80.000000      32.000000   \n",
       "max        13.000000  198.000000         122.000000      60.000000   \n",
       "\n",
       "         insulina         bmi  indice_historico      idade      classe  \n",
       "count  536.000000  536.000000        536.000000  536.00000  536.000000  \n",
       "mean    71.876866   32.085261          0.460065   33.16791    0.324627  \n",
       "std     89.705540    6.715594          0.284321   11.52104    0.468673  \n",
       "min      0.000000   18.200000          0.078000   21.00000    0.000000  \n",
       "25%      0.000000   27.100000          0.248000   24.00000    0.000000  \n",
       "50%     44.000000   32.000000          0.379000   29.00000    0.000000  \n",
       "75%    120.500000   36.025000          0.627500   40.00000    1.000000  \n",
       "max    415.000000   55.000000          1.476000   67.00000    1.000000  "
      ]
     },
     "execution_count": 22,
     "metadata": {},
     "output_type": "execute_result"
    }
   ],
   "source": [
    "new_df_treino.describe()"
   ]
  },
  {
   "cell_type": "code",
   "execution_count": 160,
   "metadata": {
    "ExecuteTime": {
     "end_time": "2020-07-15T17:50:25.952561Z",
     "start_time": "2020-07-15T17:50:25.933217Z"
    }
   },
   "outputs": [
    {
     "data": {
      "text/html": [
       "<div>\n",
       "<style scoped>\n",
       "    .dataframe tbody tr th:only-of-type {\n",
       "        vertical-align: middle;\n",
       "    }\n",
       "\n",
       "    .dataframe tbody tr th {\n",
       "        vertical-align: top;\n",
       "    }\n",
       "\n",
       "    .dataframe thead th {\n",
       "        text-align: right;\n",
       "    }\n",
       "</style>\n",
       "<table border=\"1\" class=\"dataframe\">\n",
       "  <thead>\n",
       "    <tr style=\"text-align: right;\">\n",
       "      <th></th>\n",
       "      <th>0</th>\n",
       "      <th>1</th>\n",
       "      <th>2</th>\n",
       "      <th>3</th>\n",
       "      <th>4</th>\n",
       "      <th>5</th>\n",
       "      <th>6</th>\n",
       "      <th>7</th>\n",
       "      <th>8</th>\n",
       "    </tr>\n",
       "  </thead>\n",
       "  <tbody>\n",
       "    <tr>\n",
       "      <th>0</th>\n",
       "      <td>0.461538</td>\n",
       "      <td>0.675325</td>\n",
       "      <td>0.489796</td>\n",
       "      <td>0.583333</td>\n",
       "      <td>0.000000</td>\n",
       "      <td>0.418478</td>\n",
       "      <td>0.392704</td>\n",
       "      <td>0.630435</td>\n",
       "      <td>1.0</td>\n",
       "    </tr>\n",
       "    <tr>\n",
       "      <th>1</th>\n",
       "      <td>0.076923</td>\n",
       "      <td>0.266234</td>\n",
       "      <td>0.428571</td>\n",
       "      <td>0.483333</td>\n",
       "      <td>0.000000</td>\n",
       "      <td>0.228261</td>\n",
       "      <td>0.195279</td>\n",
       "      <td>0.217391</td>\n",
       "      <td>0.0</td>\n",
       "    </tr>\n",
       "    <tr>\n",
       "      <th>2</th>\n",
       "      <td>0.615385</td>\n",
       "      <td>0.902597</td>\n",
       "      <td>0.408163</td>\n",
       "      <td>0.000000</td>\n",
       "      <td>0.000000</td>\n",
       "      <td>0.138587</td>\n",
       "      <td>0.424893</td>\n",
       "      <td>0.239130</td>\n",
       "      <td>1.0</td>\n",
       "    </tr>\n",
       "    <tr>\n",
       "      <th>3</th>\n",
       "      <td>0.076923</td>\n",
       "      <td>0.292208</td>\n",
       "      <td>0.428571</td>\n",
       "      <td>0.383333</td>\n",
       "      <td>0.226506</td>\n",
       "      <td>0.269022</td>\n",
       "      <td>0.063662</td>\n",
       "      <td>0.000000</td>\n",
       "      <td>0.0</td>\n",
       "    </tr>\n",
       "    <tr>\n",
       "      <th>4</th>\n",
       "      <td>0.384615</td>\n",
       "      <td>0.467532</td>\n",
       "      <td>0.510204</td>\n",
       "      <td>0.000000</td>\n",
       "      <td>0.000000</td>\n",
       "      <td>0.201087</td>\n",
       "      <td>0.087983</td>\n",
       "      <td>0.195652</td>\n",
       "      <td>0.0</td>\n",
       "    </tr>\n",
       "  </tbody>\n",
       "</table>\n",
       "</div>"
      ],
      "text/plain": [
       "          0         1         2         3         4         5         6  \\\n",
       "0  0.461538  0.675325  0.489796  0.583333  0.000000  0.418478  0.392704   \n",
       "1  0.076923  0.266234  0.428571  0.483333  0.000000  0.228261  0.195279   \n",
       "2  0.615385  0.902597  0.408163  0.000000  0.000000  0.138587  0.424893   \n",
       "3  0.076923  0.292208  0.428571  0.383333  0.226506  0.269022  0.063662   \n",
       "4  0.384615  0.467532  0.510204  0.000000  0.000000  0.201087  0.087983   \n",
       "\n",
       "          7    8  \n",
       "0  0.630435  1.0  \n",
       "1  0.217391  0.0  \n",
       "2  0.239130  1.0  \n",
       "3  0.000000  0.0  \n",
       "4  0.195652  0.0  "
      ]
     },
     "execution_count": 160,
     "metadata": {},
     "output_type": "execute_result"
    }
   ],
   "source": [
    "# Normalizando o dataframe de treino\n",
    "data_norm  = preprocessing.MinMaxScaler().fit_transform(new_df_treino)\n",
    "new_df_treino_norm = pd.DataFrame(data_norm)\n",
    "new_df_treino_norm.head()"
   ]
  },
  {
   "cell_type": "code",
   "execution_count": 30,
   "metadata": {
    "ExecuteTime": {
     "end_time": "2020-07-15T16:22:14.273434Z",
     "start_time": "2020-07-15T16:22:14.252218Z"
    }
   },
   "outputs": [
    {
     "data": {
      "text/html": [
       "<div>\n",
       "<style scoped>\n",
       "    .dataframe tbody tr th:only-of-type {\n",
       "        vertical-align: middle;\n",
       "    }\n",
       "\n",
       "    .dataframe tbody tr th {\n",
       "        vertical-align: top;\n",
       "    }\n",
       "\n",
       "    .dataframe thead th {\n",
       "        text-align: right;\n",
       "    }\n",
       "</style>\n",
       "<table border=\"1\" class=\"dataframe\">\n",
       "  <thead>\n",
       "    <tr style=\"text-align: right;\">\n",
       "      <th></th>\n",
       "      <th>teste</th>\n",
       "      <th>glicose</th>\n",
       "      <th>pressao_sanguinea</th>\n",
       "      <th>grossura_pele</th>\n",
       "      <th>insulina</th>\n",
       "      <th>bmi</th>\n",
       "      <th>indice_historico</th>\n",
       "      <th>idade</th>\n",
       "      <th>classe</th>\n",
       "    </tr>\n",
       "  </thead>\n",
       "  <tbody>\n",
       "    <tr>\n",
       "      <th>0</th>\n",
       "      <td>0.461538</td>\n",
       "      <td>0.675325</td>\n",
       "      <td>0.489796</td>\n",
       "      <td>0.583333</td>\n",
       "      <td>0.000000</td>\n",
       "      <td>0.418478</td>\n",
       "      <td>0.392704</td>\n",
       "      <td>0.630435</td>\n",
       "      <td>1.0</td>\n",
       "    </tr>\n",
       "    <tr>\n",
       "      <th>1</th>\n",
       "      <td>0.076923</td>\n",
       "      <td>0.266234</td>\n",
       "      <td>0.428571</td>\n",
       "      <td>0.483333</td>\n",
       "      <td>0.000000</td>\n",
       "      <td>0.228261</td>\n",
       "      <td>0.195279</td>\n",
       "      <td>0.217391</td>\n",
       "      <td>0.0</td>\n",
       "    </tr>\n",
       "    <tr>\n",
       "      <th>2</th>\n",
       "      <td>0.615385</td>\n",
       "      <td>0.902597</td>\n",
       "      <td>0.408163</td>\n",
       "      <td>0.000000</td>\n",
       "      <td>0.000000</td>\n",
       "      <td>0.138587</td>\n",
       "      <td>0.424893</td>\n",
       "      <td>0.239130</td>\n",
       "      <td>1.0</td>\n",
       "    </tr>\n",
       "    <tr>\n",
       "      <th>3</th>\n",
       "      <td>0.076923</td>\n",
       "      <td>0.292208</td>\n",
       "      <td>0.428571</td>\n",
       "      <td>0.383333</td>\n",
       "      <td>0.226506</td>\n",
       "      <td>0.269022</td>\n",
       "      <td>0.063662</td>\n",
       "      <td>0.000000</td>\n",
       "      <td>0.0</td>\n",
       "    </tr>\n",
       "    <tr>\n",
       "      <th>4</th>\n",
       "      <td>0.384615</td>\n",
       "      <td>0.467532</td>\n",
       "      <td>0.510204</td>\n",
       "      <td>0.000000</td>\n",
       "      <td>0.000000</td>\n",
       "      <td>0.201087</td>\n",
       "      <td>0.087983</td>\n",
       "      <td>0.195652</td>\n",
       "      <td>0.0</td>\n",
       "    </tr>\n",
       "    <tr>\n",
       "      <th>...</th>\n",
       "      <td>...</td>\n",
       "      <td>...</td>\n",
       "      <td>...</td>\n",
       "      <td>...</td>\n",
       "      <td>...</td>\n",
       "      <td>...</td>\n",
       "      <td>...</td>\n",
       "      <td>...</td>\n",
       "      <td>...</td>\n",
       "    </tr>\n",
       "    <tr>\n",
       "      <th>531</th>\n",
       "      <td>0.000000</td>\n",
       "      <td>0.935065</td>\n",
       "      <td>0.591837</td>\n",
       "      <td>0.233333</td>\n",
       "      <td>0.445783</td>\n",
       "      <td>0.375000</td>\n",
       "      <td>0.432046</td>\n",
       "      <td>0.021739</td>\n",
       "      <td>1.0</td>\n",
       "    </tr>\n",
       "    <tr>\n",
       "      <th>532</th>\n",
       "      <td>0.000000</td>\n",
       "      <td>0.149351</td>\n",
       "      <td>0.530612</td>\n",
       "      <td>0.000000</td>\n",
       "      <td>0.000000</td>\n",
       "      <td>0.736413</td>\n",
       "      <td>0.082976</td>\n",
       "      <td>0.543478</td>\n",
       "      <td>0.0</td>\n",
       "    </tr>\n",
       "    <tr>\n",
       "      <th>533</th>\n",
       "      <td>0.076923</td>\n",
       "      <td>0.292208</td>\n",
       "      <td>0.000000</td>\n",
       "      <td>0.316667</td>\n",
       "      <td>0.060241</td>\n",
       "      <td>0.260870</td>\n",
       "      <td>0.344063</td>\n",
       "      <td>0.000000</td>\n",
       "      <td>0.0</td>\n",
       "    </tr>\n",
       "    <tr>\n",
       "      <th>534</th>\n",
       "      <td>0.076923</td>\n",
       "      <td>0.837662</td>\n",
       "      <td>0.510204</td>\n",
       "      <td>0.000000</td>\n",
       "      <td>0.000000</td>\n",
       "      <td>0.505435</td>\n",
       "      <td>0.007153</td>\n",
       "      <td>0.369565</td>\n",
       "      <td>1.0</td>\n",
       "    </tr>\n",
       "    <tr>\n",
       "      <th>535</th>\n",
       "      <td>0.076923</td>\n",
       "      <td>0.422078</td>\n",
       "      <td>0.142857</td>\n",
       "      <td>0.300000</td>\n",
       "      <td>0.289157</td>\n",
       "      <td>0.133152</td>\n",
       "      <td>0.235336</td>\n",
       "      <td>0.108696</td>\n",
       "      <td>0.0</td>\n",
       "    </tr>\n",
       "  </tbody>\n",
       "</table>\n",
       "<p>536 rows × 9 columns</p>\n",
       "</div>"
      ],
      "text/plain": [
       "        teste   glicose  pressao_sanguinea  grossura_pele  insulina       bmi  \\\n",
       "0    0.461538  0.675325           0.489796       0.583333  0.000000  0.418478   \n",
       "1    0.076923  0.266234           0.428571       0.483333  0.000000  0.228261   \n",
       "2    0.615385  0.902597           0.408163       0.000000  0.000000  0.138587   \n",
       "3    0.076923  0.292208           0.428571       0.383333  0.226506  0.269022   \n",
       "4    0.384615  0.467532           0.510204       0.000000  0.000000  0.201087   \n",
       "..        ...       ...                ...            ...       ...       ...   \n",
       "531  0.000000  0.935065           0.591837       0.233333  0.445783  0.375000   \n",
       "532  0.000000  0.149351           0.530612       0.000000  0.000000  0.736413   \n",
       "533  0.076923  0.292208           0.000000       0.316667  0.060241  0.260870   \n",
       "534  0.076923  0.837662           0.510204       0.000000  0.000000  0.505435   \n",
       "535  0.076923  0.422078           0.142857       0.300000  0.289157  0.133152   \n",
       "\n",
       "     indice_historico     idade  classe  \n",
       "0            0.392704  0.630435     1.0  \n",
       "1            0.195279  0.217391     0.0  \n",
       "2            0.424893  0.239130     1.0  \n",
       "3            0.063662  0.000000     0.0  \n",
       "4            0.087983  0.195652     0.0  \n",
       "..                ...       ...     ...  \n",
       "531          0.432046  0.021739     1.0  \n",
       "532          0.082976  0.543478     0.0  \n",
       "533          0.344063  0.000000     0.0  \n",
       "534          0.007153  0.369565     1.0  \n",
       "535          0.235336  0.108696     0.0  \n",
       "\n",
       "[536 rows x 9 columns]"
      ]
     },
     "execution_count": 30,
     "metadata": {},
     "output_type": "execute_result"
    }
   ],
   "source": [
    "# Renomeando as colunas do Data Frame normalizado\n",
    "new_df_treino_norm.rename(columns={0: 'num_gestacoes', 1: 'glicose', 2: 'pressao_sanguinea',\n",
    "                                   3: 'grossura_pele', 4: 'insulina', 5: 'bmi', 6: 'indice_historico', 7: 'idade', 8: 'classe'})"
   ]
  },
  {
   "cell_type": "code",
   "execution_count": 34,
   "metadata": {
    "ExecuteTime": {
     "end_time": "2020-07-15T16:23:13.812036Z",
     "start_time": "2020-07-15T16:23:13.803516Z"
    }
   },
   "outputs": [
    {
     "data": {
      "text/html": [
       "<div>\n",
       "<style scoped>\n",
       "    .dataframe tbody tr th:only-of-type {\n",
       "        vertical-align: middle;\n",
       "    }\n",
       "\n",
       "    .dataframe tbody tr th {\n",
       "        vertical-align: top;\n",
       "    }\n",
       "\n",
       "    .dataframe thead th {\n",
       "        text-align: right;\n",
       "    }\n",
       "</style>\n",
       "<table border=\"1\" class=\"dataframe\">\n",
       "  <thead>\n",
       "    <tr style=\"text-align: right;\">\n",
       "      <th></th>\n",
       "      <th>0</th>\n",
       "      <th>1</th>\n",
       "      <th>2</th>\n",
       "      <th>3</th>\n",
       "      <th>4</th>\n",
       "      <th>5</th>\n",
       "      <th>6</th>\n",
       "      <th>7</th>\n",
       "    </tr>\n",
       "  </thead>\n",
       "  <tbody>\n",
       "    <tr>\n",
       "      <th>0</th>\n",
       "      <td>0.461538</td>\n",
       "      <td>0.675325</td>\n",
       "      <td>0.489796</td>\n",
       "      <td>0.583333</td>\n",
       "      <td>0.000000</td>\n",
       "      <td>0.418478</td>\n",
       "      <td>0.392704</td>\n",
       "      <td>0.630435</td>\n",
       "    </tr>\n",
       "    <tr>\n",
       "      <th>1</th>\n",
       "      <td>0.076923</td>\n",
       "      <td>0.266234</td>\n",
       "      <td>0.428571</td>\n",
       "      <td>0.483333</td>\n",
       "      <td>0.000000</td>\n",
       "      <td>0.228261</td>\n",
       "      <td>0.195279</td>\n",
       "      <td>0.217391</td>\n",
       "    </tr>\n",
       "    <tr>\n",
       "      <th>2</th>\n",
       "      <td>0.615385</td>\n",
       "      <td>0.902597</td>\n",
       "      <td>0.408163</td>\n",
       "      <td>0.000000</td>\n",
       "      <td>0.000000</td>\n",
       "      <td>0.138587</td>\n",
       "      <td>0.424893</td>\n",
       "      <td>0.239130</td>\n",
       "    </tr>\n",
       "    <tr>\n",
       "      <th>3</th>\n",
       "      <td>0.076923</td>\n",
       "      <td>0.292208</td>\n",
       "      <td>0.428571</td>\n",
       "      <td>0.383333</td>\n",
       "      <td>0.226506</td>\n",
       "      <td>0.269022</td>\n",
       "      <td>0.063662</td>\n",
       "      <td>0.000000</td>\n",
       "    </tr>\n",
       "    <tr>\n",
       "      <th>4</th>\n",
       "      <td>0.384615</td>\n",
       "      <td>0.467532</td>\n",
       "      <td>0.510204</td>\n",
       "      <td>0.000000</td>\n",
       "      <td>0.000000</td>\n",
       "      <td>0.201087</td>\n",
       "      <td>0.087983</td>\n",
       "      <td>0.195652</td>\n",
       "    </tr>\n",
       "  </tbody>\n",
       "</table>\n",
       "</div>"
      ],
      "text/plain": [
       "          0         1         2         3         4         5         6  \\\n",
       "0  0.461538  0.675325  0.489796  0.583333  0.000000  0.418478  0.392704   \n",
       "1  0.076923  0.266234  0.428571  0.483333  0.000000  0.228261  0.195279   \n",
       "2  0.615385  0.902597  0.408163  0.000000  0.000000  0.138587  0.424893   \n",
       "3  0.076923  0.292208  0.428571  0.383333  0.226506  0.269022  0.063662   \n",
       "4  0.384615  0.467532  0.510204  0.000000  0.000000  0.201087  0.087983   \n",
       "\n",
       "          7  \n",
       "0  0.630435  \n",
       "1  0.217391  \n",
       "2  0.239130  \n",
       "3  0.000000  \n",
       "4  0.195652  "
      ]
     },
     "execution_count": 34,
     "metadata": {},
     "output_type": "execute_result"
    }
   ],
   "source": [
    "# Criando dois subsets: para variaveis dependentes e para variavel target\n",
    "X = new_df_treino_norm.iloc[:,0:8]\n",
    "X.head()"
   ]
  },
  {
   "cell_type": "code",
   "execution_count": 37,
   "metadata": {
    "ExecuteTime": {
     "end_time": "2020-07-15T16:23:56.602892Z",
     "start_time": "2020-07-15T16:23:56.582153Z"
    }
   },
   "outputs": [
    {
     "data": {
      "text/html": [
       "<div>\n",
       "<style scoped>\n",
       "    .dataframe tbody tr th:only-of-type {\n",
       "        vertical-align: middle;\n",
       "    }\n",
       "\n",
       "    .dataframe tbody tr th {\n",
       "        vertical-align: top;\n",
       "    }\n",
       "\n",
       "    .dataframe thead th {\n",
       "        text-align: right;\n",
       "    }\n",
       "</style>\n",
       "<table border=\"1\" class=\"dataframe\">\n",
       "  <thead>\n",
       "    <tr style=\"text-align: right;\">\n",
       "      <th></th>\n",
       "      <th>num_gestacoes</th>\n",
       "      <th>glicose</th>\n",
       "      <th>pressao_sanguinea</th>\n",
       "      <th>grossura_pele</th>\n",
       "      <th>insulina</th>\n",
       "      <th>bmi</th>\n",
       "      <th>indice_historico</th>\n",
       "      <th>idade</th>\n",
       "    </tr>\n",
       "  </thead>\n",
       "  <tbody>\n",
       "    <tr>\n",
       "      <th>0</th>\n",
       "      <td>0.461538</td>\n",
       "      <td>0.675325</td>\n",
       "      <td>0.489796</td>\n",
       "      <td>0.583333</td>\n",
       "      <td>0.000000</td>\n",
       "      <td>0.418478</td>\n",
       "      <td>0.392704</td>\n",
       "      <td>0.630435</td>\n",
       "    </tr>\n",
       "    <tr>\n",
       "      <th>1</th>\n",
       "      <td>0.076923</td>\n",
       "      <td>0.266234</td>\n",
       "      <td>0.428571</td>\n",
       "      <td>0.483333</td>\n",
       "      <td>0.000000</td>\n",
       "      <td>0.228261</td>\n",
       "      <td>0.195279</td>\n",
       "      <td>0.217391</td>\n",
       "    </tr>\n",
       "    <tr>\n",
       "      <th>2</th>\n",
       "      <td>0.615385</td>\n",
       "      <td>0.902597</td>\n",
       "      <td>0.408163</td>\n",
       "      <td>0.000000</td>\n",
       "      <td>0.000000</td>\n",
       "      <td>0.138587</td>\n",
       "      <td>0.424893</td>\n",
       "      <td>0.239130</td>\n",
       "    </tr>\n",
       "    <tr>\n",
       "      <th>3</th>\n",
       "      <td>0.076923</td>\n",
       "      <td>0.292208</td>\n",
       "      <td>0.428571</td>\n",
       "      <td>0.383333</td>\n",
       "      <td>0.226506</td>\n",
       "      <td>0.269022</td>\n",
       "      <td>0.063662</td>\n",
       "      <td>0.000000</td>\n",
       "    </tr>\n",
       "    <tr>\n",
       "      <th>4</th>\n",
       "      <td>0.384615</td>\n",
       "      <td>0.467532</td>\n",
       "      <td>0.510204</td>\n",
       "      <td>0.000000</td>\n",
       "      <td>0.000000</td>\n",
       "      <td>0.201087</td>\n",
       "      <td>0.087983</td>\n",
       "      <td>0.195652</td>\n",
       "    </tr>\n",
       "    <tr>\n",
       "      <th>...</th>\n",
       "      <td>...</td>\n",
       "      <td>...</td>\n",
       "      <td>...</td>\n",
       "      <td>...</td>\n",
       "      <td>...</td>\n",
       "      <td>...</td>\n",
       "      <td>...</td>\n",
       "      <td>...</td>\n",
       "    </tr>\n",
       "    <tr>\n",
       "      <th>531</th>\n",
       "      <td>0.000000</td>\n",
       "      <td>0.935065</td>\n",
       "      <td>0.591837</td>\n",
       "      <td>0.233333</td>\n",
       "      <td>0.445783</td>\n",
       "      <td>0.375000</td>\n",
       "      <td>0.432046</td>\n",
       "      <td>0.021739</td>\n",
       "    </tr>\n",
       "    <tr>\n",
       "      <th>532</th>\n",
       "      <td>0.000000</td>\n",
       "      <td>0.149351</td>\n",
       "      <td>0.530612</td>\n",
       "      <td>0.000000</td>\n",
       "      <td>0.000000</td>\n",
       "      <td>0.736413</td>\n",
       "      <td>0.082976</td>\n",
       "      <td>0.543478</td>\n",
       "    </tr>\n",
       "    <tr>\n",
       "      <th>533</th>\n",
       "      <td>0.076923</td>\n",
       "      <td>0.292208</td>\n",
       "      <td>0.000000</td>\n",
       "      <td>0.316667</td>\n",
       "      <td>0.060241</td>\n",
       "      <td>0.260870</td>\n",
       "      <td>0.344063</td>\n",
       "      <td>0.000000</td>\n",
       "    </tr>\n",
       "    <tr>\n",
       "      <th>534</th>\n",
       "      <td>0.076923</td>\n",
       "      <td>0.837662</td>\n",
       "      <td>0.510204</td>\n",
       "      <td>0.000000</td>\n",
       "      <td>0.000000</td>\n",
       "      <td>0.505435</td>\n",
       "      <td>0.007153</td>\n",
       "      <td>0.369565</td>\n",
       "    </tr>\n",
       "    <tr>\n",
       "      <th>535</th>\n",
       "      <td>0.076923</td>\n",
       "      <td>0.422078</td>\n",
       "      <td>0.142857</td>\n",
       "      <td>0.300000</td>\n",
       "      <td>0.289157</td>\n",
       "      <td>0.133152</td>\n",
       "      <td>0.235336</td>\n",
       "      <td>0.108696</td>\n",
       "    </tr>\n",
       "  </tbody>\n",
       "</table>\n",
       "<p>536 rows × 8 columns</p>\n",
       "</div>"
      ],
      "text/plain": [
       "     num_gestacoes   glicose  pressao_sanguinea  grossura_pele  insulina  \\\n",
       "0         0.461538  0.675325           0.489796       0.583333  0.000000   \n",
       "1         0.076923  0.266234           0.428571       0.483333  0.000000   \n",
       "2         0.615385  0.902597           0.408163       0.000000  0.000000   \n",
       "3         0.076923  0.292208           0.428571       0.383333  0.226506   \n",
       "4         0.384615  0.467532           0.510204       0.000000  0.000000   \n",
       "..             ...       ...                ...            ...       ...   \n",
       "531       0.000000  0.935065           0.591837       0.233333  0.445783   \n",
       "532       0.000000  0.149351           0.530612       0.000000  0.000000   \n",
       "533       0.076923  0.292208           0.000000       0.316667  0.060241   \n",
       "534       0.076923  0.837662           0.510204       0.000000  0.000000   \n",
       "535       0.076923  0.422078           0.142857       0.300000  0.289157   \n",
       "\n",
       "          bmi  indice_historico     idade  \n",
       "0    0.418478          0.392704  0.630435  \n",
       "1    0.228261          0.195279  0.217391  \n",
       "2    0.138587          0.424893  0.239130  \n",
       "3    0.269022          0.063662  0.000000  \n",
       "4    0.201087          0.087983  0.195652  \n",
       "..        ...               ...       ...  \n",
       "531  0.375000          0.432046  0.021739  \n",
       "532  0.736413          0.082976  0.543478  \n",
       "533  0.260870          0.344063  0.000000  \n",
       "534  0.505435          0.007153  0.369565  \n",
       "535  0.133152          0.235336  0.108696  \n",
       "\n",
       "[536 rows x 8 columns]"
      ]
     },
     "execution_count": 37,
     "metadata": {},
     "output_type": "execute_result"
    }
   ],
   "source": [
    "X.rename(columns={0: 'num_gestacoes', 1: 'glicose', 2: 'pressao_sanguinea',\n",
    "                                   3: 'grossura_pele', 4: 'insulina', 5: 'bmi', 6: 'indice_historico', 7: 'idade'})"
   ]
  },
  {
   "cell_type": "code",
   "execution_count": 42,
   "metadata": {
    "ExecuteTime": {
     "end_time": "2020-07-15T16:25:16.270183Z",
     "start_time": "2020-07-15T16:25:16.257328Z"
    }
   },
   "outputs": [
    {
     "data": {
      "text/html": [
       "<div>\n",
       "<style scoped>\n",
       "    .dataframe tbody tr th:only-of-type {\n",
       "        vertical-align: middle;\n",
       "    }\n",
       "\n",
       "    .dataframe tbody tr th {\n",
       "        vertical-align: top;\n",
       "    }\n",
       "\n",
       "    .dataframe thead th {\n",
       "        text-align: right;\n",
       "    }\n",
       "</style>\n",
       "<table border=\"1\" class=\"dataframe\">\n",
       "  <thead>\n",
       "    <tr style=\"text-align: right;\">\n",
       "      <th></th>\n",
       "      <th>8</th>\n",
       "    </tr>\n",
       "  </thead>\n",
       "  <tbody>\n",
       "    <tr>\n",
       "      <th>0</th>\n",
       "      <td>1.0</td>\n",
       "    </tr>\n",
       "    <tr>\n",
       "      <th>1</th>\n",
       "      <td>0.0</td>\n",
       "    </tr>\n",
       "    <tr>\n",
       "      <th>2</th>\n",
       "      <td>1.0</td>\n",
       "    </tr>\n",
       "    <tr>\n",
       "      <th>3</th>\n",
       "      <td>0.0</td>\n",
       "    </tr>\n",
       "    <tr>\n",
       "      <th>4</th>\n",
       "      <td>0.0</td>\n",
       "    </tr>\n",
       "  </tbody>\n",
       "</table>\n",
       "</div>"
      ],
      "text/plain": [
       "     8\n",
       "0  1.0\n",
       "1  0.0\n",
       "2  1.0\n",
       "3  0.0\n",
       "4  0.0"
      ]
     },
     "execution_count": 42,
     "metadata": {},
     "output_type": "execute_result"
    }
   ],
   "source": [
    "y = new_df_treino_norm.iloc[:,8:9]\n",
    "y.head()"
   ]
  },
  {
   "cell_type": "code",
   "execution_count": 43,
   "metadata": {
    "ExecuteTime": {
     "end_time": "2020-07-15T16:25:39.389192Z",
     "start_time": "2020-07-15T16:25:39.379605Z"
    }
   },
   "outputs": [
    {
     "data": {
      "text/html": [
       "<div>\n",
       "<style scoped>\n",
       "    .dataframe tbody tr th:only-of-type {\n",
       "        vertical-align: middle;\n",
       "    }\n",
       "\n",
       "    .dataframe tbody tr th {\n",
       "        vertical-align: top;\n",
       "    }\n",
       "\n",
       "    .dataframe thead th {\n",
       "        text-align: right;\n",
       "    }\n",
       "</style>\n",
       "<table border=\"1\" class=\"dataframe\">\n",
       "  <thead>\n",
       "    <tr style=\"text-align: right;\">\n",
       "      <th></th>\n",
       "      <th>classe</th>\n",
       "    </tr>\n",
       "  </thead>\n",
       "  <tbody>\n",
       "    <tr>\n",
       "      <th>0</th>\n",
       "      <td>1.0</td>\n",
       "    </tr>\n",
       "    <tr>\n",
       "      <th>1</th>\n",
       "      <td>0.0</td>\n",
       "    </tr>\n",
       "    <tr>\n",
       "      <th>2</th>\n",
       "      <td>1.0</td>\n",
       "    </tr>\n",
       "    <tr>\n",
       "      <th>3</th>\n",
       "      <td>0.0</td>\n",
       "    </tr>\n",
       "    <tr>\n",
       "      <th>4</th>\n",
       "      <td>0.0</td>\n",
       "    </tr>\n",
       "    <tr>\n",
       "      <th>...</th>\n",
       "      <td>...</td>\n",
       "    </tr>\n",
       "    <tr>\n",
       "      <th>531</th>\n",
       "      <td>1.0</td>\n",
       "    </tr>\n",
       "    <tr>\n",
       "      <th>532</th>\n",
       "      <td>0.0</td>\n",
       "    </tr>\n",
       "    <tr>\n",
       "      <th>533</th>\n",
       "      <td>0.0</td>\n",
       "    </tr>\n",
       "    <tr>\n",
       "      <th>534</th>\n",
       "      <td>1.0</td>\n",
       "    </tr>\n",
       "    <tr>\n",
       "      <th>535</th>\n",
       "      <td>0.0</td>\n",
       "    </tr>\n",
       "  </tbody>\n",
       "</table>\n",
       "<p>536 rows × 1 columns</p>\n",
       "</div>"
      ],
      "text/plain": [
       "     classe\n",
       "0       1.0\n",
       "1       0.0\n",
       "2       1.0\n",
       "3       0.0\n",
       "4       0.0\n",
       "..      ...\n",
       "531     1.0\n",
       "532     0.0\n",
       "533     0.0\n",
       "534     1.0\n",
       "535     0.0\n",
       "\n",
       "[536 rows x 1 columns]"
      ]
     },
     "execution_count": 43,
     "metadata": {},
     "output_type": "execute_result"
    }
   ],
   "source": [
    "y.rename(columns={8:'classe'})"
   ]
  },
  {
   "cell_type": "code",
   "execution_count": 44,
   "metadata": {
    "ExecuteTime": {
     "end_time": "2020-07-15T16:27:00.923418Z",
     "start_time": "2020-07-15T16:27:00.904467Z"
    }
   },
   "outputs": [],
   "source": [
    "# Dividindo os dados em dados de treino e de teste\n",
    "X_train, X_test, y_train, y_test = model_selection.train_test_split(X, y, test_size=0.2)"
   ]
  },
  {
   "cell_type": "code",
   "execution_count": 45,
   "metadata": {
    "ExecuteTime": {
     "end_time": "2020-07-15T16:27:24.895328Z",
     "start_time": "2020-07-15T16:27:24.892055Z"
    }
   },
   "outputs": [
    {
     "name": "stdout",
     "output_type": "stream",
     "text": [
      "(428, 8)\n",
      "(108, 8)\n",
      "(428, 1)\n",
      "(108, 1)\n"
     ]
    }
   ],
   "source": [
    "print(X_train.shape)\n",
    "print(X_test.shape)\n",
    "print(y_train.shape)\n",
    "print(y_test.shape)"
   ]
  },
  {
   "cell_type": "markdown",
   "metadata": {},
   "source": [
    "## Criando e treinando o modelo de Machine Learning"
   ]
  },
  {
   "cell_type": "code",
   "execution_count": 46,
   "metadata": {
    "ExecuteTime": {
     "end_time": "2020-07-15T16:28:58.974186Z",
     "start_time": "2020-07-15T16:28:58.972193Z"
    }
   },
   "outputs": [],
   "source": [
    "# Criando uma instancia do modelo\n",
    "model_v1 = linear_model.LogisticRegression()"
   ]
  },
  {
   "cell_type": "code",
   "execution_count": 57,
   "metadata": {
    "ExecuteTime": {
     "end_time": "2020-07-15T16:34:07.626853Z",
     "start_time": "2020-07-15T16:34:07.617341Z"
    }
   },
   "outputs": [
    {
     "data": {
      "text/plain": [
       "(536, 1)"
      ]
     },
     "execution_count": 57,
     "metadata": {},
     "output_type": "execute_result"
    }
   ],
   "source": [
    "y.shape"
   ]
  },
  {
   "cell_type": "code",
   "execution_count": 50,
   "metadata": {
    "ExecuteTime": {
     "end_time": "2020-07-15T16:31:04.038089Z",
     "start_time": "2020-07-15T16:31:04.021351Z"
    }
   },
   "outputs": [
    {
     "name": "stderr",
     "output_type": "stream",
     "text": [
      "/home/lucas/anaconda3/lib/python3.7/site-packages/sklearn/utils/validation.py:760: DataConversionWarning: A column-vector y was passed when a 1d array was expected. Please change the shape of y to (n_samples, ), for example using ravel().\n",
      "  y = column_or_1d(y, warn=True)\n"
     ]
    },
    {
     "data": {
      "text/plain": [
       "LogisticRegression(C=1.0, class_weight=None, dual=False, fit_intercept=True,\n",
       "                   intercept_scaling=1, l1_ratio=None, max_iter=100,\n",
       "                   multi_class='auto', n_jobs=None, penalty='l2',\n",
       "                   random_state=None, solver='lbfgs', tol=0.0001, verbose=0,\n",
       "                   warm_start=False)"
      ]
     },
     "execution_count": 50,
     "metadata": {},
     "output_type": "execute_result"
    }
   ],
   "source": [
    "# Treinando o modelo\n",
    "model_v1.fit(X_train, y_train)"
   ]
  },
  {
   "cell_type": "code",
   "execution_count": 58,
   "metadata": {
    "ExecuteTime": {
     "end_time": "2020-07-15T16:34:50.017503Z",
     "start_time": "2020-07-15T16:34:50.014800Z"
    }
   },
   "outputs": [],
   "source": [
    "# Utilizando o modelo nos dados de teste\n",
    "prediction = model_v1.predict(X_test)"
   ]
  },
  {
   "cell_type": "code",
   "execution_count": 63,
   "metadata": {
    "ExecuteTime": {
     "end_time": "2020-07-15T16:36:47.831324Z",
     "start_time": "2020-07-15T16:36:47.824633Z"
    }
   },
   "outputs": [
    {
     "data": {
      "text/plain": [
       "array([[66,  6],\n",
       "       [21, 15]])"
      ]
     },
     "execution_count": 63,
     "metadata": {},
     "output_type": "execute_result"
    }
   ],
   "source": [
    "# Confusion Matrix\n",
    "metrics.confusion_matrix(y_test, prediction)"
   ]
  },
  {
   "cell_type": "code",
   "execution_count": 64,
   "metadata": {
    "ExecuteTime": {
     "end_time": "2020-07-15T16:36:48.347498Z",
     "start_time": "2020-07-15T16:36:48.343273Z"
    }
   },
   "outputs": [
    {
     "data": {
      "text/plain": [
       "75.0"
      ]
     },
     "execution_count": 64,
     "metadata": {},
     "output_type": "execute_result"
    }
   ],
   "source": [
    "# Accuracy\n",
    "metrics.accuracy_score(y_test, prediction) * 100"
   ]
  },
  {
   "cell_type": "code",
   "execution_count": 80,
   "metadata": {
    "ExecuteTime": {
     "end_time": "2020-07-15T16:48:47.187345Z",
     "start_time": "2020-07-15T16:48:47.182434Z"
    }
   },
   "outputs": [
    {
     "data": {
      "text/plain": [
       "0.6666666666666667"
      ]
     },
     "execution_count": 80,
     "metadata": {},
     "output_type": "execute_result"
    }
   ],
   "source": [
    "# ROC Score\n",
    "metrics.roc_auc_score(y_test, prediction)"
   ]
  },
  {
   "cell_type": "code",
   "execution_count": 84,
   "metadata": {
    "ExecuteTime": {
     "end_time": "2020-07-15T16:52:38.384276Z",
     "start_time": "2020-07-15T16:52:38.372091Z"
    }
   },
   "outputs": [
    {
     "name": "stdout",
     "output_type": "stream",
     "text": [
      "              precision    recall  f1-score   support\n",
      "\n",
      "         0.0     0.7586    0.9167    0.8302        72\n",
      "         1.0     0.7143    0.4167    0.5263        36\n",
      "\n",
      "    accuracy                         0.7500       108\n",
      "   macro avg     0.7365    0.6667    0.6783       108\n",
      "weighted avg     0.7438    0.7500    0.7289       108\n",
      "\n"
     ]
    }
   ],
   "source": [
    "# Classification Report\n",
    "print(metrics.classification_report(y_test, prediction, digits=4))"
   ]
  },
  {
   "cell_type": "code",
   "execution_count": 86,
   "metadata": {
    "ExecuteTime": {
     "end_time": "2020-07-15T16:53:42.482321Z",
     "start_time": "2020-07-15T16:53:42.477559Z"
    }
   },
   "outputs": [
    {
     "data": {
      "text/plain": [
       "0.0    290\n",
       "1.0    138\n",
       "Name: 8, dtype: int64"
      ]
     },
     "execution_count": 86,
     "metadata": {},
     "output_type": "execute_result"
    }
   ],
   "source": [
    "# Analisando o balanceamento das classes no conjunto de dados de treino\n",
    "classes = y_train.iloc[:,0].value_counts()\n",
    "classes"
   ]
  },
  {
   "cell_type": "code",
   "execution_count": 98,
   "metadata": {
    "ExecuteTime": {
     "end_time": "2020-07-15T17:04:48.879139Z",
     "start_time": "2020-07-15T17:04:48.875913Z"
    }
   },
   "outputs": [],
   "source": [
    "data_train_balanced = X_train.join(y_train)"
   ]
  },
  {
   "cell_type": "code",
   "execution_count": 99,
   "metadata": {
    "ExecuteTime": {
     "end_time": "2020-07-15T17:04:52.546932Z",
     "start_time": "2020-07-15T17:04:52.535655Z"
    }
   },
   "outputs": [
    {
     "data": {
      "text/html": [
       "<div>\n",
       "<style scoped>\n",
       "    .dataframe tbody tr th:only-of-type {\n",
       "        vertical-align: middle;\n",
       "    }\n",
       "\n",
       "    .dataframe tbody tr th {\n",
       "        vertical-align: top;\n",
       "    }\n",
       "\n",
       "    .dataframe thead th {\n",
       "        text-align: right;\n",
       "    }\n",
       "</style>\n",
       "<table border=\"1\" class=\"dataframe\">\n",
       "  <thead>\n",
       "    <tr style=\"text-align: right;\">\n",
       "      <th></th>\n",
       "      <th>0</th>\n",
       "      <th>1</th>\n",
       "      <th>2</th>\n",
       "      <th>3</th>\n",
       "      <th>4</th>\n",
       "      <th>5</th>\n",
       "      <th>6</th>\n",
       "      <th>7</th>\n",
       "      <th>8</th>\n",
       "    </tr>\n",
       "  </thead>\n",
       "  <tbody>\n",
       "    <tr>\n",
       "      <th>505</th>\n",
       "      <td>0.153846</td>\n",
       "      <td>0.331169</td>\n",
       "      <td>0.306122</td>\n",
       "      <td>0.233333</td>\n",
       "      <td>0.212048</td>\n",
       "      <td>0.214674</td>\n",
       "      <td>0.479256</td>\n",
       "      <td>0.021739</td>\n",
       "      <td>0.0</td>\n",
       "    </tr>\n",
       "    <tr>\n",
       "      <th>15</th>\n",
       "      <td>0.615385</td>\n",
       "      <td>0.357143</td>\n",
       "      <td>0.612245</td>\n",
       "      <td>0.000000</td>\n",
       "      <td>0.000000</td>\n",
       "      <td>0.467391</td>\n",
       "      <td>0.221745</td>\n",
       "      <td>0.630435</td>\n",
       "      <td>0.0</td>\n",
       "    </tr>\n",
       "    <tr>\n",
       "      <th>175</th>\n",
       "      <td>0.307692</td>\n",
       "      <td>0.675325</td>\n",
       "      <td>0.367347</td>\n",
       "      <td>0.450000</td>\n",
       "      <td>0.766265</td>\n",
       "      <td>0.345109</td>\n",
       "      <td>0.051502</td>\n",
       "      <td>0.173913</td>\n",
       "      <td>1.0</td>\n",
       "    </tr>\n",
       "    <tr>\n",
       "      <th>249</th>\n",
       "      <td>0.000000</td>\n",
       "      <td>0.662338</td>\n",
       "      <td>0.469388</td>\n",
       "      <td>0.000000</td>\n",
       "      <td>0.000000</td>\n",
       "      <td>0.535326</td>\n",
       "      <td>0.183119</td>\n",
       "      <td>0.152174</td>\n",
       "      <td>1.0</td>\n",
       "    </tr>\n",
       "    <tr>\n",
       "      <th>409</th>\n",
       "      <td>0.076923</td>\n",
       "      <td>0.175325</td>\n",
       "      <td>0.387755</td>\n",
       "      <td>0.000000</td>\n",
       "      <td>0.000000</td>\n",
       "      <td>0.097826</td>\n",
       "      <td>0.241774</td>\n",
       "      <td>0.108696</td>\n",
       "      <td>0.0</td>\n",
       "    </tr>\n",
       "    <tr>\n",
       "      <th>...</th>\n",
       "      <td>...</td>\n",
       "      <td>...</td>\n",
       "      <td>...</td>\n",
       "      <td>...</td>\n",
       "      <td>...</td>\n",
       "      <td>...</td>\n",
       "      <td>...</td>\n",
       "      <td>...</td>\n",
       "      <td>...</td>\n",
       "    </tr>\n",
       "    <tr>\n",
       "      <th>427</th>\n",
       "      <td>0.230769</td>\n",
       "      <td>0.740260</td>\n",
       "      <td>0.469388</td>\n",
       "      <td>0.500000</td>\n",
       "      <td>0.790361</td>\n",
       "      <td>0.470109</td>\n",
       "      <td>0.190272</td>\n",
       "      <td>0.304348</td>\n",
       "      <td>1.0</td>\n",
       "    </tr>\n",
       "    <tr>\n",
       "      <th>509</th>\n",
       "      <td>0.000000</td>\n",
       "      <td>0.500000</td>\n",
       "      <td>0.428571</td>\n",
       "      <td>0.500000</td>\n",
       "      <td>0.397590</td>\n",
       "      <td>0.437500</td>\n",
       "      <td>0.089413</td>\n",
       "      <td>0.260870</td>\n",
       "      <td>1.0</td>\n",
       "    </tr>\n",
       "    <tr>\n",
       "      <th>355</th>\n",
       "      <td>0.230769</td>\n",
       "      <td>0.246753</td>\n",
       "      <td>0.469388</td>\n",
       "      <td>0.000000</td>\n",
       "      <td>0.000000</td>\n",
       "      <td>0.078804</td>\n",
       "      <td>0.222461</td>\n",
       "      <td>0.086957</td>\n",
       "      <td>0.0</td>\n",
       "    </tr>\n",
       "    <tr>\n",
       "      <th>322</th>\n",
       "      <td>0.384615</td>\n",
       "      <td>0.383117</td>\n",
       "      <td>0.857143</td>\n",
       "      <td>0.616667</td>\n",
       "      <td>0.000000</td>\n",
       "      <td>0.570652</td>\n",
       "      <td>0.162375</td>\n",
       "      <td>0.956522</td>\n",
       "      <td>0.0</td>\n",
       "    </tr>\n",
       "    <tr>\n",
       "      <th>363</th>\n",
       "      <td>0.307692</td>\n",
       "      <td>0.461039</td>\n",
       "      <td>0.489796</td>\n",
       "      <td>0.000000</td>\n",
       "      <td>0.000000</td>\n",
       "      <td>0.290761</td>\n",
       "      <td>0.213162</td>\n",
       "      <td>0.543478</td>\n",
       "      <td>1.0</td>\n",
       "    </tr>\n",
       "  </tbody>\n",
       "</table>\n",
       "<p>428 rows × 9 columns</p>\n",
       "</div>"
      ],
      "text/plain": [
       "            0         1         2         3         4         5         6  \\\n",
       "505  0.153846  0.331169  0.306122  0.233333  0.212048  0.214674  0.479256   \n",
       "15   0.615385  0.357143  0.612245  0.000000  0.000000  0.467391  0.221745   \n",
       "175  0.307692  0.675325  0.367347  0.450000  0.766265  0.345109  0.051502   \n",
       "249  0.000000  0.662338  0.469388  0.000000  0.000000  0.535326  0.183119   \n",
       "409  0.076923  0.175325  0.387755  0.000000  0.000000  0.097826  0.241774   \n",
       "..        ...       ...       ...       ...       ...       ...       ...   \n",
       "427  0.230769  0.740260  0.469388  0.500000  0.790361  0.470109  0.190272   \n",
       "509  0.000000  0.500000  0.428571  0.500000  0.397590  0.437500  0.089413   \n",
       "355  0.230769  0.246753  0.469388  0.000000  0.000000  0.078804  0.222461   \n",
       "322  0.384615  0.383117  0.857143  0.616667  0.000000  0.570652  0.162375   \n",
       "363  0.307692  0.461039  0.489796  0.000000  0.000000  0.290761  0.213162   \n",
       "\n",
       "            7    8  \n",
       "505  0.021739  0.0  \n",
       "15   0.630435  0.0  \n",
       "175  0.173913  1.0  \n",
       "249  0.152174  1.0  \n",
       "409  0.108696  0.0  \n",
       "..        ...  ...  \n",
       "427  0.304348  1.0  \n",
       "509  0.260870  1.0  \n",
       "355  0.086957  0.0  \n",
       "322  0.956522  0.0  \n",
       "363  0.543478  1.0  \n",
       "\n",
       "[428 rows x 9 columns]"
      ]
     },
     "execution_count": 99,
     "metadata": {},
     "output_type": "execute_result"
    }
   ],
   "source": [
    "data_train_balanced"
   ]
  },
  {
   "cell_type": "code",
   "execution_count": 107,
   "metadata": {
    "ExecuteTime": {
     "end_time": "2020-07-15T17:20:08.173048Z",
     "start_time": "2020-07-15T17:20:08.162142Z"
    }
   },
   "outputs": [],
   "source": [
    "data_train_balanced_1 = data_train_balanced[data_train_balanced[8] == 1]"
   ]
  },
  {
   "cell_type": "code",
   "execution_count": 108,
   "metadata": {
    "ExecuteTime": {
     "end_time": "2020-07-15T17:20:11.124149Z",
     "start_time": "2020-07-15T17:20:11.111633Z"
    }
   },
   "outputs": [
    {
     "data": {
      "text/html": [
       "<div>\n",
       "<style scoped>\n",
       "    .dataframe tbody tr th:only-of-type {\n",
       "        vertical-align: middle;\n",
       "    }\n",
       "\n",
       "    .dataframe tbody tr th {\n",
       "        vertical-align: top;\n",
       "    }\n",
       "\n",
       "    .dataframe thead th {\n",
       "        text-align: right;\n",
       "    }\n",
       "</style>\n",
       "<table border=\"1\" class=\"dataframe\">\n",
       "  <thead>\n",
       "    <tr style=\"text-align: right;\">\n",
       "      <th></th>\n",
       "      <th>0</th>\n",
       "      <th>1</th>\n",
       "      <th>2</th>\n",
       "      <th>3</th>\n",
       "      <th>4</th>\n",
       "      <th>5</th>\n",
       "      <th>6</th>\n",
       "      <th>7</th>\n",
       "      <th>8</th>\n",
       "    </tr>\n",
       "  </thead>\n",
       "  <tbody>\n",
       "    <tr>\n",
       "      <th>175</th>\n",
       "      <td>0.307692</td>\n",
       "      <td>0.675325</td>\n",
       "      <td>0.367347</td>\n",
       "      <td>0.450000</td>\n",
       "      <td>0.766265</td>\n",
       "      <td>0.345109</td>\n",
       "      <td>0.051502</td>\n",
       "      <td>0.173913</td>\n",
       "      <td>1.0</td>\n",
       "    </tr>\n",
       "    <tr>\n",
       "      <th>249</th>\n",
       "      <td>0.000000</td>\n",
       "      <td>0.662338</td>\n",
       "      <td>0.469388</td>\n",
       "      <td>0.000000</td>\n",
       "      <td>0.000000</td>\n",
       "      <td>0.535326</td>\n",
       "      <td>0.183119</td>\n",
       "      <td>0.152174</td>\n",
       "      <td>1.0</td>\n",
       "    </tr>\n",
       "    <tr>\n",
       "      <th>524</th>\n",
       "      <td>0.615385</td>\n",
       "      <td>0.642857</td>\n",
       "      <td>0.428571</td>\n",
       "      <td>0.000000</td>\n",
       "      <td>0.000000</td>\n",
       "      <td>0.453804</td>\n",
       "      <td>0.036481</td>\n",
       "      <td>0.434783</td>\n",
       "      <td>1.0</td>\n",
       "    </tr>\n",
       "    <tr>\n",
       "      <th>9</th>\n",
       "      <td>0.384615</td>\n",
       "      <td>0.792208</td>\n",
       "      <td>0.489796</td>\n",
       "      <td>0.316667</td>\n",
       "      <td>0.421687</td>\n",
       "      <td>0.206522</td>\n",
       "      <td>0.364092</td>\n",
       "      <td>0.652174</td>\n",
       "      <td>1.0</td>\n",
       "    </tr>\n",
       "    <tr>\n",
       "      <th>352</th>\n",
       "      <td>0.307692</td>\n",
       "      <td>0.740260</td>\n",
       "      <td>0.551020</td>\n",
       "      <td>0.000000</td>\n",
       "      <td>0.000000</td>\n",
       "      <td>0.399457</td>\n",
       "      <td>0.518598</td>\n",
       "      <td>0.217391</td>\n",
       "      <td>1.0</td>\n",
       "    </tr>\n",
       "    <tr>\n",
       "      <th>...</th>\n",
       "      <td>...</td>\n",
       "      <td>...</td>\n",
       "      <td>...</td>\n",
       "      <td>...</td>\n",
       "      <td>...</td>\n",
       "      <td>...</td>\n",
       "      <td>...</td>\n",
       "      <td>...</td>\n",
       "      <td>...</td>\n",
       "    </tr>\n",
       "    <tr>\n",
       "      <th>372</th>\n",
       "      <td>0.307692</td>\n",
       "      <td>0.649351</td>\n",
       "      <td>0.591837</td>\n",
       "      <td>0.533333</td>\n",
       "      <td>0.000000</td>\n",
       "      <td>0.551630</td>\n",
       "      <td>0.340486</td>\n",
       "      <td>0.347826</td>\n",
       "      <td>1.0</td>\n",
       "    </tr>\n",
       "    <tr>\n",
       "      <th>10</th>\n",
       "      <td>0.000000</td>\n",
       "      <td>0.480519</td>\n",
       "      <td>0.612245</td>\n",
       "      <td>0.783333</td>\n",
       "      <td>0.554217</td>\n",
       "      <td>0.750000</td>\n",
       "      <td>0.338340</td>\n",
       "      <td>0.217391</td>\n",
       "      <td>1.0</td>\n",
       "    </tr>\n",
       "    <tr>\n",
       "      <th>427</th>\n",
       "      <td>0.230769</td>\n",
       "      <td>0.740260</td>\n",
       "      <td>0.469388</td>\n",
       "      <td>0.500000</td>\n",
       "      <td>0.790361</td>\n",
       "      <td>0.470109</td>\n",
       "      <td>0.190272</td>\n",
       "      <td>0.304348</td>\n",
       "      <td>1.0</td>\n",
       "    </tr>\n",
       "    <tr>\n",
       "      <th>509</th>\n",
       "      <td>0.000000</td>\n",
       "      <td>0.500000</td>\n",
       "      <td>0.428571</td>\n",
       "      <td>0.500000</td>\n",
       "      <td>0.397590</td>\n",
       "      <td>0.437500</td>\n",
       "      <td>0.089413</td>\n",
       "      <td>0.260870</td>\n",
       "      <td>1.0</td>\n",
       "    </tr>\n",
       "    <tr>\n",
       "      <th>363</th>\n",
       "      <td>0.307692</td>\n",
       "      <td>0.461039</td>\n",
       "      <td>0.489796</td>\n",
       "      <td>0.000000</td>\n",
       "      <td>0.000000</td>\n",
       "      <td>0.290761</td>\n",
       "      <td>0.213162</td>\n",
       "      <td>0.543478</td>\n",
       "      <td>1.0</td>\n",
       "    </tr>\n",
       "  </tbody>\n",
       "</table>\n",
       "<p>138 rows × 9 columns</p>\n",
       "</div>"
      ],
      "text/plain": [
       "            0         1         2         3         4         5         6  \\\n",
       "175  0.307692  0.675325  0.367347  0.450000  0.766265  0.345109  0.051502   \n",
       "249  0.000000  0.662338  0.469388  0.000000  0.000000  0.535326  0.183119   \n",
       "524  0.615385  0.642857  0.428571  0.000000  0.000000  0.453804  0.036481   \n",
       "9    0.384615  0.792208  0.489796  0.316667  0.421687  0.206522  0.364092   \n",
       "352  0.307692  0.740260  0.551020  0.000000  0.000000  0.399457  0.518598   \n",
       "..        ...       ...       ...       ...       ...       ...       ...   \n",
       "372  0.307692  0.649351  0.591837  0.533333  0.000000  0.551630  0.340486   \n",
       "10   0.000000  0.480519  0.612245  0.783333  0.554217  0.750000  0.338340   \n",
       "427  0.230769  0.740260  0.469388  0.500000  0.790361  0.470109  0.190272   \n",
       "509  0.000000  0.500000  0.428571  0.500000  0.397590  0.437500  0.089413   \n",
       "363  0.307692  0.461039  0.489796  0.000000  0.000000  0.290761  0.213162   \n",
       "\n",
       "            7    8  \n",
       "175  0.173913  1.0  \n",
       "249  0.152174  1.0  \n",
       "524  0.434783  1.0  \n",
       "9    0.652174  1.0  \n",
       "352  0.217391  1.0  \n",
       "..        ...  ...  \n",
       "372  0.347826  1.0  \n",
       "10   0.217391  1.0  \n",
       "427  0.304348  1.0  \n",
       "509  0.260870  1.0  \n",
       "363  0.543478  1.0  \n",
       "\n",
       "[138 rows x 9 columns]"
      ]
     },
     "execution_count": 108,
     "metadata": {},
     "output_type": "execute_result"
    }
   ],
   "source": [
    "data_train_balanced_1"
   ]
  },
  {
   "cell_type": "code",
   "execution_count": 113,
   "metadata": {
    "ExecuteTime": {
     "end_time": "2020-07-15T17:20:45.127742Z",
     "start_time": "2020-07-15T17:20:45.117858Z"
    }
   },
   "outputs": [],
   "source": [
    "data_train_balanced_0 = data_train_balanced[data_train_balanced[8] == 0.0]"
   ]
  },
  {
   "cell_type": "code",
   "execution_count": 114,
   "metadata": {
    "ExecuteTime": {
     "end_time": "2020-07-15T17:20:47.880873Z",
     "start_time": "2020-07-15T17:20:47.849761Z"
    }
   },
   "outputs": [
    {
     "data": {
      "text/html": [
       "<div>\n",
       "<style scoped>\n",
       "    .dataframe tbody tr th:only-of-type {\n",
       "        vertical-align: middle;\n",
       "    }\n",
       "\n",
       "    .dataframe tbody tr th {\n",
       "        vertical-align: top;\n",
       "    }\n",
       "\n",
       "    .dataframe thead th {\n",
       "        text-align: right;\n",
       "    }\n",
       "</style>\n",
       "<table border=\"1\" class=\"dataframe\">\n",
       "  <thead>\n",
       "    <tr style=\"text-align: right;\">\n",
       "      <th></th>\n",
       "      <th>0</th>\n",
       "      <th>1</th>\n",
       "      <th>2</th>\n",
       "      <th>3</th>\n",
       "      <th>4</th>\n",
       "      <th>5</th>\n",
       "      <th>6</th>\n",
       "      <th>7</th>\n",
       "      <th>8</th>\n",
       "    </tr>\n",
       "  </thead>\n",
       "  <tbody>\n",
       "    <tr>\n",
       "      <th>505</th>\n",
       "      <td>0.153846</td>\n",
       "      <td>0.331169</td>\n",
       "      <td>0.306122</td>\n",
       "      <td>0.233333</td>\n",
       "      <td>0.212048</td>\n",
       "      <td>0.214674</td>\n",
       "      <td>0.479256</td>\n",
       "      <td>0.021739</td>\n",
       "      <td>0.0</td>\n",
       "    </tr>\n",
       "    <tr>\n",
       "      <th>15</th>\n",
       "      <td>0.615385</td>\n",
       "      <td>0.357143</td>\n",
       "      <td>0.612245</td>\n",
       "      <td>0.000000</td>\n",
       "      <td>0.000000</td>\n",
       "      <td>0.467391</td>\n",
       "      <td>0.221745</td>\n",
       "      <td>0.630435</td>\n",
       "      <td>0.0</td>\n",
       "    </tr>\n",
       "    <tr>\n",
       "      <th>409</th>\n",
       "      <td>0.076923</td>\n",
       "      <td>0.175325</td>\n",
       "      <td>0.387755</td>\n",
       "      <td>0.000000</td>\n",
       "      <td>0.000000</td>\n",
       "      <td>0.097826</td>\n",
       "      <td>0.241774</td>\n",
       "      <td>0.108696</td>\n",
       "      <td>0.0</td>\n",
       "    </tr>\n",
       "    <tr>\n",
       "      <th>411</th>\n",
       "      <td>0.384615</td>\n",
       "      <td>0.285714</td>\n",
       "      <td>0.551020</td>\n",
       "      <td>0.500000</td>\n",
       "      <td>0.000000</td>\n",
       "      <td>0.255435</td>\n",
       "      <td>0.128755</td>\n",
       "      <td>0.347826</td>\n",
       "      <td>0.0</td>\n",
       "    </tr>\n",
       "    <tr>\n",
       "      <th>106</th>\n",
       "      <td>0.461538</td>\n",
       "      <td>0.435065</td>\n",
       "      <td>0.408163</td>\n",
       "      <td>0.650000</td>\n",
       "      <td>0.000000</td>\n",
       "      <td>0.434783</td>\n",
       "      <td>0.130186</td>\n",
       "      <td>0.065217</td>\n",
       "      <td>0.0</td>\n",
       "    </tr>\n",
       "    <tr>\n",
       "      <th>...</th>\n",
       "      <td>...</td>\n",
       "      <td>...</td>\n",
       "      <td>...</td>\n",
       "      <td>...</td>\n",
       "      <td>...</td>\n",
       "      <td>...</td>\n",
       "      <td>...</td>\n",
       "      <td>...</td>\n",
       "      <td>...</td>\n",
       "    </tr>\n",
       "    <tr>\n",
       "      <th>276</th>\n",
       "      <td>0.461538</td>\n",
       "      <td>0.233766</td>\n",
       "      <td>0.428571</td>\n",
       "      <td>0.500000</td>\n",
       "      <td>0.000000</td>\n",
       "      <td>0.217391</td>\n",
       "      <td>0.168097</td>\n",
       "      <td>0.434783</td>\n",
       "      <td>0.0</td>\n",
       "    </tr>\n",
       "    <tr>\n",
       "      <th>426</th>\n",
       "      <td>0.307692</td>\n",
       "      <td>0.571429</td>\n",
       "      <td>0.632653</td>\n",
       "      <td>0.516667</td>\n",
       "      <td>0.000000</td>\n",
       "      <td>0.266304</td>\n",
       "      <td>0.243920</td>\n",
       "      <td>0.913043</td>\n",
       "      <td>0.0</td>\n",
       "    </tr>\n",
       "    <tr>\n",
       "      <th>296</th>\n",
       "      <td>0.615385</td>\n",
       "      <td>0.480519</td>\n",
       "      <td>0.489796</td>\n",
       "      <td>0.316667</td>\n",
       "      <td>0.000000</td>\n",
       "      <td>0.133152</td>\n",
       "      <td>1.000000</td>\n",
       "      <td>0.543478</td>\n",
       "      <td>0.0</td>\n",
       "    </tr>\n",
       "    <tr>\n",
       "      <th>355</th>\n",
       "      <td>0.230769</td>\n",
       "      <td>0.246753</td>\n",
       "      <td>0.469388</td>\n",
       "      <td>0.000000</td>\n",
       "      <td>0.000000</td>\n",
       "      <td>0.078804</td>\n",
       "      <td>0.222461</td>\n",
       "      <td>0.086957</td>\n",
       "      <td>0.0</td>\n",
       "    </tr>\n",
       "    <tr>\n",
       "      <th>322</th>\n",
       "      <td>0.384615</td>\n",
       "      <td>0.383117</td>\n",
       "      <td>0.857143</td>\n",
       "      <td>0.616667</td>\n",
       "      <td>0.000000</td>\n",
       "      <td>0.570652</td>\n",
       "      <td>0.162375</td>\n",
       "      <td>0.956522</td>\n",
       "      <td>0.0</td>\n",
       "    </tr>\n",
       "  </tbody>\n",
       "</table>\n",
       "<p>290 rows × 9 columns</p>\n",
       "</div>"
      ],
      "text/plain": [
       "            0         1         2         3         4         5         6  \\\n",
       "505  0.153846  0.331169  0.306122  0.233333  0.212048  0.214674  0.479256   \n",
       "15   0.615385  0.357143  0.612245  0.000000  0.000000  0.467391  0.221745   \n",
       "409  0.076923  0.175325  0.387755  0.000000  0.000000  0.097826  0.241774   \n",
       "411  0.384615  0.285714  0.551020  0.500000  0.000000  0.255435  0.128755   \n",
       "106  0.461538  0.435065  0.408163  0.650000  0.000000  0.434783  0.130186   \n",
       "..        ...       ...       ...       ...       ...       ...       ...   \n",
       "276  0.461538  0.233766  0.428571  0.500000  0.000000  0.217391  0.168097   \n",
       "426  0.307692  0.571429  0.632653  0.516667  0.000000  0.266304  0.243920   \n",
       "296  0.615385  0.480519  0.489796  0.316667  0.000000  0.133152  1.000000   \n",
       "355  0.230769  0.246753  0.469388  0.000000  0.000000  0.078804  0.222461   \n",
       "322  0.384615  0.383117  0.857143  0.616667  0.000000  0.570652  0.162375   \n",
       "\n",
       "            7    8  \n",
       "505  0.021739  0.0  \n",
       "15   0.630435  0.0  \n",
       "409  0.108696  0.0  \n",
       "411  0.347826  0.0  \n",
       "106  0.065217  0.0  \n",
       "..        ...  ...  \n",
       "276  0.434783  0.0  \n",
       "426  0.913043  0.0  \n",
       "296  0.543478  0.0  \n",
       "355  0.086957  0.0  \n",
       "322  0.956522  0.0  \n",
       "\n",
       "[290 rows x 9 columns]"
      ]
     },
     "execution_count": 114,
     "metadata": {},
     "output_type": "execute_result"
    }
   ],
   "source": [
    "data_train_balanced_0"
   ]
  },
  {
   "cell_type": "code",
   "execution_count": 117,
   "metadata": {
    "ExecuteTime": {
     "end_time": "2020-07-15T17:21:56.232437Z",
     "start_time": "2020-07-15T17:21:56.203459Z"
    }
   },
   "outputs": [
    {
     "data": {
      "text/html": [
       "<div>\n",
       "<style scoped>\n",
       "    .dataframe tbody tr th:only-of-type {\n",
       "        vertical-align: middle;\n",
       "    }\n",
       "\n",
       "    .dataframe tbody tr th {\n",
       "        vertical-align: top;\n",
       "    }\n",
       "\n",
       "    .dataframe thead th {\n",
       "        text-align: right;\n",
       "    }\n",
       "</style>\n",
       "<table border=\"1\" class=\"dataframe\">\n",
       "  <thead>\n",
       "    <tr style=\"text-align: right;\">\n",
       "      <th></th>\n",
       "      <th>0</th>\n",
       "      <th>1</th>\n",
       "      <th>2</th>\n",
       "      <th>3</th>\n",
       "      <th>4</th>\n",
       "      <th>5</th>\n",
       "      <th>6</th>\n",
       "      <th>7</th>\n",
       "      <th>8</th>\n",
       "    </tr>\n",
       "  </thead>\n",
       "  <tbody>\n",
       "    <tr>\n",
       "      <th>505</th>\n",
       "      <td>0.153846</td>\n",
       "      <td>0.331169</td>\n",
       "      <td>0.306122</td>\n",
       "      <td>0.233333</td>\n",
       "      <td>0.212048</td>\n",
       "      <td>0.214674</td>\n",
       "      <td>0.479256</td>\n",
       "      <td>0.021739</td>\n",
       "      <td>0.0</td>\n",
       "    </tr>\n",
       "    <tr>\n",
       "      <th>15</th>\n",
       "      <td>0.615385</td>\n",
       "      <td>0.357143</td>\n",
       "      <td>0.612245</td>\n",
       "      <td>0.000000</td>\n",
       "      <td>0.000000</td>\n",
       "      <td>0.467391</td>\n",
       "      <td>0.221745</td>\n",
       "      <td>0.630435</td>\n",
       "      <td>0.0</td>\n",
       "    </tr>\n",
       "    <tr>\n",
       "      <th>409</th>\n",
       "      <td>0.076923</td>\n",
       "      <td>0.175325</td>\n",
       "      <td>0.387755</td>\n",
       "      <td>0.000000</td>\n",
       "      <td>0.000000</td>\n",
       "      <td>0.097826</td>\n",
       "      <td>0.241774</td>\n",
       "      <td>0.108696</td>\n",
       "      <td>0.0</td>\n",
       "    </tr>\n",
       "    <tr>\n",
       "      <th>411</th>\n",
       "      <td>0.384615</td>\n",
       "      <td>0.285714</td>\n",
       "      <td>0.551020</td>\n",
       "      <td>0.500000</td>\n",
       "      <td>0.000000</td>\n",
       "      <td>0.255435</td>\n",
       "      <td>0.128755</td>\n",
       "      <td>0.347826</td>\n",
       "      <td>0.0</td>\n",
       "    </tr>\n",
       "    <tr>\n",
       "      <th>106</th>\n",
       "      <td>0.461538</td>\n",
       "      <td>0.435065</td>\n",
       "      <td>0.408163</td>\n",
       "      <td>0.650000</td>\n",
       "      <td>0.000000</td>\n",
       "      <td>0.434783</td>\n",
       "      <td>0.130186</td>\n",
       "      <td>0.065217</td>\n",
       "      <td>0.0</td>\n",
       "    </tr>\n",
       "    <tr>\n",
       "      <th>...</th>\n",
       "      <td>...</td>\n",
       "      <td>...</td>\n",
       "      <td>...</td>\n",
       "      <td>...</td>\n",
       "      <td>...</td>\n",
       "      <td>...</td>\n",
       "      <td>...</td>\n",
       "      <td>...</td>\n",
       "      <td>...</td>\n",
       "    </tr>\n",
       "    <tr>\n",
       "      <th>405</th>\n",
       "      <td>0.076923</td>\n",
       "      <td>0.590909</td>\n",
       "      <td>0.306122</td>\n",
       "      <td>0.000000</td>\n",
       "      <td>0.000000</td>\n",
       "      <td>0.230978</td>\n",
       "      <td>0.435622</td>\n",
       "      <td>0.891304</td>\n",
       "      <td>0.0</td>\n",
       "    </tr>\n",
       "    <tr>\n",
       "      <th>27</th>\n",
       "      <td>0.461538</td>\n",
       "      <td>0.311688</td>\n",
       "      <td>0.693878</td>\n",
       "      <td>0.000000</td>\n",
       "      <td>0.000000</td>\n",
       "      <td>0.046196</td>\n",
       "      <td>0.078684</td>\n",
       "      <td>0.152174</td>\n",
       "      <td>0.0</td>\n",
       "    </tr>\n",
       "    <tr>\n",
       "      <th>205</th>\n",
       "      <td>0.076923</td>\n",
       "      <td>0.227273</td>\n",
       "      <td>0.571429</td>\n",
       "      <td>0.416667</td>\n",
       "      <td>0.089157</td>\n",
       "      <td>0.195652</td>\n",
       "      <td>0.361230</td>\n",
       "      <td>0.021739</td>\n",
       "      <td>0.0</td>\n",
       "    </tr>\n",
       "    <tr>\n",
       "      <th>464</th>\n",
       "      <td>0.230769</td>\n",
       "      <td>0.519481</td>\n",
       "      <td>0.571429</td>\n",
       "      <td>0.550000</td>\n",
       "      <td>0.313253</td>\n",
       "      <td>0.407609</td>\n",
       "      <td>0.162375</td>\n",
       "      <td>0.108696</td>\n",
       "      <td>0.0</td>\n",
       "    </tr>\n",
       "    <tr>\n",
       "      <th>72</th>\n",
       "      <td>0.153846</td>\n",
       "      <td>0.428571</td>\n",
       "      <td>0.510204</td>\n",
       "      <td>0.483333</td>\n",
       "      <td>0.301205</td>\n",
       "      <td>0.385870</td>\n",
       "      <td>0.443491</td>\n",
       "      <td>0.130435</td>\n",
       "      <td>0.0</td>\n",
       "    </tr>\n",
       "  </tbody>\n",
       "</table>\n",
       "<p>138 rows × 9 columns</p>\n",
       "</div>"
      ],
      "text/plain": [
       "            0         1         2         3         4         5         6  \\\n",
       "505  0.153846  0.331169  0.306122  0.233333  0.212048  0.214674  0.479256   \n",
       "15   0.615385  0.357143  0.612245  0.000000  0.000000  0.467391  0.221745   \n",
       "409  0.076923  0.175325  0.387755  0.000000  0.000000  0.097826  0.241774   \n",
       "411  0.384615  0.285714  0.551020  0.500000  0.000000  0.255435  0.128755   \n",
       "106  0.461538  0.435065  0.408163  0.650000  0.000000  0.434783  0.130186   \n",
       "..        ...       ...       ...       ...       ...       ...       ...   \n",
       "405  0.076923  0.590909  0.306122  0.000000  0.000000  0.230978  0.435622   \n",
       "27   0.461538  0.311688  0.693878  0.000000  0.000000  0.046196  0.078684   \n",
       "205  0.076923  0.227273  0.571429  0.416667  0.089157  0.195652  0.361230   \n",
       "464  0.230769  0.519481  0.571429  0.550000  0.313253  0.407609  0.162375   \n",
       "72   0.153846  0.428571  0.510204  0.483333  0.301205  0.385870  0.443491   \n",
       "\n",
       "            7    8  \n",
       "505  0.021739  0.0  \n",
       "15   0.630435  0.0  \n",
       "409  0.108696  0.0  \n",
       "411  0.347826  0.0  \n",
       "106  0.065217  0.0  \n",
       "..        ...  ...  \n",
       "405  0.891304  0.0  \n",
       "27   0.152174  0.0  \n",
       "205  0.021739  0.0  \n",
       "464  0.108696  0.0  \n",
       "72   0.130435  0.0  \n",
       "\n",
       "[138 rows x 9 columns]"
      ]
     },
     "execution_count": 117,
     "metadata": {},
     "output_type": "execute_result"
    }
   ],
   "source": [
    "data_train_balanced_0 = data_train_balanced_0.iloc[0:138,:]\n",
    "data_train_balanced_0"
   ]
  },
  {
   "cell_type": "code",
   "execution_count": 118,
   "metadata": {
    "ExecuteTime": {
     "end_time": "2020-07-15T17:23:24.526793Z",
     "start_time": "2020-07-15T17:23:24.494389Z"
    }
   },
   "outputs": [
    {
     "data": {
      "text/html": [
       "<div>\n",
       "<style scoped>\n",
       "    .dataframe tbody tr th:only-of-type {\n",
       "        vertical-align: middle;\n",
       "    }\n",
       "\n",
       "    .dataframe tbody tr th {\n",
       "        vertical-align: top;\n",
       "    }\n",
       "\n",
       "    .dataframe thead th {\n",
       "        text-align: right;\n",
       "    }\n",
       "</style>\n",
       "<table border=\"1\" class=\"dataframe\">\n",
       "  <thead>\n",
       "    <tr style=\"text-align: right;\">\n",
       "      <th></th>\n",
       "      <th>0</th>\n",
       "      <th>1</th>\n",
       "      <th>2</th>\n",
       "      <th>3</th>\n",
       "      <th>4</th>\n",
       "      <th>5</th>\n",
       "      <th>6</th>\n",
       "      <th>7</th>\n",
       "      <th>8</th>\n",
       "    </tr>\n",
       "  </thead>\n",
       "  <tbody>\n",
       "    <tr>\n",
       "      <th>505</th>\n",
       "      <td>0.153846</td>\n",
       "      <td>0.331169</td>\n",
       "      <td>0.306122</td>\n",
       "      <td>0.233333</td>\n",
       "      <td>0.212048</td>\n",
       "      <td>0.214674</td>\n",
       "      <td>0.479256</td>\n",
       "      <td>0.021739</td>\n",
       "      <td>0.0</td>\n",
       "    </tr>\n",
       "    <tr>\n",
       "      <th>15</th>\n",
       "      <td>0.615385</td>\n",
       "      <td>0.357143</td>\n",
       "      <td>0.612245</td>\n",
       "      <td>0.000000</td>\n",
       "      <td>0.000000</td>\n",
       "      <td>0.467391</td>\n",
       "      <td>0.221745</td>\n",
       "      <td>0.630435</td>\n",
       "      <td>0.0</td>\n",
       "    </tr>\n",
       "    <tr>\n",
       "      <th>409</th>\n",
       "      <td>0.076923</td>\n",
       "      <td>0.175325</td>\n",
       "      <td>0.387755</td>\n",
       "      <td>0.000000</td>\n",
       "      <td>0.000000</td>\n",
       "      <td>0.097826</td>\n",
       "      <td>0.241774</td>\n",
       "      <td>0.108696</td>\n",
       "      <td>0.0</td>\n",
       "    </tr>\n",
       "    <tr>\n",
       "      <th>411</th>\n",
       "      <td>0.384615</td>\n",
       "      <td>0.285714</td>\n",
       "      <td>0.551020</td>\n",
       "      <td>0.500000</td>\n",
       "      <td>0.000000</td>\n",
       "      <td>0.255435</td>\n",
       "      <td>0.128755</td>\n",
       "      <td>0.347826</td>\n",
       "      <td>0.0</td>\n",
       "    </tr>\n",
       "    <tr>\n",
       "      <th>106</th>\n",
       "      <td>0.461538</td>\n",
       "      <td>0.435065</td>\n",
       "      <td>0.408163</td>\n",
       "      <td>0.650000</td>\n",
       "      <td>0.000000</td>\n",
       "      <td>0.434783</td>\n",
       "      <td>0.130186</td>\n",
       "      <td>0.065217</td>\n",
       "      <td>0.0</td>\n",
       "    </tr>\n",
       "    <tr>\n",
       "      <th>...</th>\n",
       "      <td>...</td>\n",
       "      <td>...</td>\n",
       "      <td>...</td>\n",
       "      <td>...</td>\n",
       "      <td>...</td>\n",
       "      <td>...</td>\n",
       "      <td>...</td>\n",
       "      <td>...</td>\n",
       "      <td>...</td>\n",
       "    </tr>\n",
       "    <tr>\n",
       "      <th>372</th>\n",
       "      <td>0.307692</td>\n",
       "      <td>0.649351</td>\n",
       "      <td>0.591837</td>\n",
       "      <td>0.533333</td>\n",
       "      <td>0.000000</td>\n",
       "      <td>0.551630</td>\n",
       "      <td>0.340486</td>\n",
       "      <td>0.347826</td>\n",
       "      <td>1.0</td>\n",
       "    </tr>\n",
       "    <tr>\n",
       "      <th>10</th>\n",
       "      <td>0.000000</td>\n",
       "      <td>0.480519</td>\n",
       "      <td>0.612245</td>\n",
       "      <td>0.783333</td>\n",
       "      <td>0.554217</td>\n",
       "      <td>0.750000</td>\n",
       "      <td>0.338340</td>\n",
       "      <td>0.217391</td>\n",
       "      <td>1.0</td>\n",
       "    </tr>\n",
       "    <tr>\n",
       "      <th>427</th>\n",
       "      <td>0.230769</td>\n",
       "      <td>0.740260</td>\n",
       "      <td>0.469388</td>\n",
       "      <td>0.500000</td>\n",
       "      <td>0.790361</td>\n",
       "      <td>0.470109</td>\n",
       "      <td>0.190272</td>\n",
       "      <td>0.304348</td>\n",
       "      <td>1.0</td>\n",
       "    </tr>\n",
       "    <tr>\n",
       "      <th>509</th>\n",
       "      <td>0.000000</td>\n",
       "      <td>0.500000</td>\n",
       "      <td>0.428571</td>\n",
       "      <td>0.500000</td>\n",
       "      <td>0.397590</td>\n",
       "      <td>0.437500</td>\n",
       "      <td>0.089413</td>\n",
       "      <td>0.260870</td>\n",
       "      <td>1.0</td>\n",
       "    </tr>\n",
       "    <tr>\n",
       "      <th>363</th>\n",
       "      <td>0.307692</td>\n",
       "      <td>0.461039</td>\n",
       "      <td>0.489796</td>\n",
       "      <td>0.000000</td>\n",
       "      <td>0.000000</td>\n",
       "      <td>0.290761</td>\n",
       "      <td>0.213162</td>\n",
       "      <td>0.543478</td>\n",
       "      <td>1.0</td>\n",
       "    </tr>\n",
       "  </tbody>\n",
       "</table>\n",
       "<p>276 rows × 9 columns</p>\n",
       "</div>"
      ],
      "text/plain": [
       "            0         1         2         3         4         5         6  \\\n",
       "505  0.153846  0.331169  0.306122  0.233333  0.212048  0.214674  0.479256   \n",
       "15   0.615385  0.357143  0.612245  0.000000  0.000000  0.467391  0.221745   \n",
       "409  0.076923  0.175325  0.387755  0.000000  0.000000  0.097826  0.241774   \n",
       "411  0.384615  0.285714  0.551020  0.500000  0.000000  0.255435  0.128755   \n",
       "106  0.461538  0.435065  0.408163  0.650000  0.000000  0.434783  0.130186   \n",
       "..        ...       ...       ...       ...       ...       ...       ...   \n",
       "372  0.307692  0.649351  0.591837  0.533333  0.000000  0.551630  0.340486   \n",
       "10   0.000000  0.480519  0.612245  0.783333  0.554217  0.750000  0.338340   \n",
       "427  0.230769  0.740260  0.469388  0.500000  0.790361  0.470109  0.190272   \n",
       "509  0.000000  0.500000  0.428571  0.500000  0.397590  0.437500  0.089413   \n",
       "363  0.307692  0.461039  0.489796  0.000000  0.000000  0.290761  0.213162   \n",
       "\n",
       "            7    8  \n",
       "505  0.021739  0.0  \n",
       "15   0.630435  0.0  \n",
       "409  0.108696  0.0  \n",
       "411  0.347826  0.0  \n",
       "106  0.065217  0.0  \n",
       "..        ...  ...  \n",
       "372  0.347826  1.0  \n",
       "10   0.217391  1.0  \n",
       "427  0.304348  1.0  \n",
       "509  0.260870  1.0  \n",
       "363  0.543478  1.0  \n",
       "\n",
       "[276 rows x 9 columns]"
      ]
     },
     "execution_count": 118,
     "metadata": {},
     "output_type": "execute_result"
    }
   ],
   "source": [
    "data_train_balanced = pd.concat([data_train_balanced_0, data_train_balanced_1])\n",
    "data_train_balanced"
   ]
  },
  {
   "cell_type": "code",
   "execution_count": 120,
   "metadata": {
    "ExecuteTime": {
     "end_time": "2020-07-15T17:25:01.189196Z",
     "start_time": "2020-07-15T17:25:01.181197Z"
    }
   },
   "outputs": [],
   "source": [
    "X_2 = data_train_balanced.iloc[:,0:8]\n",
    "y_2 = data_train_balanced.iloc[:,8:9]"
   ]
  },
  {
   "cell_type": "code",
   "execution_count": 122,
   "metadata": {
    "ExecuteTime": {
     "end_time": "2020-07-15T17:25:21.066597Z",
     "start_time": "2020-07-15T17:25:21.059636Z"
    }
   },
   "outputs": [
    {
     "name": "stdout",
     "output_type": "stream",
     "text": [
      "(276, 8)\n",
      "(276, 1)\n"
     ]
    }
   ],
   "source": [
    "print(X_2.shape)\n",
    "print(y_2.shape)"
   ]
  },
  {
   "cell_type": "code",
   "execution_count": 125,
   "metadata": {
    "ExecuteTime": {
     "end_time": "2020-07-15T17:27:36.120947Z",
     "start_time": "2020-07-15T17:27:36.107733Z"
    }
   },
   "outputs": [
    {
     "name": "stderr",
     "output_type": "stream",
     "text": [
      "/home/lucas/anaconda3/lib/python3.7/site-packages/sklearn/utils/validation.py:760: DataConversionWarning: A column-vector y was passed when a 1d array was expected. Please change the shape of y to (n_samples, ), for example using ravel().\n",
      "  y = column_or_1d(y, warn=True)\n"
     ]
    },
    {
     "data": {
      "text/plain": [
       "LogisticRegression(C=1.0, class_weight=None, dual=False, fit_intercept=True,\n",
       "                   intercept_scaling=1, l1_ratio=None, max_iter=100,\n",
       "                   multi_class='auto', n_jobs=None, penalty='l2',\n",
       "                   random_state=None, solver='lbfgs', tol=0.0001, verbose=0,\n",
       "                   warm_start=False)"
      ]
     },
     "execution_count": 125,
     "metadata": {},
     "output_type": "execute_result"
    }
   ],
   "source": [
    "# Criando e treinando o model_v2\n",
    "model_v2 = linear_model.LogisticRegression()\n",
    "\n",
    "model_v2.fit(X_2, y_2)"
   ]
  },
  {
   "cell_type": "code",
   "execution_count": 127,
   "metadata": {
    "ExecuteTime": {
     "end_time": "2020-07-15T17:28:54.239263Z",
     "start_time": "2020-07-15T17:28:54.233715Z"
    }
   },
   "outputs": [],
   "source": [
    "# Utilizando o model_v2 para os dados de teste\n",
    "prediction_v2 = model_v2.predict(X_test)"
   ]
  },
  {
   "cell_type": "code",
   "execution_count": 129,
   "metadata": {
    "ExecuteTime": {
     "end_time": "2020-07-15T17:29:36.192793Z",
     "start_time": "2020-07-15T17:29:36.183995Z"
    }
   },
   "outputs": [
    {
     "data": {
      "text/plain": [
       "array([[56, 16],\n",
       "       [15, 21]])"
      ]
     },
     "execution_count": 129,
     "metadata": {},
     "output_type": "execute_result"
    }
   ],
   "source": [
    "# Confusion Matrix\n",
    "metrics.confusion_matrix(y_test, prediction_v2)"
   ]
  },
  {
   "cell_type": "code",
   "execution_count": 128,
   "metadata": {
    "ExecuteTime": {
     "end_time": "2020-07-15T17:29:10.044394Z",
     "start_time": "2020-07-15T17:29:10.032706Z"
    }
   },
   "outputs": [
    {
     "data": {
      "text/plain": [
       "0.7129629629629629"
      ]
     },
     "execution_count": 128,
     "metadata": {},
     "output_type": "execute_result"
    }
   ],
   "source": [
    "# Acuracia\n",
    "metrics.accuracy_score(y_test, prediction_v2)"
   ]
  },
  {
   "cell_type": "code",
   "execution_count": 133,
   "metadata": {
    "ExecuteTime": {
     "end_time": "2020-07-15T17:31:47.555804Z",
     "start_time": "2020-07-15T17:31:47.541075Z"
    }
   },
   "outputs": [
    {
     "name": "stdout",
     "output_type": "stream",
     "text": [
      "              precision    recall  f1-score   support\n",
      "\n",
      "         0.0     0.7887    0.7778    0.7832        72\n",
      "         1.0     0.5676    0.5833    0.5753        36\n",
      "\n",
      "    accuracy                         0.7130       108\n",
      "   macro avg     0.6781    0.6806    0.6793       108\n",
      "weighted avg     0.7150    0.7130    0.7139       108\n",
      "\n"
     ]
    }
   ],
   "source": [
    "# Classification Report \n",
    "print(metrics.classification_report(y_test, prediction_v2, digits=4))"
   ]
  },
  {
   "cell_type": "code",
   "execution_count": 156,
   "metadata": {
    "ExecuteTime": {
     "end_time": "2020-07-15T17:46:56.734607Z",
     "start_time": "2020-07-15T17:46:56.713935Z"
    }
   },
   "outputs": [
    {
     "data": {
      "text/html": [
       "<div>\n",
       "<style scoped>\n",
       "    .dataframe tbody tr th:only-of-type {\n",
       "        vertical-align: middle;\n",
       "    }\n",
       "\n",
       "    .dataframe tbody tr th {\n",
       "        vertical-align: top;\n",
       "    }\n",
       "\n",
       "    .dataframe thead th {\n",
       "        text-align: right;\n",
       "    }\n",
       "</style>\n",
       "<table border=\"1\" class=\"dataframe\">\n",
       "  <thead>\n",
       "    <tr style=\"text-align: right;\">\n",
       "      <th></th>\n",
       "      <th>0</th>\n",
       "      <th>1</th>\n",
       "      <th>5</th>\n",
       "      <th>7</th>\n",
       "    </tr>\n",
       "  </thead>\n",
       "  <tbody>\n",
       "    <tr>\n",
       "      <th>407</th>\n",
       "      <td>0.769231</td>\n",
       "      <td>0.675325</td>\n",
       "      <td>0.527174</td>\n",
       "      <td>0.652174</td>\n",
       "    </tr>\n",
       "    <tr>\n",
       "      <th>68</th>\n",
       "      <td>0.230769</td>\n",
       "      <td>0.448052</td>\n",
       "      <td>0.114130</td>\n",
       "      <td>0.021739</td>\n",
       "    </tr>\n",
       "    <tr>\n",
       "      <th>56</th>\n",
       "      <td>0.000000</td>\n",
       "      <td>0.422078</td>\n",
       "      <td>0.388587</td>\n",
       "      <td>0.369565</td>\n",
       "    </tr>\n",
       "    <tr>\n",
       "      <th>513</th>\n",
       "      <td>0.153846</td>\n",
       "      <td>0.350649</td>\n",
       "      <td>0.448370</td>\n",
       "      <td>0.021739</td>\n",
       "    </tr>\n",
       "    <tr>\n",
       "      <th>495</th>\n",
       "      <td>0.538462</td>\n",
       "      <td>0.519481</td>\n",
       "      <td>0.198370</td>\n",
       "      <td>0.347826</td>\n",
       "    </tr>\n",
       "    <tr>\n",
       "      <th>...</th>\n",
       "      <td>...</td>\n",
       "      <td>...</td>\n",
       "      <td>...</td>\n",
       "      <td>...</td>\n",
       "    </tr>\n",
       "    <tr>\n",
       "      <th>203</th>\n",
       "      <td>0.307692</td>\n",
       "      <td>0.636364</td>\n",
       "      <td>0.701087</td>\n",
       "      <td>0.021739</td>\n",
       "    </tr>\n",
       "    <tr>\n",
       "      <th>11</th>\n",
       "      <td>0.538462</td>\n",
       "      <td>0.409091</td>\n",
       "      <td>0.309783</td>\n",
       "      <td>0.217391</td>\n",
       "    </tr>\n",
       "    <tr>\n",
       "      <th>256</th>\n",
       "      <td>0.307692</td>\n",
       "      <td>0.337662</td>\n",
       "      <td>0.070652</td>\n",
       "      <td>0.108696</td>\n",
       "    </tr>\n",
       "    <tr>\n",
       "      <th>381</th>\n",
       "      <td>0.076923</td>\n",
       "      <td>0.889610</td>\n",
       "      <td>0.432065</td>\n",
       "      <td>0.369565</td>\n",
       "    </tr>\n",
       "    <tr>\n",
       "      <th>291</th>\n",
       "      <td>0.076923</td>\n",
       "      <td>0.733766</td>\n",
       "      <td>0.201087</td>\n",
       "      <td>0.065217</td>\n",
       "    </tr>\n",
       "  </tbody>\n",
       "</table>\n",
       "<p>108 rows × 4 columns</p>\n",
       "</div>"
      ],
      "text/plain": [
       "            0         1         5         7\n",
       "407  0.769231  0.675325  0.527174  0.652174\n",
       "68   0.230769  0.448052  0.114130  0.021739\n",
       "56   0.000000  0.422078  0.388587  0.369565\n",
       "513  0.153846  0.350649  0.448370  0.021739\n",
       "495  0.538462  0.519481  0.198370  0.347826\n",
       "..        ...       ...       ...       ...\n",
       "203  0.307692  0.636364  0.701087  0.021739\n",
       "11   0.538462  0.409091  0.309783  0.217391\n",
       "256  0.307692  0.337662  0.070652  0.108696\n",
       "381  0.076923  0.889610  0.432065  0.369565\n",
       "291  0.076923  0.733766  0.201087  0.065217\n",
       "\n",
       "[108 rows x 4 columns]"
      ]
     },
     "execution_count": 156,
     "metadata": {},
     "output_type": "execute_result"
    }
   ],
   "source": [
    "# Criando o model_v3, apenas com as variaveis com maior correlacao com a variavel target\n",
    "data_train_balanced_imp_1 = data_train_balanced.iloc[:,0:2]\n",
    "data_train_balanced_imp_2 = data_train_balanced.iloc[:,5:6]\n",
    "data_train_balanced_imp_3 = data_train_balanced.iloc[:,7:9]\n",
    "X_test_imp = X_test.drop([2,3,4,6], axis=1)\n",
    "X_test_imp"
   ]
  },
  {
   "cell_type": "code",
   "execution_count": 144,
   "metadata": {
    "ExecuteTime": {
     "end_time": "2020-07-15T17:42:05.373892Z",
     "start_time": "2020-07-15T17:42:05.360669Z"
    }
   },
   "outputs": [
    {
     "data": {
      "text/html": [
       "<div>\n",
       "<style scoped>\n",
       "    .dataframe tbody tr th:only-of-type {\n",
       "        vertical-align: middle;\n",
       "    }\n",
       "\n",
       "    .dataframe tbody tr th {\n",
       "        vertical-align: top;\n",
       "    }\n",
       "\n",
       "    .dataframe thead th {\n",
       "        text-align: right;\n",
       "    }\n",
       "</style>\n",
       "<table border=\"1\" class=\"dataframe\">\n",
       "  <thead>\n",
       "    <tr style=\"text-align: right;\">\n",
       "      <th></th>\n",
       "      <th>0</th>\n",
       "      <th>1</th>\n",
       "      <th>5</th>\n",
       "      <th>7</th>\n",
       "      <th>8</th>\n",
       "    </tr>\n",
       "  </thead>\n",
       "  <tbody>\n",
       "    <tr>\n",
       "      <th>505</th>\n",
       "      <td>0.153846</td>\n",
       "      <td>0.331169</td>\n",
       "      <td>0.214674</td>\n",
       "      <td>0.021739</td>\n",
       "      <td>0.0</td>\n",
       "    </tr>\n",
       "    <tr>\n",
       "      <th>15</th>\n",
       "      <td>0.615385</td>\n",
       "      <td>0.357143</td>\n",
       "      <td>0.467391</td>\n",
       "      <td>0.630435</td>\n",
       "      <td>0.0</td>\n",
       "    </tr>\n",
       "    <tr>\n",
       "      <th>409</th>\n",
       "      <td>0.076923</td>\n",
       "      <td>0.175325</td>\n",
       "      <td>0.097826</td>\n",
       "      <td>0.108696</td>\n",
       "      <td>0.0</td>\n",
       "    </tr>\n",
       "    <tr>\n",
       "      <th>411</th>\n",
       "      <td>0.384615</td>\n",
       "      <td>0.285714</td>\n",
       "      <td>0.255435</td>\n",
       "      <td>0.347826</td>\n",
       "      <td>0.0</td>\n",
       "    </tr>\n",
       "    <tr>\n",
       "      <th>106</th>\n",
       "      <td>0.461538</td>\n",
       "      <td>0.435065</td>\n",
       "      <td>0.434783</td>\n",
       "      <td>0.065217</td>\n",
       "      <td>0.0</td>\n",
       "    </tr>\n",
       "    <tr>\n",
       "      <th>...</th>\n",
       "      <td>...</td>\n",
       "      <td>...</td>\n",
       "      <td>...</td>\n",
       "      <td>...</td>\n",
       "      <td>...</td>\n",
       "    </tr>\n",
       "    <tr>\n",
       "      <th>372</th>\n",
       "      <td>0.307692</td>\n",
       "      <td>0.649351</td>\n",
       "      <td>0.551630</td>\n",
       "      <td>0.347826</td>\n",
       "      <td>1.0</td>\n",
       "    </tr>\n",
       "    <tr>\n",
       "      <th>10</th>\n",
       "      <td>0.000000</td>\n",
       "      <td>0.480519</td>\n",
       "      <td>0.750000</td>\n",
       "      <td>0.217391</td>\n",
       "      <td>1.0</td>\n",
       "    </tr>\n",
       "    <tr>\n",
       "      <th>427</th>\n",
       "      <td>0.230769</td>\n",
       "      <td>0.740260</td>\n",
       "      <td>0.470109</td>\n",
       "      <td>0.304348</td>\n",
       "      <td>1.0</td>\n",
       "    </tr>\n",
       "    <tr>\n",
       "      <th>509</th>\n",
       "      <td>0.000000</td>\n",
       "      <td>0.500000</td>\n",
       "      <td>0.437500</td>\n",
       "      <td>0.260870</td>\n",
       "      <td>1.0</td>\n",
       "    </tr>\n",
       "    <tr>\n",
       "      <th>363</th>\n",
       "      <td>0.307692</td>\n",
       "      <td>0.461039</td>\n",
       "      <td>0.290761</td>\n",
       "      <td>0.543478</td>\n",
       "      <td>1.0</td>\n",
       "    </tr>\n",
       "  </tbody>\n",
       "</table>\n",
       "<p>276 rows × 5 columns</p>\n",
       "</div>"
      ],
      "text/plain": [
       "            0         1         5         7    8\n",
       "505  0.153846  0.331169  0.214674  0.021739  0.0\n",
       "15   0.615385  0.357143  0.467391  0.630435  0.0\n",
       "409  0.076923  0.175325  0.097826  0.108696  0.0\n",
       "411  0.384615  0.285714  0.255435  0.347826  0.0\n",
       "106  0.461538  0.435065  0.434783  0.065217  0.0\n",
       "..        ...       ...       ...       ...  ...\n",
       "372  0.307692  0.649351  0.551630  0.347826  1.0\n",
       "10   0.000000  0.480519  0.750000  0.217391  1.0\n",
       "427  0.230769  0.740260  0.470109  0.304348  1.0\n",
       "509  0.000000  0.500000  0.437500  0.260870  1.0\n",
       "363  0.307692  0.461039  0.290761  0.543478  1.0\n",
       "\n",
       "[276 rows x 5 columns]"
      ]
     },
     "execution_count": 144,
     "metadata": {},
     "output_type": "execute_result"
    }
   ],
   "source": [
    "data_train_balanced_imp = data_train_balanced_imp_1.join(data_train_balanced_imp_2)\n",
    "data_train_balanced_imp = data_train_balanced_imp.join(data_train_balanced_imp_3)\n",
    "data_train_balanced_imp"
   ]
  },
  {
   "cell_type": "code",
   "execution_count": 150,
   "metadata": {
    "ExecuteTime": {
     "end_time": "2020-07-15T17:43:41.271202Z",
     "start_time": "2020-07-15T17:43:41.268069Z"
    }
   },
   "outputs": [],
   "source": [
    "X_3 = data_train_balanced_imp.iloc[:,0:4]\n",
    "y_3 = data_train_balanced_imp.iloc[:,4:5]"
   ]
  },
  {
   "cell_type": "code",
   "execution_count": 151,
   "metadata": {
    "ExecuteTime": {
     "end_time": "2020-07-15T17:44:25.828891Z",
     "start_time": "2020-07-15T17:44:25.819551Z"
    }
   },
   "outputs": [
    {
     "name": "stderr",
     "output_type": "stream",
     "text": [
      "/home/lucas/anaconda3/lib/python3.7/site-packages/sklearn/utils/validation.py:760: DataConversionWarning: A column-vector y was passed when a 1d array was expected. Please change the shape of y to (n_samples, ), for example using ravel().\n",
      "  y = column_or_1d(y, warn=True)\n"
     ]
    },
    {
     "data": {
      "text/plain": [
       "LogisticRegression(C=1.0, class_weight=None, dual=False, fit_intercept=True,\n",
       "                   intercept_scaling=1, l1_ratio=None, max_iter=100,\n",
       "                   multi_class='auto', n_jobs=None, penalty='l2',\n",
       "                   random_state=None, solver='lbfgs', tol=0.0001, verbose=0,\n",
       "                   warm_start=False)"
      ]
     },
     "execution_count": 151,
     "metadata": {},
     "output_type": "execute_result"
    }
   ],
   "source": [
    "# Criando e treinando o model_v3\n",
    "model_v3 = linear_model.LogisticRegression()\n",
    "\n",
    "model_v3.fit(X_3, y_3)"
   ]
  },
  {
   "cell_type": "code",
   "execution_count": 157,
   "metadata": {
    "ExecuteTime": {
     "end_time": "2020-07-15T17:47:03.586243Z",
     "start_time": "2020-07-15T17:47:03.583347Z"
    }
   },
   "outputs": [],
   "source": [
    "# Aplicando o modelo aos dados de teste\n",
    "prediction_v3 = model_v3.predict(X_test_imp)"
   ]
  },
  {
   "cell_type": "code",
   "execution_count": 158,
   "metadata": {
    "ExecuteTime": {
     "end_time": "2020-07-15T17:47:28.271766Z",
     "start_time": "2020-07-15T17:47:28.267907Z"
    }
   },
   "outputs": [
    {
     "data": {
      "text/plain": [
       "array([[55, 17],\n",
       "       [14, 22]])"
      ]
     },
     "execution_count": 158,
     "metadata": {},
     "output_type": "execute_result"
    }
   ],
   "source": [
    "# Confusion Matrix\n",
    "metrics.confusion_matrix(y_test, prediction_v3)"
   ]
  },
  {
   "cell_type": "code",
   "execution_count": 159,
   "metadata": {
    "ExecuteTime": {
     "end_time": "2020-07-15T17:47:51.236131Z",
     "start_time": "2020-07-15T17:47:51.229498Z"
    }
   },
   "outputs": [
    {
     "data": {
      "text/plain": [
       "0.7129629629629629"
      ]
     },
     "execution_count": 159,
     "metadata": {},
     "output_type": "execute_result"
    }
   ],
   "source": [
    "# Acuracia do modelo\n",
    "metrics.accuracy_score(y_test, prediction_v3)"
   ]
  },
  {
   "cell_type": "code",
   "execution_count": 183,
   "metadata": {
    "ExecuteTime": {
     "end_time": "2020-07-15T18:00:45.606703Z",
     "start_time": "2020-07-15T18:00:45.586273Z"
    }
   },
   "outputs": [
    {
     "data": {
      "text/html": [
       "<div>\n",
       "<style scoped>\n",
       "    .dataframe tbody tr th:only-of-type {\n",
       "        vertical-align: middle;\n",
       "    }\n",
       "\n",
       "    .dataframe tbody tr th {\n",
       "        vertical-align: top;\n",
       "    }\n",
       "\n",
       "    .dataframe thead th {\n",
       "        text-align: right;\n",
       "    }\n",
       "</style>\n",
       "<table border=\"1\" class=\"dataframe\">\n",
       "  <thead>\n",
       "    <tr style=\"text-align: right;\">\n",
       "      <th></th>\n",
       "      <th>num_gestacoes</th>\n",
       "      <th>glicose</th>\n",
       "      <th>pressao_sanguinea</th>\n",
       "      <th>grossura_pele</th>\n",
       "      <th>insulina</th>\n",
       "      <th>bmi</th>\n",
       "      <th>indice_historico</th>\n",
       "      <th>idade</th>\n",
       "      <th>classe</th>\n",
       "    </tr>\n",
       "  </thead>\n",
       "  <tbody>\n",
       "    <tr>\n",
       "      <th>0</th>\n",
       "      <td>6</td>\n",
       "      <td>148</td>\n",
       "      <td>72</td>\n",
       "      <td>35</td>\n",
       "      <td>0</td>\n",
       "      <td>33.6</td>\n",
       "      <td>0.627</td>\n",
       "      <td>50</td>\n",
       "      <td>1</td>\n",
       "    </tr>\n",
       "    <tr>\n",
       "      <th>1</th>\n",
       "      <td>1</td>\n",
       "      <td>85</td>\n",
       "      <td>66</td>\n",
       "      <td>29</td>\n",
       "      <td>0</td>\n",
       "      <td>26.6</td>\n",
       "      <td>0.351</td>\n",
       "      <td>31</td>\n",
       "      <td>0</td>\n",
       "    </tr>\n",
       "    <tr>\n",
       "      <th>2</th>\n",
       "      <td>8</td>\n",
       "      <td>183</td>\n",
       "      <td>64</td>\n",
       "      <td>0</td>\n",
       "      <td>0</td>\n",
       "      <td>23.3</td>\n",
       "      <td>0.672</td>\n",
       "      <td>32</td>\n",
       "      <td>1</td>\n",
       "    </tr>\n",
       "    <tr>\n",
       "      <th>3</th>\n",
       "      <td>1</td>\n",
       "      <td>89</td>\n",
       "      <td>66</td>\n",
       "      <td>23</td>\n",
       "      <td>94</td>\n",
       "      <td>28.1</td>\n",
       "      <td>0.167</td>\n",
       "      <td>21</td>\n",
       "      <td>0</td>\n",
       "    </tr>\n",
       "    <tr>\n",
       "      <th>5</th>\n",
       "      <td>5</td>\n",
       "      <td>116</td>\n",
       "      <td>74</td>\n",
       "      <td>0</td>\n",
       "      <td>0</td>\n",
       "      <td>25.6</td>\n",
       "      <td>0.201</td>\n",
       "      <td>30</td>\n",
       "      <td>0</td>\n",
       "    </tr>\n",
       "  </tbody>\n",
       "</table>\n",
       "</div>"
      ],
      "text/plain": [
       "   num_gestacoes  glicose  pressao_sanguinea  grossura_pele  insulina   bmi  \\\n",
       "0              6      148                 72             35         0  33.6   \n",
       "1              1       85                 66             29         0  26.6   \n",
       "2              8      183                 64              0         0  23.3   \n",
       "3              1       89                 66             23        94  28.1   \n",
       "5              5      116                 74              0         0  25.6   \n",
       "\n",
       "   indice_historico  idade  classe  \n",
       "0             0.627     50       1  \n",
       "1             0.351     31       0  \n",
       "2             0.672     32       1  \n",
       "3             0.167     21       0  \n",
       "5             0.201     30       0  "
      ]
     },
     "execution_count": 183,
     "metadata": {},
     "output_type": "execute_result"
    }
   ],
   "source": [
    "# Criando o model_v4, sem a normalizacao dos dados\n",
    "new_df_treino.head()"
   ]
  },
  {
   "cell_type": "code",
   "execution_count": 186,
   "metadata": {
    "ExecuteTime": {
     "end_time": "2020-07-15T18:02:04.465299Z",
     "start_time": "2020-07-15T18:02:04.460066Z"
    }
   },
   "outputs": [],
   "source": [
    "X_4 = new_df_treino.iloc[:,0:8]\n",
    "y_4 = new_df_treino.iloc[:,8:9]"
   ]
  },
  {
   "cell_type": "code",
   "execution_count": 188,
   "metadata": {
    "ExecuteTime": {
     "end_time": "2020-07-15T18:02:58.134999Z",
     "start_time": "2020-07-15T18:02:58.107807Z"
    }
   },
   "outputs": [
    {
     "name": "stderr",
     "output_type": "stream",
     "text": [
      "/home/lucas/anaconda3/lib/python3.7/site-packages/sklearn/utils/validation.py:760: DataConversionWarning: A column-vector y was passed when a 1d array was expected. Please change the shape of y to (n_samples, ), for example using ravel().\n",
      "  y = column_or_1d(y, warn=True)\n",
      "/home/lucas/anaconda3/lib/python3.7/site-packages/sklearn/linear_model/_logistic.py:940: ConvergenceWarning: lbfgs failed to converge (status=1):\n",
      "STOP: TOTAL NO. of ITERATIONS REACHED LIMIT.\n",
      "\n",
      "Increase the number of iterations (max_iter) or scale the data as shown in:\n",
      "    https://scikit-learn.org/stable/modules/preprocessing.html\n",
      "Please also refer to the documentation for alternative solver options:\n",
      "    https://scikit-learn.org/stable/modules/linear_model.html#logistic-regression\n",
      "  extra_warning_msg=_LOGISTIC_SOLVER_CONVERGENCE_MSG)\n"
     ]
    },
    {
     "data": {
      "text/plain": [
       "LogisticRegression(C=1.0, class_weight=None, dual=False, fit_intercept=True,\n",
       "                   intercept_scaling=1, l1_ratio=None, max_iter=100,\n",
       "                   multi_class='auto', n_jobs=None, penalty='l2',\n",
       "                   random_state=None, solver='lbfgs', tol=0.0001, verbose=0,\n",
       "                   warm_start=False)"
      ]
     },
     "execution_count": 188,
     "metadata": {},
     "output_type": "execute_result"
    }
   ],
   "source": [
    "# Criando e treinando o model_v4\n",
    "model_v4 = linear_model.LogisticRegression()\n",
    "\n",
    "model_v4.fit(X_4, y_4)"
   ]
  },
  {
   "cell_type": "code",
   "execution_count": 189,
   "metadata": {
    "ExecuteTime": {
     "end_time": "2020-07-15T18:03:33.691396Z",
     "start_time": "2020-07-15T18:03:33.683664Z"
    }
   },
   "outputs": [],
   "source": [
    "# Predictions_4\n",
    "prediction_v4 = model_v4.predict(X_test)"
   ]
  },
  {
   "cell_type": "code",
   "execution_count": 190,
   "metadata": {
    "ExecuteTime": {
     "end_time": "2020-07-15T18:04:15.978439Z",
     "start_time": "2020-07-15T18:04:15.966573Z"
    }
   },
   "outputs": [
    {
     "data": {
      "text/plain": [
       "array([[72,  0],\n",
       "       [36,  0]])"
      ]
     },
     "execution_count": 190,
     "metadata": {},
     "output_type": "execute_result"
    }
   ],
   "source": [
    "# Confusion Matrix\n",
    "metrics.confusion_matrix(y_test, prediction_v4)"
   ]
  },
  {
   "cell_type": "code",
   "execution_count": 191,
   "metadata": {
    "ExecuteTime": {
     "end_time": "2020-07-15T18:04:42.336906Z",
     "start_time": "2020-07-15T18:04:42.333050Z"
    }
   },
   "outputs": [
    {
     "data": {
      "text/plain": [
       "0.6666666666666666"
      ]
     },
     "execution_count": 191,
     "metadata": {},
     "output_type": "execute_result"
    }
   ],
   "source": [
    "metrics.accuracy_score(y_test, prediction_v4)"
   ]
  },
  {
   "cell_type": "markdown",
   "metadata": {},
   "source": [
    "## O Metodo com melhor acuracia foi o model_v1"
   ]
  },
  {
   "cell_type": "code",
   "execution_count": 205,
   "metadata": {
    "ExecuteTime": {
     "end_time": "2020-07-15T18:12:23.144408Z",
     "start_time": "2020-07-15T18:12:23.132612Z"
    }
   },
   "outputs": [
    {
     "data": {
      "text/html": [
       "<div>\n",
       "<style scoped>\n",
       "    .dataframe tbody tr th:only-of-type {\n",
       "        vertical-align: middle;\n",
       "    }\n",
       "\n",
       "    .dataframe tbody tr th {\n",
       "        vertical-align: top;\n",
       "    }\n",
       "\n",
       "    .dataframe thead th {\n",
       "        text-align: right;\n",
       "    }\n",
       "</style>\n",
       "<table border=\"1\" class=\"dataframe\">\n",
       "  <thead>\n",
       "    <tr style=\"text-align: right;\">\n",
       "      <th></th>\n",
       "      <th>id</th>\n",
       "      <th>num_gestacoes</th>\n",
       "      <th>glicose</th>\n",
       "      <th>pressao_sanguinea</th>\n",
       "      <th>grossura_pele</th>\n",
       "      <th>insulina</th>\n",
       "      <th>bmi</th>\n",
       "      <th>indice_historico</th>\n",
       "      <th>idade</th>\n",
       "    </tr>\n",
       "  </thead>\n",
       "  <tbody>\n",
       "    <tr>\n",
       "      <th>0</th>\n",
       "      <td>1</td>\n",
       "      <td>1</td>\n",
       "      <td>108</td>\n",
       "      <td>88</td>\n",
       "      <td>19</td>\n",
       "      <td>0</td>\n",
       "      <td>27.1</td>\n",
       "      <td>0.400</td>\n",
       "      <td>24</td>\n",
       "    </tr>\n",
       "    <tr>\n",
       "      <th>1</th>\n",
       "      <td>2</td>\n",
       "      <td>6</td>\n",
       "      <td>96</td>\n",
       "      <td>0</td>\n",
       "      <td>0</td>\n",
       "      <td>0</td>\n",
       "      <td>23.7</td>\n",
       "      <td>0.190</td>\n",
       "      <td>28</td>\n",
       "    </tr>\n",
       "    <tr>\n",
       "      <th>2</th>\n",
       "      <td>3</td>\n",
       "      <td>1</td>\n",
       "      <td>124</td>\n",
       "      <td>74</td>\n",
       "      <td>36</td>\n",
       "      <td>0</td>\n",
       "      <td>27.8</td>\n",
       "      <td>0.100</td>\n",
       "      <td>30</td>\n",
       "    </tr>\n",
       "    <tr>\n",
       "      <th>3</th>\n",
       "      <td>4</td>\n",
       "      <td>7</td>\n",
       "      <td>150</td>\n",
       "      <td>78</td>\n",
       "      <td>29</td>\n",
       "      <td>126</td>\n",
       "      <td>35.2</td>\n",
       "      <td>0.692</td>\n",
       "      <td>54</td>\n",
       "    </tr>\n",
       "    <tr>\n",
       "      <th>4</th>\n",
       "      <td>5</td>\n",
       "      <td>4</td>\n",
       "      <td>183</td>\n",
       "      <td>0</td>\n",
       "      <td>0</td>\n",
       "      <td>0</td>\n",
       "      <td>28.4</td>\n",
       "      <td>0.212</td>\n",
       "      <td>36</td>\n",
       "    </tr>\n",
       "    <tr>\n",
       "      <th>...</th>\n",
       "      <td>...</td>\n",
       "      <td>...</td>\n",
       "      <td>...</td>\n",
       "      <td>...</td>\n",
       "      <td>...</td>\n",
       "      <td>...</td>\n",
       "      <td>...</td>\n",
       "      <td>...</td>\n",
       "      <td>...</td>\n",
       "    </tr>\n",
       "    <tr>\n",
       "      <th>163</th>\n",
       "      <td>164</td>\n",
       "      <td>10</td>\n",
       "      <td>101</td>\n",
       "      <td>76</td>\n",
       "      <td>48</td>\n",
       "      <td>180</td>\n",
       "      <td>32.9</td>\n",
       "      <td>0.171</td>\n",
       "      <td>63</td>\n",
       "    </tr>\n",
       "    <tr>\n",
       "      <th>164</th>\n",
       "      <td>165</td>\n",
       "      <td>2</td>\n",
       "      <td>122</td>\n",
       "      <td>70</td>\n",
       "      <td>27</td>\n",
       "      <td>0</td>\n",
       "      <td>36.8</td>\n",
       "      <td>0.340</td>\n",
       "      <td>27</td>\n",
       "    </tr>\n",
       "    <tr>\n",
       "      <th>165</th>\n",
       "      <td>166</td>\n",
       "      <td>5</td>\n",
       "      <td>121</td>\n",
       "      <td>72</td>\n",
       "      <td>23</td>\n",
       "      <td>112</td>\n",
       "      <td>26.2</td>\n",
       "      <td>0.245</td>\n",
       "      <td>30</td>\n",
       "    </tr>\n",
       "    <tr>\n",
       "      <th>166</th>\n",
       "      <td>167</td>\n",
       "      <td>1</td>\n",
       "      <td>126</td>\n",
       "      <td>60</td>\n",
       "      <td>0</td>\n",
       "      <td>0</td>\n",
       "      <td>30.1</td>\n",
       "      <td>0.349</td>\n",
       "      <td>47</td>\n",
       "    </tr>\n",
       "    <tr>\n",
       "      <th>167</th>\n",
       "      <td>168</td>\n",
       "      <td>1</td>\n",
       "      <td>93</td>\n",
       "      <td>70</td>\n",
       "      <td>31</td>\n",
       "      <td>0</td>\n",
       "      <td>30.4</td>\n",
       "      <td>0.234</td>\n",
       "      <td>23</td>\n",
       "    </tr>\n",
       "  </tbody>\n",
       "</table>\n",
       "<p>168 rows × 9 columns</p>\n",
       "</div>"
      ],
      "text/plain": [
       "      id  num_gestacoes  glicose  pressao_sanguinea  grossura_pele  insulina  \\\n",
       "0      1              1      108                 88             19         0   \n",
       "1      2              6       96                  0              0         0   \n",
       "2      3              1      124                 74             36         0   \n",
       "3      4              7      150                 78             29       126   \n",
       "4      5              4      183                  0              0         0   \n",
       "..   ...            ...      ...                ...            ...       ...   \n",
       "163  164             10      101                 76             48       180   \n",
       "164  165              2      122                 70             27         0   \n",
       "165  166              5      121                 72             23       112   \n",
       "166  167              1      126                 60              0         0   \n",
       "167  168              1       93                 70             31         0   \n",
       "\n",
       "      bmi  indice_historico  idade  \n",
       "0    27.1             0.400     24  \n",
       "1    23.7             0.190     28  \n",
       "2    27.8             0.100     30  \n",
       "3    35.2             0.692     54  \n",
       "4    28.4             0.212     36  \n",
       "..    ...               ...    ...  \n",
       "163  32.9             0.171     63  \n",
       "164  36.8             0.340     27  \n",
       "165  26.2             0.245     30  \n",
       "166  30.1             0.349     47  \n",
       "167  30.4             0.234     23  \n",
       "\n",
       "[168 rows x 9 columns]"
      ]
     },
     "execution_count": 205,
     "metadata": {},
     "output_type": "execute_result"
    }
   ],
   "source": [
    "# Aplicando o modelo aos dados de reais\n",
    "\n",
    "df_real_data = pd.read_csv('../../dados/challenge_1/dados/dataset_teste.csv')\n",
    "df_real_data"
   ]
  },
  {
   "cell_type": "code",
   "execution_count": 206,
   "metadata": {
    "ExecuteTime": {
     "end_time": "2020-07-15T18:12:24.652310Z",
     "start_time": "2020-07-15T18:12:24.642650Z"
    }
   },
   "outputs": [
    {
     "name": "stdout",
     "output_type": "stream",
     "text": [
      "(168, 8)\n"
     ]
    },
    {
     "data": {
      "text/html": [
       "<div>\n",
       "<style scoped>\n",
       "    .dataframe tbody tr th:only-of-type {\n",
       "        vertical-align: middle;\n",
       "    }\n",
       "\n",
       "    .dataframe tbody tr th {\n",
       "        vertical-align: top;\n",
       "    }\n",
       "\n",
       "    .dataframe thead th {\n",
       "        text-align: right;\n",
       "    }\n",
       "</style>\n",
       "<table border=\"1\" class=\"dataframe\">\n",
       "  <thead>\n",
       "    <tr style=\"text-align: right;\">\n",
       "      <th></th>\n",
       "      <th>num_gestacoes</th>\n",
       "      <th>glicose</th>\n",
       "      <th>pressao_sanguinea</th>\n",
       "      <th>grossura_pele</th>\n",
       "      <th>insulina</th>\n",
       "      <th>bmi</th>\n",
       "      <th>indice_historico</th>\n",
       "      <th>idade</th>\n",
       "    </tr>\n",
       "  </thead>\n",
       "  <tbody>\n",
       "    <tr>\n",
       "      <th>0</th>\n",
       "      <td>1</td>\n",
       "      <td>108</td>\n",
       "      <td>88</td>\n",
       "      <td>19</td>\n",
       "      <td>0</td>\n",
       "      <td>27.1</td>\n",
       "      <td>0.400</td>\n",
       "      <td>24</td>\n",
       "    </tr>\n",
       "    <tr>\n",
       "      <th>1</th>\n",
       "      <td>6</td>\n",
       "      <td>96</td>\n",
       "      <td>0</td>\n",
       "      <td>0</td>\n",
       "      <td>0</td>\n",
       "      <td>23.7</td>\n",
       "      <td>0.190</td>\n",
       "      <td>28</td>\n",
       "    </tr>\n",
       "    <tr>\n",
       "      <th>2</th>\n",
       "      <td>1</td>\n",
       "      <td>124</td>\n",
       "      <td>74</td>\n",
       "      <td>36</td>\n",
       "      <td>0</td>\n",
       "      <td>27.8</td>\n",
       "      <td>0.100</td>\n",
       "      <td>30</td>\n",
       "    </tr>\n",
       "    <tr>\n",
       "      <th>3</th>\n",
       "      <td>7</td>\n",
       "      <td>150</td>\n",
       "      <td>78</td>\n",
       "      <td>29</td>\n",
       "      <td>126</td>\n",
       "      <td>35.2</td>\n",
       "      <td>0.692</td>\n",
       "      <td>54</td>\n",
       "    </tr>\n",
       "    <tr>\n",
       "      <th>4</th>\n",
       "      <td>4</td>\n",
       "      <td>183</td>\n",
       "      <td>0</td>\n",
       "      <td>0</td>\n",
       "      <td>0</td>\n",
       "      <td>28.4</td>\n",
       "      <td>0.212</td>\n",
       "      <td>36</td>\n",
       "    </tr>\n",
       "  </tbody>\n",
       "</table>\n",
       "</div>"
      ],
      "text/plain": [
       "   num_gestacoes  glicose  pressao_sanguinea  grossura_pele  insulina   bmi  \\\n",
       "0              1      108                 88             19         0  27.1   \n",
       "1              6       96                  0              0         0  23.7   \n",
       "2              1      124                 74             36         0  27.8   \n",
       "3              7      150                 78             29       126  35.2   \n",
       "4              4      183                  0              0         0  28.4   \n",
       "\n",
       "   indice_historico  idade  \n",
       "0             0.400     24  \n",
       "1             0.190     28  \n",
       "2             0.100     30  \n",
       "3             0.692     54  \n",
       "4             0.212     36  "
      ]
     },
     "execution_count": 206,
     "metadata": {},
     "output_type": "execute_result"
    }
   ],
   "source": [
    "df_real_data = df_real_data.iloc[:,1:9]\n",
    "print(df_real_data.shape)\n",
    "df_real_data.head()"
   ]
  },
  {
   "cell_type": "code",
   "execution_count": 207,
   "metadata": {
    "ExecuteTime": {
     "end_time": "2020-07-15T18:12:26.947491Z",
     "start_time": "2020-07-15T18:12:26.937479Z"
    }
   },
   "outputs": [
    {
     "data": {
      "text/html": [
       "<div>\n",
       "<style scoped>\n",
       "    .dataframe tbody tr th:only-of-type {\n",
       "        vertical-align: middle;\n",
       "    }\n",
       "\n",
       "    .dataframe tbody tr th {\n",
       "        vertical-align: top;\n",
       "    }\n",
       "\n",
       "    .dataframe thead th {\n",
       "        text-align: right;\n",
       "    }\n",
       "</style>\n",
       "<table border=\"1\" class=\"dataframe\">\n",
       "  <thead>\n",
       "    <tr style=\"text-align: right;\">\n",
       "      <th></th>\n",
       "      <th>0</th>\n",
       "      <th>1</th>\n",
       "      <th>2</th>\n",
       "      <th>3</th>\n",
       "      <th>4</th>\n",
       "      <th>5</th>\n",
       "      <th>6</th>\n",
       "      <th>7</th>\n",
       "    </tr>\n",
       "  </thead>\n",
       "  <tbody>\n",
       "    <tr>\n",
       "      <th>0</th>\n",
       "      <td>0.076923</td>\n",
       "      <td>0.333333</td>\n",
       "      <td>0.771930</td>\n",
       "      <td>0.387755</td>\n",
       "      <td>0.000000</td>\n",
       "      <td>0.472949</td>\n",
       "      <td>0.187735</td>\n",
       "      <td>0.061224</td>\n",
       "    </tr>\n",
       "    <tr>\n",
       "      <th>1</th>\n",
       "      <td>0.461538</td>\n",
       "      <td>0.256410</td>\n",
       "      <td>0.000000</td>\n",
       "      <td>0.000000</td>\n",
       "      <td>0.000000</td>\n",
       "      <td>0.413613</td>\n",
       "      <td>0.056320</td>\n",
       "      <td>0.142857</td>\n",
       "    </tr>\n",
       "    <tr>\n",
       "      <th>2</th>\n",
       "      <td>0.076923</td>\n",
       "      <td>0.435897</td>\n",
       "      <td>0.649123</td>\n",
       "      <td>0.734694</td>\n",
       "      <td>0.000000</td>\n",
       "      <td>0.485166</td>\n",
       "      <td>0.000000</td>\n",
       "      <td>0.183673</td>\n",
       "    </tr>\n",
       "    <tr>\n",
       "      <th>3</th>\n",
       "      <td>0.538462</td>\n",
       "      <td>0.602564</td>\n",
       "      <td>0.684211</td>\n",
       "      <td>0.591837</td>\n",
       "      <td>0.028353</td>\n",
       "      <td>0.614311</td>\n",
       "      <td>0.370463</td>\n",
       "      <td>0.673469</td>\n",
       "    </tr>\n",
       "    <tr>\n",
       "      <th>4</th>\n",
       "      <td>0.307692</td>\n",
       "      <td>0.814103</td>\n",
       "      <td>0.000000</td>\n",
       "      <td>0.000000</td>\n",
       "      <td>0.000000</td>\n",
       "      <td>0.495637</td>\n",
       "      <td>0.070088</td>\n",
       "      <td>0.306122</td>\n",
       "    </tr>\n",
       "  </tbody>\n",
       "</table>\n",
       "</div>"
      ],
      "text/plain": [
       "          0         1         2         3         4         5         6  \\\n",
       "0  0.076923  0.333333  0.771930  0.387755  0.000000  0.472949  0.187735   \n",
       "1  0.461538  0.256410  0.000000  0.000000  0.000000  0.413613  0.056320   \n",
       "2  0.076923  0.435897  0.649123  0.734694  0.000000  0.485166  0.000000   \n",
       "3  0.538462  0.602564  0.684211  0.591837  0.028353  0.614311  0.370463   \n",
       "4  0.307692  0.814103  0.000000  0.000000  0.000000  0.495637  0.070088   \n",
       "\n",
       "          7  \n",
       "0  0.061224  \n",
       "1  0.142857  \n",
       "2  0.183673  \n",
       "3  0.673469  \n",
       "4  0.306122  "
      ]
     },
     "execution_count": 207,
     "metadata": {},
     "output_type": "execute_result"
    }
   ],
   "source": [
    "# Normalizando o dataframe dos dados reais\n",
    "data_norm_real  = preprocessing.MinMaxScaler().fit_transform(df_real_data)\n",
    "new_df_treino_norm_real = pd.DataFrame(data_norm_real)\n",
    "new_df_treino_norm_real.head()"
   ]
  },
  {
   "cell_type": "code",
   "execution_count": 209,
   "metadata": {
    "ExecuteTime": {
     "end_time": "2020-07-15T18:12:45.971571Z",
     "start_time": "2020-07-15T18:12:45.955740Z"
    }
   },
   "outputs": [
    {
     "data": {
      "text/plain": [
       "array([0., 0., 0., 1., 1., 0., 1., 0., 0., 0., 0., 1., 1., 0., 1., 0., 0.,\n",
       "       0., 0., 0., 0., 0., 1., 0., 0., 0., 0., 0., 0., 0., 0., 0., 0., 0.,\n",
       "       0., 0., 0., 0., 0., 0., 0., 0., 0., 0., 0., 1., 0., 1., 0., 0., 0.,\n",
       "       0., 0., 0., 0., 0., 0., 0., 1., 0., 1., 1., 1., 1., 0., 0., 1., 0.,\n",
       "       0., 1., 1., 0., 0., 1., 0., 1., 1., 0., 1., 0., 0., 1., 0., 0., 0.,\n",
       "       0., 0., 0., 0., 1., 0., 1., 0., 0., 0., 0., 1., 0., 0., 0., 0., 0.,\n",
       "       1., 0., 0., 0., 0., 0., 1., 0., 0., 0., 1., 0., 0., 1., 1., 0., 0.,\n",
       "       0., 0., 0., 0., 0., 0., 0., 0., 0., 0., 0., 0., 0., 1., 0., 0., 0.,\n",
       "       0., 0., 0., 0., 1., 0., 0., 1., 1., 0., 1., 0., 1., 0., 0., 0., 0.,\n",
       "       1., 1., 0., 0., 0., 0., 1., 0., 1., 0., 0., 0., 0., 0., 0.])"
      ]
     },
     "execution_count": 209,
     "metadata": {},
     "output_type": "execute_result"
    }
   ],
   "source": [
    "# Aplicando os dados ao modelo\n",
    "prediction_real = model_v1.predict(new_df_treino_norm_real)\n",
    "prediction_real"
   ]
  },
  {
   "cell_type": "code",
   "execution_count": 241,
   "metadata": {
    "ExecuteTime": {
     "end_time": "2020-07-15T18:22:52.248599Z",
     "start_time": "2020-07-15T18:22:52.231523Z"
    }
   },
   "outputs": [
    {
     "data": {
      "text/html": [
       "<div>\n",
       "<style scoped>\n",
       "    .dataframe tbody tr th:only-of-type {\n",
       "        vertical-align: middle;\n",
       "    }\n",
       "\n",
       "    .dataframe tbody tr th {\n",
       "        vertical-align: top;\n",
       "    }\n",
       "\n",
       "    .dataframe thead th {\n",
       "        text-align: right;\n",
       "    }\n",
       "</style>\n",
       "<table border=\"1\" class=\"dataframe\">\n",
       "  <thead>\n",
       "    <tr style=\"text-align: right;\">\n",
       "      <th></th>\n",
       "      <th>0</th>\n",
       "    </tr>\n",
       "  </thead>\n",
       "  <tbody>\n",
       "    <tr>\n",
       "      <th>0</th>\n",
       "      <td>0.0</td>\n",
       "    </tr>\n",
       "    <tr>\n",
       "      <th>1</th>\n",
       "      <td>0.0</td>\n",
       "    </tr>\n",
       "    <tr>\n",
       "      <th>2</th>\n",
       "      <td>0.0</td>\n",
       "    </tr>\n",
       "    <tr>\n",
       "      <th>3</th>\n",
       "      <td>1.0</td>\n",
       "    </tr>\n",
       "    <tr>\n",
       "      <th>4</th>\n",
       "      <td>1.0</td>\n",
       "    </tr>\n",
       "    <tr>\n",
       "      <th>...</th>\n",
       "      <td>...</td>\n",
       "    </tr>\n",
       "    <tr>\n",
       "      <th>163</th>\n",
       "      <td>0.0</td>\n",
       "    </tr>\n",
       "    <tr>\n",
       "      <th>164</th>\n",
       "      <td>0.0</td>\n",
       "    </tr>\n",
       "    <tr>\n",
       "      <th>165</th>\n",
       "      <td>0.0</td>\n",
       "    </tr>\n",
       "    <tr>\n",
       "      <th>166</th>\n",
       "      <td>0.0</td>\n",
       "    </tr>\n",
       "    <tr>\n",
       "      <th>167</th>\n",
       "      <td>0.0</td>\n",
       "    </tr>\n",
       "  </tbody>\n",
       "</table>\n",
       "<p>168 rows × 1 columns</p>\n",
       "</div>"
      ],
      "text/plain": [
       "       0\n",
       "0    0.0\n",
       "1    0.0\n",
       "2    0.0\n",
       "3    1.0\n",
       "4    1.0\n",
       "..   ...\n",
       "163  0.0\n",
       "164  0.0\n",
       "165  0.0\n",
       "166  0.0\n",
       "167  0.0\n",
       "\n",
       "[168 rows x 1 columns]"
      ]
     },
     "execution_count": 241,
     "metadata": {},
     "output_type": "execute_result"
    }
   ],
   "source": [
    "prediction_real = pd.DataFrame(prediction_real)\n",
    "prediction_real"
   ]
  },
  {
   "cell_type": "code",
   "execution_count": 233,
   "metadata": {
    "ExecuteTime": {
     "end_time": "2020-07-15T18:20:23.470431Z",
     "start_time": "2020-07-15T18:20:23.438797Z"
    }
   },
   "outputs": [
    {
     "data": {
      "text/html": [
       "<div>\n",
       "<style scoped>\n",
       "    .dataframe tbody tr th:only-of-type {\n",
       "        vertical-align: middle;\n",
       "    }\n",
       "\n",
       "    .dataframe tbody tr th {\n",
       "        vertical-align: top;\n",
       "    }\n",
       "\n",
       "    .dataframe thead th {\n",
       "        text-align: right;\n",
       "    }\n",
       "</style>\n",
       "<table border=\"1\" class=\"dataframe\">\n",
       "  <thead>\n",
       "    <tr style=\"text-align: right;\">\n",
       "      <th></th>\n",
       "      <th>num_gestacoes</th>\n",
       "      <th>glicose</th>\n",
       "      <th>pressao_sanguinea</th>\n",
       "      <th>grossura_pele</th>\n",
       "      <th>insulina</th>\n",
       "      <th>bmi</th>\n",
       "      <th>indice_historico</th>\n",
       "      <th>idade</th>\n",
       "      <th>0</th>\n",
       "    </tr>\n",
       "  </thead>\n",
       "  <tbody>\n",
       "    <tr>\n",
       "      <th>0</th>\n",
       "      <td>1</td>\n",
       "      <td>108</td>\n",
       "      <td>88</td>\n",
       "      <td>19</td>\n",
       "      <td>0</td>\n",
       "      <td>27.1</td>\n",
       "      <td>0.400</td>\n",
       "      <td>24</td>\n",
       "      <td>0.0</td>\n",
       "    </tr>\n",
       "    <tr>\n",
       "      <th>1</th>\n",
       "      <td>6</td>\n",
       "      <td>96</td>\n",
       "      <td>0</td>\n",
       "      <td>0</td>\n",
       "      <td>0</td>\n",
       "      <td>23.7</td>\n",
       "      <td>0.190</td>\n",
       "      <td>28</td>\n",
       "      <td>0.0</td>\n",
       "    </tr>\n",
       "    <tr>\n",
       "      <th>2</th>\n",
       "      <td>1</td>\n",
       "      <td>124</td>\n",
       "      <td>74</td>\n",
       "      <td>36</td>\n",
       "      <td>0</td>\n",
       "      <td>27.8</td>\n",
       "      <td>0.100</td>\n",
       "      <td>30</td>\n",
       "      <td>0.0</td>\n",
       "    </tr>\n",
       "    <tr>\n",
       "      <th>3</th>\n",
       "      <td>7</td>\n",
       "      <td>150</td>\n",
       "      <td>78</td>\n",
       "      <td>29</td>\n",
       "      <td>126</td>\n",
       "      <td>35.2</td>\n",
       "      <td>0.692</td>\n",
       "      <td>54</td>\n",
       "      <td>1.0</td>\n",
       "    </tr>\n",
       "    <tr>\n",
       "      <th>4</th>\n",
       "      <td>4</td>\n",
       "      <td>183</td>\n",
       "      <td>0</td>\n",
       "      <td>0</td>\n",
       "      <td>0</td>\n",
       "      <td>28.4</td>\n",
       "      <td>0.212</td>\n",
       "      <td>36</td>\n",
       "      <td>1.0</td>\n",
       "    </tr>\n",
       "    <tr>\n",
       "      <th>...</th>\n",
       "      <td>...</td>\n",
       "      <td>...</td>\n",
       "      <td>...</td>\n",
       "      <td>...</td>\n",
       "      <td>...</td>\n",
       "      <td>...</td>\n",
       "      <td>...</td>\n",
       "      <td>...</td>\n",
       "      <td>...</td>\n",
       "    </tr>\n",
       "    <tr>\n",
       "      <th>163</th>\n",
       "      <td>10</td>\n",
       "      <td>101</td>\n",
       "      <td>76</td>\n",
       "      <td>48</td>\n",
       "      <td>180</td>\n",
       "      <td>32.9</td>\n",
       "      <td>0.171</td>\n",
       "      <td>63</td>\n",
       "      <td>0.0</td>\n",
       "    </tr>\n",
       "    <tr>\n",
       "      <th>164</th>\n",
       "      <td>2</td>\n",
       "      <td>122</td>\n",
       "      <td>70</td>\n",
       "      <td>27</td>\n",
       "      <td>0</td>\n",
       "      <td>36.8</td>\n",
       "      <td>0.340</td>\n",
       "      <td>27</td>\n",
       "      <td>0.0</td>\n",
       "    </tr>\n",
       "    <tr>\n",
       "      <th>165</th>\n",
       "      <td>5</td>\n",
       "      <td>121</td>\n",
       "      <td>72</td>\n",
       "      <td>23</td>\n",
       "      <td>112</td>\n",
       "      <td>26.2</td>\n",
       "      <td>0.245</td>\n",
       "      <td>30</td>\n",
       "      <td>0.0</td>\n",
       "    </tr>\n",
       "    <tr>\n",
       "      <th>166</th>\n",
       "      <td>1</td>\n",
       "      <td>126</td>\n",
       "      <td>60</td>\n",
       "      <td>0</td>\n",
       "      <td>0</td>\n",
       "      <td>30.1</td>\n",
       "      <td>0.349</td>\n",
       "      <td>47</td>\n",
       "      <td>0.0</td>\n",
       "    </tr>\n",
       "    <tr>\n",
       "      <th>167</th>\n",
       "      <td>1</td>\n",
       "      <td>93</td>\n",
       "      <td>70</td>\n",
       "      <td>31</td>\n",
       "      <td>0</td>\n",
       "      <td>30.4</td>\n",
       "      <td>0.234</td>\n",
       "      <td>23</td>\n",
       "      <td>0.0</td>\n",
       "    </tr>\n",
       "  </tbody>\n",
       "</table>\n",
       "<p>168 rows × 9 columns</p>\n",
       "</div>"
      ],
      "text/plain": [
       "     num_gestacoes  glicose  pressao_sanguinea  grossura_pele  insulina   bmi  \\\n",
       "0                1      108                 88             19         0  27.1   \n",
       "1                6       96                  0              0         0  23.7   \n",
       "2                1      124                 74             36         0  27.8   \n",
       "3                7      150                 78             29       126  35.2   \n",
       "4                4      183                  0              0         0  28.4   \n",
       "..             ...      ...                ...            ...       ...   ...   \n",
       "163             10      101                 76             48       180  32.9   \n",
       "164              2      122                 70             27         0  36.8   \n",
       "165              5      121                 72             23       112  26.2   \n",
       "166              1      126                 60              0         0  30.1   \n",
       "167              1       93                 70             31         0  30.4   \n",
       "\n",
       "     indice_historico  idade    0  \n",
       "0               0.400     24  0.0  \n",
       "1               0.190     28  0.0  \n",
       "2               0.100     30  0.0  \n",
       "3               0.692     54  1.0  \n",
       "4               0.212     36  1.0  \n",
       "..                ...    ...  ...  \n",
       "163             0.171     63  0.0  \n",
       "164             0.340     27  0.0  \n",
       "165             0.245     30  0.0  \n",
       "166             0.349     47  0.0  \n",
       "167             0.234     23  0.0  \n",
       "\n",
       "[168 rows x 9 columns]"
      ]
     },
     "execution_count": 233,
     "metadata": {},
     "output_type": "execute_result"
    }
   ],
   "source": [
    "# Unindo os resultado previso com a base de dados reais\n",
    "df_final = df_real_data.join(prediction_real)\n",
    "df_final"
   ]
  },
  {
   "cell_type": "code",
   "execution_count": 242,
   "metadata": {
    "ExecuteTime": {
     "end_time": "2020-07-15T18:23:06.367117Z",
     "start_time": "2020-07-15T18:23:06.339749Z"
    }
   },
   "outputs": [
    {
     "data": {
      "text/html": [
       "<div>\n",
       "<style scoped>\n",
       "    .dataframe tbody tr th:only-of-type {\n",
       "        vertical-align: middle;\n",
       "    }\n",
       "\n",
       "    .dataframe tbody tr th {\n",
       "        vertical-align: top;\n",
       "    }\n",
       "\n",
       "    .dataframe thead th {\n",
       "        text-align: right;\n",
       "    }\n",
       "</style>\n",
       "<table border=\"1\" class=\"dataframe\">\n",
       "  <thead>\n",
       "    <tr style=\"text-align: right;\">\n",
       "      <th></th>\n",
       "      <th>num_gestacoes</th>\n",
       "      <th>glicose</th>\n",
       "      <th>pressao_sanguinea</th>\n",
       "      <th>grossura_pele</th>\n",
       "      <th>insulina</th>\n",
       "      <th>bmi</th>\n",
       "      <th>indice_historico</th>\n",
       "      <th>idade</th>\n",
       "      <th>classe</th>\n",
       "    </tr>\n",
       "  </thead>\n",
       "  <tbody>\n",
       "    <tr>\n",
       "      <th>0</th>\n",
       "      <td>1</td>\n",
       "      <td>108</td>\n",
       "      <td>88</td>\n",
       "      <td>19</td>\n",
       "      <td>0</td>\n",
       "      <td>27.1</td>\n",
       "      <td>0.400</td>\n",
       "      <td>24</td>\n",
       "      <td>0.0</td>\n",
       "    </tr>\n",
       "    <tr>\n",
       "      <th>1</th>\n",
       "      <td>6</td>\n",
       "      <td>96</td>\n",
       "      <td>0</td>\n",
       "      <td>0</td>\n",
       "      <td>0</td>\n",
       "      <td>23.7</td>\n",
       "      <td>0.190</td>\n",
       "      <td>28</td>\n",
       "      <td>0.0</td>\n",
       "    </tr>\n",
       "    <tr>\n",
       "      <th>2</th>\n",
       "      <td>1</td>\n",
       "      <td>124</td>\n",
       "      <td>74</td>\n",
       "      <td>36</td>\n",
       "      <td>0</td>\n",
       "      <td>27.8</td>\n",
       "      <td>0.100</td>\n",
       "      <td>30</td>\n",
       "      <td>0.0</td>\n",
       "    </tr>\n",
       "    <tr>\n",
       "      <th>3</th>\n",
       "      <td>7</td>\n",
       "      <td>150</td>\n",
       "      <td>78</td>\n",
       "      <td>29</td>\n",
       "      <td>126</td>\n",
       "      <td>35.2</td>\n",
       "      <td>0.692</td>\n",
       "      <td>54</td>\n",
       "      <td>1.0</td>\n",
       "    </tr>\n",
       "    <tr>\n",
       "      <th>4</th>\n",
       "      <td>4</td>\n",
       "      <td>183</td>\n",
       "      <td>0</td>\n",
       "      <td>0</td>\n",
       "      <td>0</td>\n",
       "      <td>28.4</td>\n",
       "      <td>0.212</td>\n",
       "      <td>36</td>\n",
       "      <td>1.0</td>\n",
       "    </tr>\n",
       "    <tr>\n",
       "      <th>...</th>\n",
       "      <td>...</td>\n",
       "      <td>...</td>\n",
       "      <td>...</td>\n",
       "      <td>...</td>\n",
       "      <td>...</td>\n",
       "      <td>...</td>\n",
       "      <td>...</td>\n",
       "      <td>...</td>\n",
       "      <td>...</td>\n",
       "    </tr>\n",
       "    <tr>\n",
       "      <th>163</th>\n",
       "      <td>10</td>\n",
       "      <td>101</td>\n",
       "      <td>76</td>\n",
       "      <td>48</td>\n",
       "      <td>180</td>\n",
       "      <td>32.9</td>\n",
       "      <td>0.171</td>\n",
       "      <td>63</td>\n",
       "      <td>0.0</td>\n",
       "    </tr>\n",
       "    <tr>\n",
       "      <th>164</th>\n",
       "      <td>2</td>\n",
       "      <td>122</td>\n",
       "      <td>70</td>\n",
       "      <td>27</td>\n",
       "      <td>0</td>\n",
       "      <td>36.8</td>\n",
       "      <td>0.340</td>\n",
       "      <td>27</td>\n",
       "      <td>0.0</td>\n",
       "    </tr>\n",
       "    <tr>\n",
       "      <th>165</th>\n",
       "      <td>5</td>\n",
       "      <td>121</td>\n",
       "      <td>72</td>\n",
       "      <td>23</td>\n",
       "      <td>112</td>\n",
       "      <td>26.2</td>\n",
       "      <td>0.245</td>\n",
       "      <td>30</td>\n",
       "      <td>0.0</td>\n",
       "    </tr>\n",
       "    <tr>\n",
       "      <th>166</th>\n",
       "      <td>1</td>\n",
       "      <td>126</td>\n",
       "      <td>60</td>\n",
       "      <td>0</td>\n",
       "      <td>0</td>\n",
       "      <td>30.1</td>\n",
       "      <td>0.349</td>\n",
       "      <td>47</td>\n",
       "      <td>0.0</td>\n",
       "    </tr>\n",
       "    <tr>\n",
       "      <th>167</th>\n",
       "      <td>1</td>\n",
       "      <td>93</td>\n",
       "      <td>70</td>\n",
       "      <td>31</td>\n",
       "      <td>0</td>\n",
       "      <td>30.4</td>\n",
       "      <td>0.234</td>\n",
       "      <td>23</td>\n",
       "      <td>0.0</td>\n",
       "    </tr>\n",
       "  </tbody>\n",
       "</table>\n",
       "<p>168 rows × 9 columns</p>\n",
       "</div>"
      ],
      "text/plain": [
       "     num_gestacoes  glicose  pressao_sanguinea  grossura_pele  insulina   bmi  \\\n",
       "0                1      108                 88             19         0  27.1   \n",
       "1                6       96                  0              0         0  23.7   \n",
       "2                1      124                 74             36         0  27.8   \n",
       "3                7      150                 78             29       126  35.2   \n",
       "4                4      183                  0              0         0  28.4   \n",
       "..             ...      ...                ...            ...       ...   ...   \n",
       "163             10      101                 76             48       180  32.9   \n",
       "164              2      122                 70             27         0  36.8   \n",
       "165              5      121                 72             23       112  26.2   \n",
       "166              1      126                 60              0         0  30.1   \n",
       "167              1       93                 70             31         0  30.4   \n",
       "\n",
       "     indice_historico  idade  classe  \n",
       "0               0.400     24     0.0  \n",
       "1               0.190     28     0.0  \n",
       "2               0.100     30     0.0  \n",
       "3               0.692     54     1.0  \n",
       "4               0.212     36     1.0  \n",
       "..                ...    ...     ...  \n",
       "163             0.171     63     0.0  \n",
       "164             0.340     27     0.0  \n",
       "165             0.245     30     0.0  \n",
       "166             0.349     47     0.0  \n",
       "167             0.234     23     0.0  \n",
       "\n",
       "[168 rows x 9 columns]"
      ]
     },
     "execution_count": 242,
     "metadata": {},
     "output_type": "execute_result"
    }
   ],
   "source": [
    "df_final.rename(columns={0: \"classe\"}, inplace=True)\n",
    "df_final"
   ]
  },
  {
   "cell_type": "code",
   "execution_count": 246,
   "metadata": {
    "ExecuteTime": {
     "end_time": "2020-07-15T18:24:22.150199Z",
     "start_time": "2020-07-15T18:24:22.143105Z"
    }
   },
   "outputs": [
    {
     "data": {
      "text/plain": [
       "0.0    128\n",
       "1.0     40\n",
       "Name: classe, dtype: int64"
      ]
     },
     "execution_count": 246,
     "metadata": {},
     "output_type": "execute_result"
    }
   ],
   "source": [
    "df_final.classe.value_counts()"
   ]
  },
  {
   "cell_type": "code",
   "execution_count": 247,
   "metadata": {
    "ExecuteTime": {
     "end_time": "2020-07-15T18:24:43.003812Z",
     "start_time": "2020-07-15T18:24:42.905139Z"
    }
   },
   "outputs": [
    {
     "data": {
      "text/plain": [
       "(array([128.,   0.,   0.,   0.,   0.,   0.,   0.,   0.,   0.,  40.]),\n",
       " array([0. , 0.1, 0.2, 0.3, 0.4, 0.5, 0.6, 0.7, 0.8, 0.9, 1. ]),\n",
       " <a list of 10 Patch objects>)"
      ]
     },
     "execution_count": 247,
     "metadata": {},
     "output_type": "execute_result"
    },
    {
     "data": {
      "image/png": "[encoded data removed]",
      "text/plain": [
       "<Figure size 432x288 with 1 Axes>"
      ]
     },
     "metadata": {
      "needs_background": "light"
     },
     "output_type": "display_data"
    }
   ],
   "source": [
    "plt.hist(df_final.classe)"
   ]
  },
  {
   "cell_type": "markdown",
   "metadata": {},
   "source": [
    "# Fim"
   ]
  },
  {
   "cell_type": "code",
   "execution_count": null,
   "metadata": {},
   "outputs": [],
   "source": []
  }
 ],
 "metadata": {
  "kernelspec": {
   "display_name": "Python 3",
   "language": "python",
   "name": "python3"
  },
  "language_info": {
   "codemirror_mode": {
    "name": "ipython",
    "version": 3
   },
   "file_extension": ".py",
   "mimetype": "text/x-python",
   "name": "python",
   "nbconvert_exporter": "python",
   "pygments_lexer": "ipython3",
   "version": "3.7.6"
  },
  "toc": {
   "base_numbering": 1,
   "nav_menu": {},
   "number_sections": true,
   "sideBar": true,
   "skip_h1_title": false,
   "title_cell": "Table of Contents",
   "title_sidebar": "Contents",
   "toc_cell": false,
   "toc_position": {},
   "toc_section_display": true,
   "toc_window_display": false
  },
  "varInspector": {
   "cols": {
    "lenName": 16,
    "lenType": 16,
    "lenVar": 40
   },
   "kernels_config": {
    "python": {
     "delete_cmd_postfix": "",
     "delete_cmd_prefix": "del ",
     "library": "var_list.py",
     "varRefreshCmd": "print(var_dic_list())"
    },
    "r": {
     "delete_cmd_postfix": ") ",
     "delete_cmd_prefix": "rm(",
     "library": "var_list.r",
     "varRefreshCmd": "cat(var_dic_list()) "
    }
   },
   "types_to_exclude": [
    "module",
    "function",
    "builtin_function_or_method",
    "instance",
    "_Feature"
   ],
   "window_display": false
  }
 },
 "nbformat": 4,
 "nbformat_minor": 4
}
